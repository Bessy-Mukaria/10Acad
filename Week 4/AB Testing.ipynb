{
  "nbformat": 4,
  "nbformat_minor": 0,
  "metadata": {
    "kernelspec": {
      "display_name": "Python 3",
      "language": "python",
      "name": "python3"
    },
    "language_info": {
      "codemirror_mode": {
        "name": "ipython",
        "version": 3
      },
      "file_extension": ".py",
      "mimetype": "text/x-python",
      "name": "python",
      "nbconvert_exporter": "python",
      "pygments_lexer": "ipython3",
      "version": "3.7.6"
    },
    "colab": {
      "name": "Untitled.ipynb",
      "provenance": []
    }
  },
  "cells": [
    {
      "cell_type": "code",
      "metadata": {
        "id": "WgRiYegJryWM",
        "colab_type": "code",
        "colab": {}
      },
      "source": [
        "import pandas as pd\n",
        "import numpy as np\n",
        "import matplotlib as mpl\n",
        "import matplotlib.pyplot as plt\n",
        "import math as mt\n",
        "import seaborn as sns\n",
        "sns.set()\n",
        "from scipy import stats\n",
        "from scipy.stats import norm\n",
        "from scipy.stats import binom\n",
        "from sklearn import linear_model\n",
        "from sklearn import preprocessing as ppr\n",
        "from sklearn.model_selection import train_test_split\n",
        "from sklearn.metrics import mean_squared_error\n",
        "from sklearn.linear_model import LogisticRegression\n",
        "from sklearn.model_selection import cross_val_score, cross_val_predict\n",
        "from sklearn import metrics\n",
        "from sklearn.tree import DecisionTreeClassifier\n",
        "from sklearn.metrics import confusion_matrix\n",
        "from sklearn.tree import export_graphviz\n",
        "from sklearn.externals.six import StringIO \n",
        "from IPython.display import Image \n",
        "from pydot import graph_from_dot_data\n",
        "import xgboost as xgb"
      ],
      "execution_count": 80,
      "outputs": []
    },
    {
      "cell_type": "code",
      "metadata": {
        "id": "IGyEUJ4LryW_",
        "colab_type": "code",
        "colab": {}
      },
      "source": [
        "def read_any_csv(data):\n",
        "    csv_output = pd.read_csv(data)\n",
        "    return csv_output"
      ],
      "execution_count": 32,
      "outputs": []
    },
    {
      "cell_type": "code",
      "metadata": {
        "id": "yjXQL32nryXP",
        "colab_type": "code",
        "colab": {}
      },
      "source": [
        "my_data = (\"https://github.com/busgandy/10Acad/blob/master/Week%204/AdSmartABdata.csv\")"
      ],
      "execution_count": 25,
      "outputs": []
    },
    {
      "cell_type": "code",
      "metadata": {
        "id": "DIgBDct3v93_",
        "colab_type": "code",
        "colab": {}
      },
      "source": [
        "from pydrive.auth import GoogleAuth\n",
        "from pydrive.drive import GoogleDrive\n",
        "from google.colab import auth\n",
        "from oauth2client.client import GoogleCredentials"
      ],
      "execution_count": 28,
      "outputs": []
    },
    {
      "cell_type": "code",
      "metadata": {
        "id": "Nts1gQK3v-U5",
        "colab_type": "code",
        "colab": {}
      },
      "source": [
        "auth.authenticate_user()\n",
        "gauth = GoogleAuth()\n",
        "gauth.credentials = GoogleCredentials.get_application_default()\n",
        "drive = GoogleDrive(gauth)"
      ],
      "execution_count": 29,
      "outputs": []
    },
    {
      "cell_type": "code",
      "metadata": {
        "id": "LSCr2AzUv-uJ",
        "colab_type": "code",
        "colab": {}
      },
      "source": [
        "downloaded = drive.CreateFile({'id':\"1YSn01vvlHKQaAIBtwIXRNd-oTaTuDN09\"}) \n",
        "downloaded.GetContentFile('ABAdRecall.csv')"
      ],
      "execution_count": 30,
      "outputs": []
    },
    {
      "cell_type": "code",
      "metadata": {
        "id": "qx01NEO5wUmV",
        "colab_type": "code",
        "colab": {
          "base_uri": "https://localhost:8080/",
          "height": 391
        },
        "outputId": "31cd0bdd-9532-47b9-8084-5d828264623c"
      },
      "source": [
        "\n",
        "data=('ABAdRecall.csv')\n",
        "read_any_csv(data)"
      ],
      "execution_count": 33,
      "outputs": [
        {
          "output_type": "execute_result",
          "data": {
            "text/html": [
              "<div>\n",
              "<style scoped>\n",
              "    .dataframe tbody tr th:only-of-type {\n",
              "        vertical-align: middle;\n",
              "    }\n",
              "\n",
              "    .dataframe tbody tr th {\n",
              "        vertical-align: top;\n",
              "    }\n",
              "\n",
              "    .dataframe thead th {\n",
              "        text-align: right;\n",
              "    }\n",
              "</style>\n",
              "<table border=\"1\" class=\"dataframe\">\n",
              "  <thead>\n",
              "    <tr style=\"text-align: right;\">\n",
              "      <th></th>\n",
              "      <th>auction_id</th>\n",
              "      <th>experiment</th>\n",
              "      <th>date</th>\n",
              "      <th>hour</th>\n",
              "      <th>device_make</th>\n",
              "      <th>platform_os</th>\n",
              "      <th>browser</th>\n",
              "      <th>yes</th>\n",
              "      <th>no</th>\n",
              "    </tr>\n",
              "  </thead>\n",
              "  <tbody>\n",
              "    <tr>\n",
              "      <th>0</th>\n",
              "      <td>0008ef63-77a7-448b-bd1e-075f42c55e39</td>\n",
              "      <td>exposed</td>\n",
              "      <td>2020-07-10</td>\n",
              "      <td>8</td>\n",
              "      <td>Generic Smartphone</td>\n",
              "      <td>6</td>\n",
              "      <td>Chrome Mobile</td>\n",
              "      <td>0</td>\n",
              "      <td>0</td>\n",
              "    </tr>\n",
              "    <tr>\n",
              "      <th>1</th>\n",
              "      <td>000eabc5-17ce-4137-8efe-44734d914446</td>\n",
              "      <td>exposed</td>\n",
              "      <td>2020-07-07</td>\n",
              "      <td>10</td>\n",
              "      <td>Generic Smartphone</td>\n",
              "      <td>6</td>\n",
              "      <td>Chrome Mobile</td>\n",
              "      <td>0</td>\n",
              "      <td>0</td>\n",
              "    </tr>\n",
              "    <tr>\n",
              "      <th>2</th>\n",
              "      <td>0016d14a-ae18-4a02-a204-6ba53b52f2ed</td>\n",
              "      <td>exposed</td>\n",
              "      <td>2020-07-05</td>\n",
              "      <td>2</td>\n",
              "      <td>E5823</td>\n",
              "      <td>6</td>\n",
              "      <td>Chrome Mobile WebView</td>\n",
              "      <td>0</td>\n",
              "      <td>1</td>\n",
              "    </tr>\n",
              "    <tr>\n",
              "      <th>3</th>\n",
              "      <td>00187412-2932-4542-a8ef-3633901c98d9</td>\n",
              "      <td>control</td>\n",
              "      <td>2020-07-03</td>\n",
              "      <td>15</td>\n",
              "      <td>Samsung SM-A705FN</td>\n",
              "      <td>6</td>\n",
              "      <td>Facebook</td>\n",
              "      <td>0</td>\n",
              "      <td>0</td>\n",
              "    </tr>\n",
              "    <tr>\n",
              "      <th>4</th>\n",
              "      <td>001a7785-d3fe-4e11-a344-c8735acacc2c</td>\n",
              "      <td>control</td>\n",
              "      <td>2020-07-03</td>\n",
              "      <td>15</td>\n",
              "      <td>Generic Smartphone</td>\n",
              "      <td>6</td>\n",
              "      <td>Chrome Mobile</td>\n",
              "      <td>0</td>\n",
              "      <td>0</td>\n",
              "    </tr>\n",
              "    <tr>\n",
              "      <th>...</th>\n",
              "      <td>...</td>\n",
              "      <td>...</td>\n",
              "      <td>...</td>\n",
              "      <td>...</td>\n",
              "      <td>...</td>\n",
              "      <td>...</td>\n",
              "      <td>...</td>\n",
              "      <td>...</td>\n",
              "      <td>...</td>\n",
              "    </tr>\n",
              "    <tr>\n",
              "      <th>8072</th>\n",
              "      <td>ffea24ec-cec1-43fb-b1d1-8f93828c2be2</td>\n",
              "      <td>exposed</td>\n",
              "      <td>2020-07-05</td>\n",
              "      <td>7</td>\n",
              "      <td>Generic Smartphone</td>\n",
              "      <td>6</td>\n",
              "      <td>Chrome Mobile</td>\n",
              "      <td>0</td>\n",
              "      <td>0</td>\n",
              "    </tr>\n",
              "    <tr>\n",
              "      <th>8073</th>\n",
              "      <td>ffea3210-2c3e-426f-a77d-0aa72e73b20f</td>\n",
              "      <td>control</td>\n",
              "      <td>2020-07-03</td>\n",
              "      <td>15</td>\n",
              "      <td>Generic Smartphone</td>\n",
              "      <td>6</td>\n",
              "      <td>Chrome Mobile</td>\n",
              "      <td>0</td>\n",
              "      <td>0</td>\n",
              "    </tr>\n",
              "    <tr>\n",
              "      <th>8074</th>\n",
              "      <td>ffeaa0f1-1d72-4ba9-afb4-314b3b00a7c7</td>\n",
              "      <td>control</td>\n",
              "      <td>2020-07-04</td>\n",
              "      <td>9</td>\n",
              "      <td>Generic Smartphone</td>\n",
              "      <td>6</td>\n",
              "      <td>Chrome Mobile</td>\n",
              "      <td>0</td>\n",
              "      <td>0</td>\n",
              "    </tr>\n",
              "    <tr>\n",
              "      <th>8075</th>\n",
              "      <td>ffeeed62-3f7c-4a6e-8ba7-95d303d40969</td>\n",
              "      <td>exposed</td>\n",
              "      <td>2020-07-05</td>\n",
              "      <td>15</td>\n",
              "      <td>Samsung SM-A515F</td>\n",
              "      <td>6</td>\n",
              "      <td>Samsung Internet</td>\n",
              "      <td>0</td>\n",
              "      <td>0</td>\n",
              "    </tr>\n",
              "    <tr>\n",
              "      <th>8076</th>\n",
              "      <td>fffbb9ff-568a-41a5-a0c3-6866592f80d8</td>\n",
              "      <td>control</td>\n",
              "      <td>2020-07-10</td>\n",
              "      <td>14</td>\n",
              "      <td>Samsung SM-G960F</td>\n",
              "      <td>6</td>\n",
              "      <td>Facebook</td>\n",
              "      <td>0</td>\n",
              "      <td>0</td>\n",
              "    </tr>\n",
              "  </tbody>\n",
              "</table>\n",
              "<p>8077 rows × 9 columns</p>\n",
              "</div>"
            ],
            "text/plain": [
              "                                auction_id experiment  ... yes  no\n",
              "0     0008ef63-77a7-448b-bd1e-075f42c55e39    exposed  ...   0   0\n",
              "1     000eabc5-17ce-4137-8efe-44734d914446    exposed  ...   0   0\n",
              "2     0016d14a-ae18-4a02-a204-6ba53b52f2ed    exposed  ...   0   1\n",
              "3     00187412-2932-4542-a8ef-3633901c98d9    control  ...   0   0\n",
              "4     001a7785-d3fe-4e11-a344-c8735acacc2c    control  ...   0   0\n",
              "...                                    ...        ...  ...  ..  ..\n",
              "8072  ffea24ec-cec1-43fb-b1d1-8f93828c2be2    exposed  ...   0   0\n",
              "8073  ffea3210-2c3e-426f-a77d-0aa72e73b20f    control  ...   0   0\n",
              "8074  ffeaa0f1-1d72-4ba9-afb4-314b3b00a7c7    control  ...   0   0\n",
              "8075  ffeeed62-3f7c-4a6e-8ba7-95d303d40969    exposed  ...   0   0\n",
              "8076  fffbb9ff-568a-41a5-a0c3-6866592f80d8    control  ...   0   0\n",
              "\n",
              "[8077 rows x 9 columns]"
            ]
          },
          "metadata": {
            "tags": []
          },
          "execution_count": 33
        }
      ]
    },
    {
      "cell_type": "code",
      "metadata": {
        "id": "_yO_H0IxwUeE",
        "colab_type": "code",
        "colab": {}
      },
      "source": [
        ""
      ],
      "execution_count": null,
      "outputs": []
    },
    {
      "cell_type": "code",
      "metadata": {
        "id": "F_JBgbrcryXk",
        "colab_type": "code",
        "colab": {}
      },
      "source": [
        "variable_one = read_any_csv(data)"
      ],
      "execution_count": 35,
      "outputs": []
    },
    {
      "cell_type": "markdown",
      "metadata": {
        "id": "9JdMHjH2ryX3",
        "colab_type": "text"
      },
      "source": [
        "# Classic and sequential A/B testing analysis"
      ]
    },
    {
      "cell_type": "markdown",
      "metadata": {
        "id": "yqK5ntdyryX7",
        "colab_type": "text"
      },
      "source": [
        "## Data exploration to count unique values of categorical variables"
      ]
    },
    {
      "cell_type": "code",
      "metadata": {
        "id": "EIzb8joaryX-",
        "colab_type": "code",
        "colab": {
          "base_uri": "https://localhost:8080/",
          "height": 191
        },
        "outputId": "aa40cf5f-62fa-4904-c028-1edabb731cf4"
      },
      "source": [
        "variable_one.head()"
      ],
      "execution_count": 36,
      "outputs": [
        {
          "output_type": "execute_result",
          "data": {
            "text/html": [
              "<div>\n",
              "<style scoped>\n",
              "    .dataframe tbody tr th:only-of-type {\n",
              "        vertical-align: middle;\n",
              "    }\n",
              "\n",
              "    .dataframe tbody tr th {\n",
              "        vertical-align: top;\n",
              "    }\n",
              "\n",
              "    .dataframe thead th {\n",
              "        text-align: right;\n",
              "    }\n",
              "</style>\n",
              "<table border=\"1\" class=\"dataframe\">\n",
              "  <thead>\n",
              "    <tr style=\"text-align: right;\">\n",
              "      <th></th>\n",
              "      <th>auction_id</th>\n",
              "      <th>experiment</th>\n",
              "      <th>date</th>\n",
              "      <th>hour</th>\n",
              "      <th>device_make</th>\n",
              "      <th>platform_os</th>\n",
              "      <th>browser</th>\n",
              "      <th>yes</th>\n",
              "      <th>no</th>\n",
              "    </tr>\n",
              "  </thead>\n",
              "  <tbody>\n",
              "    <tr>\n",
              "      <th>0</th>\n",
              "      <td>0008ef63-77a7-448b-bd1e-075f42c55e39</td>\n",
              "      <td>exposed</td>\n",
              "      <td>2020-07-10</td>\n",
              "      <td>8</td>\n",
              "      <td>Generic Smartphone</td>\n",
              "      <td>6</td>\n",
              "      <td>Chrome Mobile</td>\n",
              "      <td>0</td>\n",
              "      <td>0</td>\n",
              "    </tr>\n",
              "    <tr>\n",
              "      <th>1</th>\n",
              "      <td>000eabc5-17ce-4137-8efe-44734d914446</td>\n",
              "      <td>exposed</td>\n",
              "      <td>2020-07-07</td>\n",
              "      <td>10</td>\n",
              "      <td>Generic Smartphone</td>\n",
              "      <td>6</td>\n",
              "      <td>Chrome Mobile</td>\n",
              "      <td>0</td>\n",
              "      <td>0</td>\n",
              "    </tr>\n",
              "    <tr>\n",
              "      <th>2</th>\n",
              "      <td>0016d14a-ae18-4a02-a204-6ba53b52f2ed</td>\n",
              "      <td>exposed</td>\n",
              "      <td>2020-07-05</td>\n",
              "      <td>2</td>\n",
              "      <td>E5823</td>\n",
              "      <td>6</td>\n",
              "      <td>Chrome Mobile WebView</td>\n",
              "      <td>0</td>\n",
              "      <td>1</td>\n",
              "    </tr>\n",
              "    <tr>\n",
              "      <th>3</th>\n",
              "      <td>00187412-2932-4542-a8ef-3633901c98d9</td>\n",
              "      <td>control</td>\n",
              "      <td>2020-07-03</td>\n",
              "      <td>15</td>\n",
              "      <td>Samsung SM-A705FN</td>\n",
              "      <td>6</td>\n",
              "      <td>Facebook</td>\n",
              "      <td>0</td>\n",
              "      <td>0</td>\n",
              "    </tr>\n",
              "    <tr>\n",
              "      <th>4</th>\n",
              "      <td>001a7785-d3fe-4e11-a344-c8735acacc2c</td>\n",
              "      <td>control</td>\n",
              "      <td>2020-07-03</td>\n",
              "      <td>15</td>\n",
              "      <td>Generic Smartphone</td>\n",
              "      <td>6</td>\n",
              "      <td>Chrome Mobile</td>\n",
              "      <td>0</td>\n",
              "      <td>0</td>\n",
              "    </tr>\n",
              "  </tbody>\n",
              "</table>\n",
              "</div>"
            ],
            "text/plain": [
              "                             auction_id experiment  ... yes  no\n",
              "0  0008ef63-77a7-448b-bd1e-075f42c55e39    exposed  ...   0   0\n",
              "1  000eabc5-17ce-4137-8efe-44734d914446    exposed  ...   0   0\n",
              "2  0016d14a-ae18-4a02-a204-6ba53b52f2ed    exposed  ...   0   1\n",
              "3  00187412-2932-4542-a8ef-3633901c98d9    control  ...   0   0\n",
              "4  001a7785-d3fe-4e11-a344-c8735acacc2c    control  ...   0   0\n",
              "\n",
              "[5 rows x 9 columns]"
            ]
          },
          "metadata": {
            "tags": []
          },
          "execution_count": 36
        }
      ]
    },
    {
      "cell_type": "code",
      "metadata": {
        "id": "82ZsHOtNryYQ",
        "colab_type": "code",
        "colab": {
          "base_uri": "https://localhost:8080/",
          "height": 191
        },
        "outputId": "69df6c0b-46f2-4362-d17b-8eafd2b6e280"
      },
      "source": [
        "variable_one.tail()"
      ],
      "execution_count": 37,
      "outputs": [
        {
          "output_type": "execute_result",
          "data": {
            "text/html": [
              "<div>\n",
              "<style scoped>\n",
              "    .dataframe tbody tr th:only-of-type {\n",
              "        vertical-align: middle;\n",
              "    }\n",
              "\n",
              "    .dataframe tbody tr th {\n",
              "        vertical-align: top;\n",
              "    }\n",
              "\n",
              "    .dataframe thead th {\n",
              "        text-align: right;\n",
              "    }\n",
              "</style>\n",
              "<table border=\"1\" class=\"dataframe\">\n",
              "  <thead>\n",
              "    <tr style=\"text-align: right;\">\n",
              "      <th></th>\n",
              "      <th>auction_id</th>\n",
              "      <th>experiment</th>\n",
              "      <th>date</th>\n",
              "      <th>hour</th>\n",
              "      <th>device_make</th>\n",
              "      <th>platform_os</th>\n",
              "      <th>browser</th>\n",
              "      <th>yes</th>\n",
              "      <th>no</th>\n",
              "    </tr>\n",
              "  </thead>\n",
              "  <tbody>\n",
              "    <tr>\n",
              "      <th>8072</th>\n",
              "      <td>ffea24ec-cec1-43fb-b1d1-8f93828c2be2</td>\n",
              "      <td>exposed</td>\n",
              "      <td>2020-07-05</td>\n",
              "      <td>7</td>\n",
              "      <td>Generic Smartphone</td>\n",
              "      <td>6</td>\n",
              "      <td>Chrome Mobile</td>\n",
              "      <td>0</td>\n",
              "      <td>0</td>\n",
              "    </tr>\n",
              "    <tr>\n",
              "      <th>8073</th>\n",
              "      <td>ffea3210-2c3e-426f-a77d-0aa72e73b20f</td>\n",
              "      <td>control</td>\n",
              "      <td>2020-07-03</td>\n",
              "      <td>15</td>\n",
              "      <td>Generic Smartphone</td>\n",
              "      <td>6</td>\n",
              "      <td>Chrome Mobile</td>\n",
              "      <td>0</td>\n",
              "      <td>0</td>\n",
              "    </tr>\n",
              "    <tr>\n",
              "      <th>8074</th>\n",
              "      <td>ffeaa0f1-1d72-4ba9-afb4-314b3b00a7c7</td>\n",
              "      <td>control</td>\n",
              "      <td>2020-07-04</td>\n",
              "      <td>9</td>\n",
              "      <td>Generic Smartphone</td>\n",
              "      <td>6</td>\n",
              "      <td>Chrome Mobile</td>\n",
              "      <td>0</td>\n",
              "      <td>0</td>\n",
              "    </tr>\n",
              "    <tr>\n",
              "      <th>8075</th>\n",
              "      <td>ffeeed62-3f7c-4a6e-8ba7-95d303d40969</td>\n",
              "      <td>exposed</td>\n",
              "      <td>2020-07-05</td>\n",
              "      <td>15</td>\n",
              "      <td>Samsung SM-A515F</td>\n",
              "      <td>6</td>\n",
              "      <td>Samsung Internet</td>\n",
              "      <td>0</td>\n",
              "      <td>0</td>\n",
              "    </tr>\n",
              "    <tr>\n",
              "      <th>8076</th>\n",
              "      <td>fffbb9ff-568a-41a5-a0c3-6866592f80d8</td>\n",
              "      <td>control</td>\n",
              "      <td>2020-07-10</td>\n",
              "      <td>14</td>\n",
              "      <td>Samsung SM-G960F</td>\n",
              "      <td>6</td>\n",
              "      <td>Facebook</td>\n",
              "      <td>0</td>\n",
              "      <td>0</td>\n",
              "    </tr>\n",
              "  </tbody>\n",
              "</table>\n",
              "</div>"
            ],
            "text/plain": [
              "                                auction_id experiment  ... yes  no\n",
              "8072  ffea24ec-cec1-43fb-b1d1-8f93828c2be2    exposed  ...   0   0\n",
              "8073  ffea3210-2c3e-426f-a77d-0aa72e73b20f    control  ...   0   0\n",
              "8074  ffeaa0f1-1d72-4ba9-afb4-314b3b00a7c7    control  ...   0   0\n",
              "8075  ffeeed62-3f7c-4a6e-8ba7-95d303d40969    exposed  ...   0   0\n",
              "8076  fffbb9ff-568a-41a5-a0c3-6866592f80d8    control  ...   0   0\n",
              "\n",
              "[5 rows x 9 columns]"
            ]
          },
          "metadata": {
            "tags": []
          },
          "execution_count": 37
        }
      ]
    },
    {
      "cell_type": "code",
      "metadata": {
        "id": "l0Gu7oEoryYh",
        "colab_type": "code",
        "colab": {}
      },
      "source": [
        "def control_yes(variable_any):\n",
        "    answer = variable_any.loc[variable_any['yes'] == 1].count()\n",
        "    return answer"
      ],
      "execution_count": 38,
      "outputs": []
    },
    {
      "cell_type": "markdown",
      "metadata": {
        "id": "qotkeojyryYt",
        "colab_type": "text"
      },
      "source": [
        "### Getting the Control Group Counts"
      ]
    },
    {
      "cell_type": "code",
      "metadata": {
        "id": "2uSdPv_gryYw",
        "colab_type": "code",
        "colab": {
          "base_uri": "https://localhost:8080/",
          "height": 133
        },
        "outputId": "531a88b8-0d67-403f-a1c1-b824f0fd0736"
      },
      "source": [
        "#controls = variable_one.loc[variable_one[\"experiment\"] == \"control\"].count\n",
        "#controls\n",
        "control_group = variable_one.groupby([variable_one[\"experiment\"] == \"control\"])[['yes','no']].sum()\n",
        "control_group"
      ],
      "execution_count": 39,
      "outputs": [
        {
          "output_type": "execute_result",
          "data": {
            "text/html": [
              "<div>\n",
              "<style scoped>\n",
              "    .dataframe tbody tr th:only-of-type {\n",
              "        vertical-align: middle;\n",
              "    }\n",
              "\n",
              "    .dataframe tbody tr th {\n",
              "        vertical-align: top;\n",
              "    }\n",
              "\n",
              "    .dataframe thead th {\n",
              "        text-align: right;\n",
              "    }\n",
              "</style>\n",
              "<table border=\"1\" class=\"dataframe\">\n",
              "  <thead>\n",
              "    <tr style=\"text-align: right;\">\n",
              "      <th></th>\n",
              "      <th>yes</th>\n",
              "      <th>no</th>\n",
              "    </tr>\n",
              "    <tr>\n",
              "      <th>experiment</th>\n",
              "      <th></th>\n",
              "      <th></th>\n",
              "    </tr>\n",
              "  </thead>\n",
              "  <tbody>\n",
              "    <tr>\n",
              "      <th>False</th>\n",
              "      <td>308</td>\n",
              "      <td>349</td>\n",
              "    </tr>\n",
              "    <tr>\n",
              "      <th>True</th>\n",
              "      <td>264</td>\n",
              "      <td>322</td>\n",
              "    </tr>\n",
              "  </tbody>\n",
              "</table>\n",
              "</div>"
            ],
            "text/plain": [
              "            yes   no\n",
              "experiment          \n",
              "False       308  349\n",
              "True        264  322"
            ]
          },
          "metadata": {
            "tags": []
          },
          "execution_count": 39
        }
      ]
    },
    {
      "cell_type": "markdown",
      "metadata": {
        "id": "8dzXTsV4ryY5",
        "colab_type": "text"
      },
      "source": [
        "### This means that for the Control Experiment, 264 people clicked YES, while 322 people clicked NO"
      ]
    },
    {
      "cell_type": "code",
      "metadata": {
        "id": "AQklZPY0ryY7",
        "colab_type": "code",
        "colab": {
          "base_uri": "https://localhost:8080/",
          "height": 33
        },
        "outputId": "241e0dbe-266f-4aa5-9383-5b2d1a288f04"
      },
      "source": [
        "clicks_cont = 264+322\n",
        "print(\"The total number of clicks for Control Users is:\", clicks_cont)"
      ],
      "execution_count": 40,
      "outputs": [
        {
          "output_type": "stream",
          "text": [
            "The total number of clicks for Control Users is: 586\n"
          ],
          "name": "stdout"
        }
      ]
    },
    {
      "cell_type": "markdown",
      "metadata": {
        "id": "Hs36qBgzryZD",
        "colab_type": "text"
      },
      "source": [
        "### Getting the Exposed Group Counts"
      ]
    },
    {
      "cell_type": "code",
      "metadata": {
        "id": "C1xG3nCNryZF",
        "colab_type": "code",
        "colab": {
          "base_uri": "https://localhost:8080/",
          "height": 133
        },
        "outputId": "c649f42b-bd12-4b13-f476-7418f275e379"
      },
      "source": [
        "exposed_group = variable_one.groupby([variable_one[\"experiment\"] == \"exposed\"])[['yes','no']].sum()\n",
        "exposed_group"
      ],
      "execution_count": 41,
      "outputs": [
        {
          "output_type": "execute_result",
          "data": {
            "text/html": [
              "<div>\n",
              "<style scoped>\n",
              "    .dataframe tbody tr th:only-of-type {\n",
              "        vertical-align: middle;\n",
              "    }\n",
              "\n",
              "    .dataframe tbody tr th {\n",
              "        vertical-align: top;\n",
              "    }\n",
              "\n",
              "    .dataframe thead th {\n",
              "        text-align: right;\n",
              "    }\n",
              "</style>\n",
              "<table border=\"1\" class=\"dataframe\">\n",
              "  <thead>\n",
              "    <tr style=\"text-align: right;\">\n",
              "      <th></th>\n",
              "      <th>yes</th>\n",
              "      <th>no</th>\n",
              "    </tr>\n",
              "    <tr>\n",
              "      <th>experiment</th>\n",
              "      <th></th>\n",
              "      <th></th>\n",
              "    </tr>\n",
              "  </thead>\n",
              "  <tbody>\n",
              "    <tr>\n",
              "      <th>False</th>\n",
              "      <td>264</td>\n",
              "      <td>322</td>\n",
              "    </tr>\n",
              "    <tr>\n",
              "      <th>True</th>\n",
              "      <td>308</td>\n",
              "      <td>349</td>\n",
              "    </tr>\n",
              "  </tbody>\n",
              "</table>\n",
              "</div>"
            ],
            "text/plain": [
              "            yes   no\n",
              "experiment          \n",
              "False       264  322\n",
              "True        308  349"
            ]
          },
          "metadata": {
            "tags": []
          },
          "execution_count": 41
        }
      ]
    },
    {
      "cell_type": "markdown",
      "metadata": {
        "id": "C5WDQ8XkryZQ",
        "colab_type": "text"
      },
      "source": [
        "### This means that for the Exposed Experiment, 308 clicked YES, while 349 clicked NO"
      ]
    },
    {
      "cell_type": "code",
      "metadata": {
        "id": "6B-VhZJrryZS",
        "colab_type": "code",
        "colab": {
          "base_uri": "https://localhost:8080/",
          "height": 33
        },
        "outputId": "7a3e6d1e-4d69-437e-8d51-897d015b7fb1"
      },
      "source": [
        "clicks_exp = 308+349\n",
        "print(\"The total number of clicks for Exposed Users is:\", clicks_exp)"
      ],
      "execution_count": 42,
      "outputs": [
        {
          "output_type": "stream",
          "text": [
            "The total number of clicks for Exposed Users is: 657\n"
          ],
          "name": "stdout"
        }
      ]
    },
    {
      "cell_type": "code",
      "metadata": {
        "id": "o0ASN7EXryZb",
        "colab_type": "code",
        "colab": {
          "base_uri": "https://localhost:8080/",
          "height": 33
        },
        "outputId": "202902e6-7210-4138-e870-ba0312e22027"
      },
      "source": [
        "clicks_total = clicks_cont + clicks_exp\n",
        "print(f\"Total Page view selection is {clicks_total}\")"
      ],
      "execution_count": 43,
      "outputs": [
        {
          "output_type": "stream",
          "text": [
            "Total Page view selection is 1243\n"
          ],
          "name": "stdout"
        }
      ]
    },
    {
      "cell_type": "code",
      "metadata": {
        "id": "OitStUIRryZk",
        "colab_type": "code",
        "colab": {}
      },
      "source": [
        "def yes_group_by_count(variable_any):\n",
        "    answer = variable_any.loc[variable_any['yes'] == 1].count()\n",
        "    return answer\n",
        "def yes_group_by_counts(variable_any):\n",
        "    answer = variable_any.loc[variable_any['yes'] >= 0].count()\n",
        "    return answer\n",
        "def no_group_by_count(variable_any):\n",
        "    answer = variable_any.loc[variable_any['no'] == 1].count()\n",
        "    return answer\n",
        "def no_group_by_counts(variable_any):\n",
        "    answer = variable_any.loc[variable_any['no'] >= 0].count()\n",
        "    return answer\n",
        "def no_group_by_count_zero(variable_any):\n",
        "    answer = variable_any.loc[variable_any['no'] == 0].count()\n",
        "    return answer\n",
        "def yes_group_by_count_zero(variable_any):\n",
        "    answer = variable_any.loc[variable_any['yes'] == 0].count()\n",
        "    return answer\n",
        "def total_by_count(variable_any):\n",
        "    answer = yes_group_by_count(variable_any) + no_group_by_count(variable_any) + no_group_by_count_zero(variable_any) + yes_group_by_count_zero(variable_any)\n",
        "    return answer"
      ],
      "execution_count": 44,
      "outputs": []
    },
    {
      "cell_type": "markdown",
      "metadata": {
        "id": "DBoWNetZryZy",
        "colab_type": "text"
      },
      "source": [
        "### Getting the NO Value Counts for the fields"
      ]
    },
    {
      "cell_type": "code",
      "metadata": {
        "id": "mFTfTjW4ryZ1",
        "colab_type": "code",
        "colab": {
          "base_uri": "https://localhost:8080/",
          "height": 180
        },
        "outputId": "18ce08d3-de2d-4fcc-92d6-d220f894afad"
      },
      "source": [
        "no_group_by_counts(variable_one)"
      ],
      "execution_count": 45,
      "outputs": [
        {
          "output_type": "execute_result",
          "data": {
            "text/plain": [
              "auction_id     8077\n",
              "experiment     8077\n",
              "date           8077\n",
              "hour           8077\n",
              "device_make    8077\n",
              "platform_os    8077\n",
              "browser        8077\n",
              "yes            8077\n",
              "no             8077\n",
              "dtype: int64"
            ]
          },
          "metadata": {
            "tags": []
          },
          "execution_count": 45
        }
      ]
    },
    {
      "cell_type": "markdown",
      "metadata": {
        "id": "_AesyPr5ryaE",
        "colab_type": "text"
      },
      "source": [
        "### Getting the YES Value Counts for the fields"
      ]
    },
    {
      "cell_type": "code",
      "metadata": {
        "id": "4dEo4vOuryaG",
        "colab_type": "code",
        "colab": {
          "base_uri": "https://localhost:8080/",
          "height": 180
        },
        "outputId": "caca2ab3-4cb5-4aba-cb84-308c70fdf1de"
      },
      "source": [
        "yes_group_by_counts(variable_one)"
      ],
      "execution_count": 46,
      "outputs": [
        {
          "output_type": "execute_result",
          "data": {
            "text/plain": [
              "auction_id     8077\n",
              "experiment     8077\n",
              "date           8077\n",
              "hour           8077\n",
              "device_make    8077\n",
              "platform_os    8077\n",
              "browser        8077\n",
              "yes            8077\n",
              "no             8077\n",
              "dtype: int64"
            ]
          },
          "metadata": {
            "tags": []
          },
          "execution_count": 46
        }
      ]
    },
    {
      "cell_type": "code",
      "metadata": {
        "id": "BlF17aD_ryaW",
        "colab_type": "code",
        "colab": {
          "base_uri": "https://localhost:8080/",
          "height": 180
        },
        "outputId": "3a5ed871-c1c9-4a58-b0e3-822cc094e68d"
      },
      "source": [
        "total_by_count(variable_one)"
      ],
      "execution_count": 47,
      "outputs": [
        {
          "output_type": "execute_result",
          "data": {
            "text/plain": [
              "auction_id     16154\n",
              "experiment     16154\n",
              "date           16154\n",
              "hour           16154\n",
              "device_make    16154\n",
              "platform_os    16154\n",
              "browser        16154\n",
              "yes            16154\n",
              "no             16154\n",
              "dtype: int64"
            ]
          },
          "metadata": {
            "tags": []
          },
          "execution_count": 47
        }
      ]
    },
    {
      "cell_type": "markdown",
      "metadata": {
        "id": "BtDif9uDryal",
        "colab_type": "text"
      },
      "source": [
        "### Getting the YES Click Value Counts for the fields"
      ]
    },
    {
      "cell_type": "code",
      "metadata": {
        "id": "fhEmFuHWryao",
        "colab_type": "code",
        "colab": {
          "base_uri": "https://localhost:8080/",
          "height": 180
        },
        "outputId": "c67a2e07-5360-4c34-a2f7-34695d87d31c"
      },
      "source": [
        "yes_group_by_count(variable_one)"
      ],
      "execution_count": 48,
      "outputs": [
        {
          "output_type": "execute_result",
          "data": {
            "text/plain": [
              "auction_id     572\n",
              "experiment     572\n",
              "date           572\n",
              "hour           572\n",
              "device_make    572\n",
              "platform_os    572\n",
              "browser        572\n",
              "yes            572\n",
              "no             572\n",
              "dtype: int64"
            ]
          },
          "metadata": {
            "tags": []
          },
          "execution_count": 48
        }
      ]
    },
    {
      "cell_type": "markdown",
      "metadata": {
        "id": "2wmgtXtRrya1",
        "colab_type": "text"
      },
      "source": [
        "### Getting the NO Click Value Counts for the fields"
      ]
    },
    {
      "cell_type": "code",
      "metadata": {
        "id": "hZ78f77erya4",
        "colab_type": "code",
        "colab": {
          "base_uri": "https://localhost:8080/",
          "height": 180
        },
        "outputId": "15522bda-72d3-4ebd-d871-24b056c89b20"
      },
      "source": [
        "no_group_by_count(variable_one)"
      ],
      "execution_count": 49,
      "outputs": [
        {
          "output_type": "execute_result",
          "data": {
            "text/plain": [
              "auction_id     671\n",
              "experiment     671\n",
              "date           671\n",
              "hour           671\n",
              "device_make    671\n",
              "platform_os    671\n",
              "browser        671\n",
              "yes            671\n",
              "no             671\n",
              "dtype: int64"
            ]
          },
          "metadata": {
            "tags": []
          },
          "execution_count": 49
        }
      ]
    },
    {
      "cell_type": "markdown",
      "metadata": {
        "id": "nG9rWTvCrybK",
        "colab_type": "text"
      },
      "source": [
        "### Getting the Conversion Rates on the Webpage per Total Visitors\n",
        "#### Conversion Rate = The number of conversions on a webpage / the total number of visitors."
      ]
    },
    {
      "cell_type": "code",
      "metadata": {
        "id": "6_lHdYBIrybN",
        "colab_type": "code",
        "colab": {
          "base_uri": "https://localhost:8080/",
          "height": 212
        },
        "outputId": "f3a51127-a1a9-43e0-8af5-72acbe6ca0c9"
      },
      "source": [
        "conversion_rate = (yes_group_by_count(variable_one) + no_group_by_count(variable_one))/ total_by_count(variable_one)\n",
        "print(\"The conversion rate is: \\n\")\n",
        "print(conversion_rate)"
      ],
      "execution_count": 50,
      "outputs": [
        {
          "output_type": "stream",
          "text": [
            "The conversion rate is: \n",
            "\n",
            "auction_id     0.076947\n",
            "experiment     0.076947\n",
            "date           0.076947\n",
            "hour           0.076947\n",
            "device_make    0.076947\n",
            "platform_os    0.076947\n",
            "browser        0.076947\n",
            "yes            0.076947\n",
            "no             0.076947\n",
            "dtype: float64\n"
          ],
          "name": "stdout"
        }
      ]
    },
    {
      "cell_type": "markdown",
      "metadata": {
        "id": "Jgj81GjDryba",
        "colab_type": "text"
      },
      "source": [
        "#### The Probability of getting a YES"
      ]
    },
    {
      "cell_type": "code",
      "metadata": {
        "id": "qM2PvpBDrybc",
        "colab_type": "code",
        "colab": {
          "base_uri": "https://localhost:8080/",
          "height": 33
        },
        "outputId": "25b917cf-4da8-4025-e352-3fe66e2e2612"
      },
      "source": [
        "The_probability_of_getting_a_yes = 572/8077\n",
        "print (f\"The probability of getting a yes is: {The_probability_of_getting_a_yes}\")"
      ],
      "execution_count": 51,
      "outputs": [
        {
          "output_type": "stream",
          "text": [
            "The probability of getting a yes is: 0.07081837315835088\n"
          ],
          "name": "stdout"
        }
      ]
    },
    {
      "cell_type": "markdown",
      "metadata": {
        "id": "Zs54nEd7rybo",
        "colab_type": "text"
      },
      "source": [
        "#### The Probability of getting a NO"
      ]
    },
    {
      "cell_type": "code",
      "metadata": {
        "id": "MpfM0kvbrybq",
        "colab_type": "code",
        "colab": {
          "base_uri": "https://localhost:8080/",
          "height": 0
        },
        "outputId": "0f7b1309-63c2-466d-941c-5767da1bd39c"
      },
      "source": [
        "The_probability_of_getting_a_no = 671/8077\n",
        "print (f\"The probability of getting a no is: {The_probability_of_getting_a_no}\")"
      ],
      "execution_count": 52,
      "outputs": [
        {
          "output_type": "stream",
          "text": [
            "The probability of getting a no is: 0.0830753992819116\n"
          ],
          "name": "stdout"
        }
      ]
    },
    {
      "cell_type": "markdown",
      "metadata": {
        "id": "-byacEj0ryb8",
        "colab_type": "text"
      },
      "source": [
        "This is also the number of confidence interval"
      ]
    },
    {
      "cell_type": "code",
      "metadata": {
        "id": "IqzENaiwryb-",
        "colab_type": "code",
        "colab": {}
      },
      "source": [
        "def yes_group_by(variable_any):\n",
        "    answer = variable_any.groupby('yes').count()\n",
        "    return answer\n",
        "\n",
        "def no_group_by(variable_any):\n",
        "    answer = variable_any.groupby('no').count()\n",
        "    return answer    "
      ],
      "execution_count": 53,
      "outputs": []
    },
    {
      "cell_type": "markdown",
      "metadata": {
        "id": "VTvjIzl4rycR",
        "colab_type": "text"
      },
      "source": [
        "### Getting the value counts for the Bounce and Click values of YES"
      ]
    },
    {
      "cell_type": "code",
      "metadata": {
        "id": "nzakOKeBrycV",
        "colab_type": "code",
        "colab": {
          "base_uri": "https://localhost:8080/",
          "height": 133
        },
        "outputId": "ba808d98-0dc8-427f-c6f6-34b056d062b8"
      },
      "source": [
        "yes_group_by(variable_one)"
      ],
      "execution_count": 54,
      "outputs": [
        {
          "output_type": "execute_result",
          "data": {
            "text/html": [
              "<div>\n",
              "<style scoped>\n",
              "    .dataframe tbody tr th:only-of-type {\n",
              "        vertical-align: middle;\n",
              "    }\n",
              "\n",
              "    .dataframe tbody tr th {\n",
              "        vertical-align: top;\n",
              "    }\n",
              "\n",
              "    .dataframe thead th {\n",
              "        text-align: right;\n",
              "    }\n",
              "</style>\n",
              "<table border=\"1\" class=\"dataframe\">\n",
              "  <thead>\n",
              "    <tr style=\"text-align: right;\">\n",
              "      <th></th>\n",
              "      <th>auction_id</th>\n",
              "      <th>experiment</th>\n",
              "      <th>date</th>\n",
              "      <th>hour</th>\n",
              "      <th>device_make</th>\n",
              "      <th>platform_os</th>\n",
              "      <th>browser</th>\n",
              "      <th>no</th>\n",
              "    </tr>\n",
              "    <tr>\n",
              "      <th>yes</th>\n",
              "      <th></th>\n",
              "      <th></th>\n",
              "      <th></th>\n",
              "      <th></th>\n",
              "      <th></th>\n",
              "      <th></th>\n",
              "      <th></th>\n",
              "      <th></th>\n",
              "    </tr>\n",
              "  </thead>\n",
              "  <tbody>\n",
              "    <tr>\n",
              "      <th>0</th>\n",
              "      <td>7505</td>\n",
              "      <td>7505</td>\n",
              "      <td>7505</td>\n",
              "      <td>7505</td>\n",
              "      <td>7505</td>\n",
              "      <td>7505</td>\n",
              "      <td>7505</td>\n",
              "      <td>7505</td>\n",
              "    </tr>\n",
              "    <tr>\n",
              "      <th>1</th>\n",
              "      <td>572</td>\n",
              "      <td>572</td>\n",
              "      <td>572</td>\n",
              "      <td>572</td>\n",
              "      <td>572</td>\n",
              "      <td>572</td>\n",
              "      <td>572</td>\n",
              "      <td>572</td>\n",
              "    </tr>\n",
              "  </tbody>\n",
              "</table>\n",
              "</div>"
            ],
            "text/plain": [
              "     auction_id  experiment  date  ...  platform_os  browser    no\n",
              "yes                                ...                            \n",
              "0          7505        7505  7505  ...         7505     7505  7505\n",
              "1           572         572   572  ...          572      572   572\n",
              "\n",
              "[2 rows x 8 columns]"
            ]
          },
          "metadata": {
            "tags": []
          },
          "execution_count": 54
        }
      ]
    },
    {
      "cell_type": "markdown",
      "metadata": {
        "id": "FUdJuQcErych",
        "colab_type": "text"
      },
      "source": [
        "### Getting the value counts for the Bounce and Click values of NO"
      ]
    },
    {
      "cell_type": "code",
      "metadata": {
        "id": "z_08kWKpryck",
        "colab_type": "code",
        "colab": {
          "base_uri": "https://localhost:8080/",
          "height": 133
        },
        "outputId": "ae7b8d19-35ac-48df-a93d-6e209f8c1fb4"
      },
      "source": [
        "no_group_by(variable_one)"
      ],
      "execution_count": 55,
      "outputs": [
        {
          "output_type": "execute_result",
          "data": {
            "text/html": [
              "<div>\n",
              "<style scoped>\n",
              "    .dataframe tbody tr th:only-of-type {\n",
              "        vertical-align: middle;\n",
              "    }\n",
              "\n",
              "    .dataframe tbody tr th {\n",
              "        vertical-align: top;\n",
              "    }\n",
              "\n",
              "    .dataframe thead th {\n",
              "        text-align: right;\n",
              "    }\n",
              "</style>\n",
              "<table border=\"1\" class=\"dataframe\">\n",
              "  <thead>\n",
              "    <tr style=\"text-align: right;\">\n",
              "      <th></th>\n",
              "      <th>auction_id</th>\n",
              "      <th>experiment</th>\n",
              "      <th>date</th>\n",
              "      <th>hour</th>\n",
              "      <th>device_make</th>\n",
              "      <th>platform_os</th>\n",
              "      <th>browser</th>\n",
              "      <th>yes</th>\n",
              "    </tr>\n",
              "    <tr>\n",
              "      <th>no</th>\n",
              "      <th></th>\n",
              "      <th></th>\n",
              "      <th></th>\n",
              "      <th></th>\n",
              "      <th></th>\n",
              "      <th></th>\n",
              "      <th></th>\n",
              "      <th></th>\n",
              "    </tr>\n",
              "  </thead>\n",
              "  <tbody>\n",
              "    <tr>\n",
              "      <th>0</th>\n",
              "      <td>7406</td>\n",
              "      <td>7406</td>\n",
              "      <td>7406</td>\n",
              "      <td>7406</td>\n",
              "      <td>7406</td>\n",
              "      <td>7406</td>\n",
              "      <td>7406</td>\n",
              "      <td>7406</td>\n",
              "    </tr>\n",
              "    <tr>\n",
              "      <th>1</th>\n",
              "      <td>671</td>\n",
              "      <td>671</td>\n",
              "      <td>671</td>\n",
              "      <td>671</td>\n",
              "      <td>671</td>\n",
              "      <td>671</td>\n",
              "      <td>671</td>\n",
              "      <td>671</td>\n",
              "    </tr>\n",
              "  </tbody>\n",
              "</table>\n",
              "</div>"
            ],
            "text/plain": [
              "    auction_id  experiment  date  hour  device_make  platform_os  browser   yes\n",
              "no                                                                             \n",
              "0         7406        7406  7406  7406         7406         7406     7406  7406\n",
              "1          671         671   671   671          671          671      671   671"
            ]
          },
          "metadata": {
            "tags": []
          },
          "execution_count": 55
        }
      ]
    },
    {
      "cell_type": "markdown",
      "metadata": {
        "id": "RcSPIWubrycw",
        "colab_type": "text"
      },
      "source": [
        "### Grouping YES/NO with the Date"
      ]
    },
    {
      "cell_type": "code",
      "metadata": {
        "id": "4witdssGrycy",
        "colab_type": "code",
        "colab": {}
      },
      "source": [
        "date_yes_and_no = variable_one[[\"date\",\"yes\",\"no\"]]"
      ],
      "execution_count": 56,
      "outputs": []
    },
    {
      "cell_type": "code",
      "metadata": {
        "id": "LR24Yyd8ryc-",
        "colab_type": "code",
        "colab": {
          "base_uri": "https://localhost:8080/",
          "height": 306
        },
        "outputId": "dc72c253-94fc-425f-a487-f1bb07c46971"
      },
      "source": [
        "yes_and_no_groupby = variable_one.groupby('date')[['yes','no']].sum()\n",
        "yes_and_no_groupby.head(8)"
      ],
      "execution_count": 57,
      "outputs": [
        {
          "output_type": "execute_result",
          "data": {
            "text/html": [
              "<div>\n",
              "<style scoped>\n",
              "    .dataframe tbody tr th:only-of-type {\n",
              "        vertical-align: middle;\n",
              "    }\n",
              "\n",
              "    .dataframe tbody tr th {\n",
              "        vertical-align: top;\n",
              "    }\n",
              "\n",
              "    .dataframe thead th {\n",
              "        text-align: right;\n",
              "    }\n",
              "</style>\n",
              "<table border=\"1\" class=\"dataframe\">\n",
              "  <thead>\n",
              "    <tr style=\"text-align: right;\">\n",
              "      <th></th>\n",
              "      <th>yes</th>\n",
              "      <th>no</th>\n",
              "    </tr>\n",
              "    <tr>\n",
              "      <th>date</th>\n",
              "      <th></th>\n",
              "      <th></th>\n",
              "    </tr>\n",
              "  </thead>\n",
              "  <tbody>\n",
              "    <tr>\n",
              "      <th>2020-07-03</th>\n",
              "      <td>147</td>\n",
              "      <td>178</td>\n",
              "    </tr>\n",
              "    <tr>\n",
              "      <th>2020-07-04</th>\n",
              "      <td>76</td>\n",
              "      <td>83</td>\n",
              "    </tr>\n",
              "    <tr>\n",
              "      <th>2020-07-05</th>\n",
              "      <td>52</td>\n",
              "      <td>65</td>\n",
              "    </tr>\n",
              "    <tr>\n",
              "      <th>2020-07-06</th>\n",
              "      <td>35</td>\n",
              "      <td>39</td>\n",
              "    </tr>\n",
              "    <tr>\n",
              "      <th>2020-07-07</th>\n",
              "      <td>38</td>\n",
              "      <td>45</td>\n",
              "    </tr>\n",
              "    <tr>\n",
              "      <th>2020-07-08</th>\n",
              "      <td>85</td>\n",
              "      <td>92</td>\n",
              "    </tr>\n",
              "    <tr>\n",
              "      <th>2020-07-09</th>\n",
              "      <td>85</td>\n",
              "      <td>99</td>\n",
              "    </tr>\n",
              "    <tr>\n",
              "      <th>2020-07-10</th>\n",
              "      <td>54</td>\n",
              "      <td>70</td>\n",
              "    </tr>\n",
              "  </tbody>\n",
              "</table>\n",
              "</div>"
            ],
            "text/plain": [
              "            yes   no\n",
              "date                \n",
              "2020-07-03  147  178\n",
              "2020-07-04   76   83\n",
              "2020-07-05   52   65\n",
              "2020-07-06   35   39\n",
              "2020-07-07   38   45\n",
              "2020-07-08   85   92\n",
              "2020-07-09   85   99\n",
              "2020-07-10   54   70"
            ]
          },
          "metadata": {
            "tags": []
          },
          "execution_count": 57
        }
      ]
    },
    {
      "cell_type": "code",
      "metadata": {
        "id": "qQWq1PPYrydV",
        "colab_type": "code",
        "colab": {
          "base_uri": "https://localhost:8080/",
          "height": 163
        },
        "outputId": "976e15ad-48d1-4108-b951-c01ec3712d97"
      },
      "source": [
        "variable_one['date'].value_counts()"
      ],
      "execution_count": 58,
      "outputs": [
        {
          "output_type": "execute_result",
          "data": {
            "text/plain": [
              "2020-07-03    2015\n",
              "2020-07-09    1208\n",
              "2020-07-08    1198\n",
              "2020-07-04     903\n",
              "2020-07-10     893\n",
              "2020-07-05     890\n",
              "2020-07-06     490\n",
              "2020-07-07     480\n",
              "Name: date, dtype: int64"
            ]
          },
          "metadata": {
            "tags": []
          },
          "execution_count": 58
        }
      ]
    },
    {
      "cell_type": "code",
      "metadata": {
        "id": "75ulWdHxrydh",
        "colab_type": "code",
        "colab": {
          "base_uri": "https://localhost:8080/",
          "height": 371
        },
        "outputId": "275b6ffa-e0c4-443d-8030-5d6fa13b7848"
      },
      "source": [
        "yes_and_no_groupby.plot(kind= \"bar\").set_title(\"Yes and No Group by Date\")\n",
        "plt.xlabel(\"Date\")\n",
        "plt.ylabel(\"Frequency\")"
      ],
      "execution_count": 59,
      "outputs": [
        {
          "output_type": "execute_result",
          "data": {
            "text/plain": [
              "Text(0, 0.5, 'Frequency')"
            ]
          },
          "metadata": {
            "tags": []
          },
          "execution_count": 59
        },
        {
          "output_type": "display_data",
          "data": {
            "image/png": "[encoded data removed]",
            "text/plain": [
              "<Figure size 432x288 with 1 Axes>"
            ]
          },
          "metadata": {
            "tags": []
          }
        }
      ]
    },
    {
      "cell_type": "code",
      "metadata": {
        "id": "YoH3sFBSrydv",
        "colab_type": "code",
        "colab": {
          "base_uri": "https://localhost:8080/",
          "height": 133
        },
        "outputId": "4a2deea1-bd5f-419f-9bed-364817a21b31"
      },
      "source": [
        "experiment_group_by = variable_one.groupby('experiment')[['yes','no']].sum()\n",
        "experiment_group_by.head()"
      ],
      "execution_count": 60,
      "outputs": [
        {
          "output_type": "execute_result",
          "data": {
            "text/html": [
              "<div>\n",
              "<style scoped>\n",
              "    .dataframe tbody tr th:only-of-type {\n",
              "        vertical-align: middle;\n",
              "    }\n",
              "\n",
              "    .dataframe tbody tr th {\n",
              "        vertical-align: top;\n",
              "    }\n",
              "\n",
              "    .dataframe thead th {\n",
              "        text-align: right;\n",
              "    }\n",
              "</style>\n",
              "<table border=\"1\" class=\"dataframe\">\n",
              "  <thead>\n",
              "    <tr style=\"text-align: right;\">\n",
              "      <th></th>\n",
              "      <th>yes</th>\n",
              "      <th>no</th>\n",
              "    </tr>\n",
              "    <tr>\n",
              "      <th>experiment</th>\n",
              "      <th></th>\n",
              "      <th></th>\n",
              "    </tr>\n",
              "  </thead>\n",
              "  <tbody>\n",
              "    <tr>\n",
              "      <th>control</th>\n",
              "      <td>264</td>\n",
              "      <td>322</td>\n",
              "    </tr>\n",
              "    <tr>\n",
              "      <th>exposed</th>\n",
              "      <td>308</td>\n",
              "      <td>349</td>\n",
              "    </tr>\n",
              "  </tbody>\n",
              "</table>\n",
              "</div>"
            ],
            "text/plain": [
              "            yes   no\n",
              "experiment          \n",
              "control     264  322\n",
              "exposed     308  349"
            ]
          },
          "metadata": {
            "tags": []
          },
          "execution_count": 60
        }
      ]
    },
    {
      "cell_type": "code",
      "metadata": {
        "id": "5gaWI71Qryd7",
        "colab_type": "code",
        "colab": {
          "base_uri": "https://localhost:8080/",
          "height": 66
        },
        "outputId": "b84e355b-054e-4e3a-fcab-43e5bc18ab6c"
      },
      "source": [
        "variable_one['experiment'].value_counts()"
      ],
      "execution_count": 61,
      "outputs": [
        {
          "output_type": "execute_result",
          "data": {
            "text/plain": [
              "control    4071\n",
              "exposed    4006\n",
              "Name: experiment, dtype: int64"
            ]
          },
          "metadata": {
            "tags": []
          },
          "execution_count": 61
        }
      ]
    },
    {
      "cell_type": "markdown",
      "metadata": {
        "id": "tsCSPi-xryeH",
        "colab_type": "text"
      },
      "source": [
        "#### 4071 Users saw the Control Experiment, while 4006 saw the exposed experiment"
      ]
    },
    {
      "cell_type": "code",
      "metadata": {
        "id": "BKoeH_38ryeJ",
        "colab_type": "code",
        "colab": {
          "base_uri": "https://localhost:8080/",
          "height": 0
        },
        "outputId": "e27e3a34-dca5-4b5c-cec5-a4cb32d190ae"
      },
      "source": [
        "experiment_group_by.plot(kind= \"bar\").set_title(\"Control and Exposed user group\")\n",
        "plt.xlabel(\"Experiments\")\n",
        "plt.ylabel(\"Frequency\")"
      ],
      "execution_count": 62,
      "outputs": [
        {
          "output_type": "execute_result",
          "data": {
            "text/plain": [
              "Text(0, 0.5, 'Frequency')"
            ]
          },
          "metadata": {
            "tags": []
          },
          "execution_count": 62
        },
        {
          "output_type": "display_data",
          "data": {
            "image/png": "[encoded data removed]",
            "text/plain": [
              "<Figure size 432x288 with 1 Axes>"
            ]
          },
          "metadata": {
            "tags": []
          }
        }
      ]
    },
    {
      "cell_type": "markdown",
      "metadata": {
        "id": "0OTCwee2ryeX",
        "colab_type": "text"
      },
      "source": [
        "This shows that showing the logo of SmartAd makes the users clicked more yes"
      ]
    },
    {
      "cell_type": "markdown",
      "metadata": {
        "id": "0_E0QneSryed",
        "colab_type": "text"
      },
      "source": [
        "This shows that the difference between the controlled and exposed experiment is not mmuch. Showing the SmartAd logo is insignificant"
      ]
    },
    {
      "cell_type": "markdown",
      "metadata": {
        "id": "fAkWD6RFryef",
        "colab_type": "text"
      },
      "source": [
        "Increasing the number of N the Binomial Distribution will look like a Normal Distribution, which the approximationn of the mean could approach each other."
      ]
    },
    {
      "cell_type": "code",
      "metadata": {
        "id": "Wsu_o5tqryeh",
        "colab_type": "code",
        "colab": {
          "base_uri": "https://localhost:8080/",
          "height": 0
        },
        "outputId": "e857e734-3193-4f07-f348-8315cb59b626"
      },
      "source": [
        "experiment_group_by_browser = variable_one.groupby('browser')[['yes','no']].sum()\n",
        "experiment_group_by_browser.head()"
      ],
      "execution_count": 63,
      "outputs": [
        {
          "output_type": "execute_result",
          "data": {
            "text/html": [
              "<div>\n",
              "<style scoped>\n",
              "    .dataframe tbody tr th:only-of-type {\n",
              "        vertical-align: middle;\n",
              "    }\n",
              "\n",
              "    .dataframe tbody tr th {\n",
              "        vertical-align: top;\n",
              "    }\n",
              "\n",
              "    .dataframe thead th {\n",
              "        text-align: right;\n",
              "    }\n",
              "</style>\n",
              "<table border=\"1\" class=\"dataframe\">\n",
              "  <thead>\n",
              "    <tr style=\"text-align: right;\">\n",
              "      <th></th>\n",
              "      <th>yes</th>\n",
              "      <th>no</th>\n",
              "    </tr>\n",
              "    <tr>\n",
              "      <th>browser</th>\n",
              "      <th></th>\n",
              "      <th></th>\n",
              "    </tr>\n",
              "  </thead>\n",
              "  <tbody>\n",
              "    <tr>\n",
              "      <th>Android</th>\n",
              "      <td>0</td>\n",
              "      <td>0</td>\n",
              "    </tr>\n",
              "    <tr>\n",
              "      <th>Chrome</th>\n",
              "      <td>1</td>\n",
              "      <td>1</td>\n",
              "    </tr>\n",
              "    <tr>\n",
              "      <th>Chrome Mobile</th>\n",
              "      <td>314</td>\n",
              "      <td>381</td>\n",
              "    </tr>\n",
              "    <tr>\n",
              "      <th>Chrome Mobile WebView</th>\n",
              "      <td>116</td>\n",
              "      <td>111</td>\n",
              "    </tr>\n",
              "    <tr>\n",
              "      <th>Chrome Mobile iOS</th>\n",
              "      <td>1</td>\n",
              "      <td>0</td>\n",
              "    </tr>\n",
              "  </tbody>\n",
              "</table>\n",
              "</div>"
            ],
            "text/plain": [
              "                       yes   no\n",
              "browser                        \n",
              "Android                  0    0\n",
              "Chrome                   1    1\n",
              "Chrome Mobile          314  381\n",
              "Chrome Mobile WebView  116  111\n",
              "Chrome Mobile iOS        1    0"
            ]
          },
          "metadata": {
            "tags": []
          },
          "execution_count": 63
        }
      ]
    },
    {
      "cell_type": "code",
      "metadata": {
        "id": "wG8wWTnuryev",
        "colab_type": "code",
        "colab": {
          "base_uri": "https://localhost:8080/",
          "height": 0
        },
        "outputId": "6046f905-cf7a-46a9-996a-0f3eed6217e7"
      },
      "source": [
        "variable_one['browser'].value_counts()"
      ],
      "execution_count": 64,
      "outputs": [
        {
          "output_type": "execute_result",
          "data": {
            "text/plain": [
              "Chrome Mobile                 4554\n",
              "Chrome Mobile WebView         1489\n",
              "Samsung Internet               824\n",
              "Facebook                       764\n",
              "Mobile Safari                  337\n",
              "Chrome Mobile iOS               51\n",
              "Mobile Safari UI/WKWebView      44\n",
              "Chrome                           3\n",
              "Pinterest                        3\n",
              "Opera Mobile                     3\n",
              "Android                          1\n",
              "Opera Mini                       1\n",
              "Puffin                           1\n",
              "Firefox Mobile                   1\n",
              "Edge Mobile                      1\n",
              "Name: browser, dtype: int64"
            ]
          },
          "metadata": {
            "tags": []
          },
          "execution_count": 64
        }
      ]
    },
    {
      "cell_type": "code",
      "metadata": {
        "id": "UuTk4o5krye7",
        "colab_type": "code",
        "colab": {
          "base_uri": "https://localhost:8080/",
          "height": 0
        },
        "outputId": "d511fd1a-5d8e-4733-b160-7a803506be93"
      },
      "source": [
        "experiment_group_by_browser.plot(kind= \"bar\").set_title(\"Experiment Group by Browser\")\n",
        "plt.xlabel(\"Browsers\")\n",
        "plt.ylabel(\"Frequency\")"
      ],
      "execution_count": 65,
      "outputs": [
        {
          "output_type": "execute_result",
          "data": {
            "text/plain": [
              "Text(0, 0.5, 'Frequency')"
            ]
          },
          "metadata": {
            "tags": []
          },
          "execution_count": 65
        },
        {
          "output_type": "display_data",
          "data": {
            "image/png": "[encoded data removed]",
            "text/plain": [
              "<Figure size 432x288 with 1 Axes>"
            ]
          },
          "metadata": {
            "tags": []
          }
        }
      ]
    },
    {
      "cell_type": "code",
      "metadata": {
        "id": "-WMRtrgtryfH",
        "colab_type": "code",
        "colab": {
          "base_uri": "https://localhost:8080/",
          "height": 0
        },
        "outputId": "0e9f07af-c2f7-422e-a16b-8fb61fd592e9"
      },
      "source": [
        "experiment_group_by_device_make = variable_one.groupby('device_make')[['yes','no']].sum()\n",
        "experiment_group_by_device_make.head()"
      ],
      "execution_count": 66,
      "outputs": [
        {
          "output_type": "execute_result",
          "data": {
            "text/html": [
              "<div>\n",
              "<style scoped>\n",
              "    .dataframe tbody tr th:only-of-type {\n",
              "        vertical-align: middle;\n",
              "    }\n",
              "\n",
              "    .dataframe tbody tr th {\n",
              "        vertical-align: top;\n",
              "    }\n",
              "\n",
              "    .dataframe thead th {\n",
              "        text-align: right;\n",
              "    }\n",
              "</style>\n",
              "<table border=\"1\" class=\"dataframe\">\n",
              "  <thead>\n",
              "    <tr style=\"text-align: right;\">\n",
              "      <th></th>\n",
              "      <th>yes</th>\n",
              "      <th>no</th>\n",
              "    </tr>\n",
              "    <tr>\n",
              "      <th>device_make</th>\n",
              "      <th></th>\n",
              "      <th></th>\n",
              "    </tr>\n",
              "  </thead>\n",
              "  <tbody>\n",
              "    <tr>\n",
              "      <th>5008Y_EEA</th>\n",
              "      <td>0</td>\n",
              "      <td>0</td>\n",
              "    </tr>\n",
              "    <tr>\n",
              "      <th>5099Y</th>\n",
              "      <td>0</td>\n",
              "      <td>0</td>\n",
              "    </tr>\n",
              "    <tr>\n",
              "      <th>6039Y</th>\n",
              "      <td>0</td>\n",
              "      <td>0</td>\n",
              "    </tr>\n",
              "    <tr>\n",
              "      <th>A0001</th>\n",
              "      <td>1</td>\n",
              "      <td>0</td>\n",
              "    </tr>\n",
              "    <tr>\n",
              "      <th>ALE-L21</th>\n",
              "      <td>0</td>\n",
              "      <td>0</td>\n",
              "    </tr>\n",
              "  </tbody>\n",
              "</table>\n",
              "</div>"
            ],
            "text/plain": [
              "             yes  no\n",
              "device_make         \n",
              "5008Y_EEA      0   0\n",
              "5099Y          0   0\n",
              "6039Y          0   0\n",
              "A0001          1   0\n",
              "ALE-L21        0   0"
            ]
          },
          "metadata": {
            "tags": []
          },
          "execution_count": 66
        }
      ]
    },
    {
      "cell_type": "code",
      "metadata": {
        "id": "ldnPfTv4ryfV",
        "colab_type": "code",
        "colab": {
          "base_uri": "https://localhost:8080/",
          "height": 0
        },
        "outputId": "7247f1b2-674e-400b-ac9e-d3473375e6ee"
      },
      "source": [
        "experiment_group_by_hour = variable_one.groupby('hour')[['yes','no']].sum()\n",
        "experiment_group_by_hour.head()"
      ],
      "execution_count": 67,
      "outputs": [
        {
          "output_type": "execute_result",
          "data": {
            "text/html": [
              "<div>\n",
              "<style scoped>\n",
              "    .dataframe tbody tr th:only-of-type {\n",
              "        vertical-align: middle;\n",
              "    }\n",
              "\n",
              "    .dataframe tbody tr th {\n",
              "        vertical-align: top;\n",
              "    }\n",
              "\n",
              "    .dataframe thead th {\n",
              "        text-align: right;\n",
              "    }\n",
              "</style>\n",
              "<table border=\"1\" class=\"dataframe\">\n",
              "  <thead>\n",
              "    <tr style=\"text-align: right;\">\n",
              "      <th></th>\n",
              "      <th>yes</th>\n",
              "      <th>no</th>\n",
              "    </tr>\n",
              "    <tr>\n",
              "      <th>hour</th>\n",
              "      <th></th>\n",
              "      <th></th>\n",
              "    </tr>\n",
              "  </thead>\n",
              "  <tbody>\n",
              "    <tr>\n",
              "      <th>0</th>\n",
              "      <td>16</td>\n",
              "      <td>15</td>\n",
              "    </tr>\n",
              "    <tr>\n",
              "      <th>1</th>\n",
              "      <td>12</td>\n",
              "      <td>20</td>\n",
              "    </tr>\n",
              "    <tr>\n",
              "      <th>2</th>\n",
              "      <td>12</td>\n",
              "      <td>21</td>\n",
              "    </tr>\n",
              "    <tr>\n",
              "      <th>3</th>\n",
              "      <td>16</td>\n",
              "      <td>28</td>\n",
              "    </tr>\n",
              "    <tr>\n",
              "      <th>4</th>\n",
              "      <td>22</td>\n",
              "      <td>24</td>\n",
              "    </tr>\n",
              "  </tbody>\n",
              "</table>\n",
              "</div>"
            ],
            "text/plain": [
              "      yes  no\n",
              "hour         \n",
              "0      16  15\n",
              "1      12  20\n",
              "2      12  21\n",
              "3      16  28\n",
              "4      22  24"
            ]
          },
          "metadata": {
            "tags": []
          },
          "execution_count": 67
        }
      ]
    },
    {
      "cell_type": "code",
      "metadata": {
        "id": "Osl8bX7Xryfp",
        "colab_type": "code",
        "colab": {
          "base_uri": "https://localhost:8080/",
          "height": 0
        },
        "outputId": "047048e6-684a-4a9d-8add-8144146eec6d"
      },
      "source": [
        "variable_one['hour'].value_counts()"
      ],
      "execution_count": 68,
      "outputs": [
        {
          "output_type": "execute_result",
          "data": {
            "text/plain": [
              "15    1895\n",
              "8      394\n",
              "7      381\n",
              "9      346\n",
              "10     336\n",
              "16     335\n",
              "6      327\n",
              "14     319\n",
              "5      302\n",
              "13     290\n",
              "11     282\n",
              "4      281\n",
              "12     278\n",
              "18     273\n",
              "3      266\n",
              "20     264\n",
              "17     263\n",
              "2      230\n",
              "19     227\n",
              "1      222\n",
              "21     206\n",
              "0      194\n",
              "22     135\n",
              "23      31\n",
              "Name: hour, dtype: int64"
            ]
          },
          "metadata": {
            "tags": []
          },
          "execution_count": 68
        }
      ]
    },
    {
      "cell_type": "code",
      "metadata": {
        "id": "yTWTVa6Oryf4",
        "colab_type": "code",
        "colab": {
          "base_uri": "https://localhost:8080/",
          "height": 0
        },
        "outputId": "5aefa419-4fbd-46a0-9850-deeeb624ba97"
      },
      "source": [
        "experiment_group_by_hour.plot(kind= \"bar\").set_title(\"Experiment by Hours spent\")\n",
        "plt.xlabel(\"Number of Hours Spent\")\n",
        "plt.ylabel(\"Frequency\")"
      ],
      "execution_count": 69,
      "outputs": [
        {
          "output_type": "execute_result",
          "data": {
            "text/plain": [
              "Text(0, 0.5, 'Frequency')"
            ]
          },
          "metadata": {
            "tags": []
          },
          "execution_count": 69
        },
        {
          "output_type": "display_data",
          "data": {
            "image/png": "[encoded data removed]",
            "text/plain": [
              "<Figure size 432x288 with 1 Axes>"
            ]
          },
          "metadata": {
            "tags": []
          }
        }
      ]
    },
    {
      "cell_type": "markdown",
      "metadata": {
        "id": "pl64HwIxrygG",
        "colab_type": "text"
      },
      "source": [
        "#### This shows that majority of the users who clicked the ads have spent 15 hours on the platform"
      ]
    },
    {
      "cell_type": "code",
      "metadata": {
        "id": "CYArHmkzrygJ",
        "colab_type": "code",
        "colab": {
          "base_uri": "https://localhost:8080/",
          "height": 0
        },
        "outputId": "50e78bab-9a0a-4cce-8c38-83ac0722f2ec"
      },
      "source": [
        "variable_one['platform_os'].value_counts()"
      ],
      "execution_count": 70,
      "outputs": [
        {
          "output_type": "execute_result",
          "data": {
            "text/plain": [
              "6    7648\n",
              "5     428\n",
              "7       1\n",
              "Name: platform_os, dtype: int64"
            ]
          },
          "metadata": {
            "tags": []
          },
          "execution_count": 70
        }
      ]
    },
    {
      "cell_type": "code",
      "metadata": {
        "id": "ENBOkWtZrygf",
        "colab_type": "code",
        "colab": {
          "base_uri": "https://localhost:8080/",
          "height": 0
        },
        "outputId": "af6945ae-5586-418c-bbef-d029f982928a"
      },
      "source": [
        "variable_one['platform_os'].value_counts().plot(kind='bar', title = 'Operating System Versions')\n",
        "plt.xlabel(\"Operating System Versions\")\n",
        "plt.ylabel(\"Frequency\")"
      ],
      "execution_count": 71,
      "outputs": [
        {
          "output_type": "execute_result",
          "data": {
            "text/plain": [
              "Text(0, 0.5, 'Frequency')"
            ]
          },
          "metadata": {
            "tags": []
          },
          "execution_count": 71
        },
        {
          "output_type": "display_data",
          "data": {
            "image/png": "[encoded data removed]",
            "text/plain": [
              "<Figure size 432x288 with 1 Axes>"
            ]
          },
          "metadata": {
            "tags": []
          }
        }
      ]
    },
    {
      "cell_type": "markdown",
      "metadata": {
        "id": "KQcaFLHcrygv",
        "colab_type": "text"
      },
      "source": [
        "#### This shows that majority (about 95%) of Users made use of the Operating System Version 6 to navigate the page and click the ad"
      ]
    },
    {
      "cell_type": "markdown",
      "metadata": {
        "id": "GPzFOsLIryg0",
        "colab_type": "text"
      },
      "source": [
        "#### Probability of getting a Click in Control Group:"
      ]
    },
    {
      "cell_type": "code",
      "metadata": {
        "id": "xkIwhZU2ryg2",
        "colab_type": "code",
        "colab": {
          "base_uri": "https://localhost:8080/",
          "height": 0
        },
        "outputId": "47a299d0-a9a6-4340-a35c-5c492e29f24d"
      },
      "source": [
        "Prob_Control_Group = clicks_cont/8077\n",
        "print(Prob_Control_Group*100)"
      ],
      "execution_count": 72,
      "outputs": [
        {
          "output_type": "stream",
          "text": [
            "7.2551689983904915\n"
          ],
          "name": "stdout"
        }
      ]
    },
    {
      "cell_type": "markdown",
      "metadata": {
        "id": "ZZCuzUG4ryhD",
        "colab_type": "text"
      },
      "source": [
        "#### Probability of getting a Click in Exposed Group:"
      ]
    },
    {
      "cell_type": "code",
      "metadata": {
        "id": "pPmoAjn4ryhF",
        "colab_type": "code",
        "colab": {
          "base_uri": "https://localhost:8080/",
          "height": 0
        },
        "outputId": "f66ead85-7525-4f57-bf93-2a5ca22bf627"
      },
      "source": [
        "Prob_Exposed_Group = clicks_exp/8077\n",
        "print(Prob_Exposed_Group*100)"
      ],
      "execution_count": 73,
      "outputs": [
        {
          "output_type": "stream",
          "text": [
            "8.134208245635756\n"
          ],
          "name": "stdout"
        }
      ]
    },
    {
      "cell_type": "markdown",
      "metadata": {
        "id": "1_e6qEaTryhR",
        "colab_type": "text"
      },
      "source": [
        "#### P_Control=7%\n",
        "#### H0=7%\n",
        "#### H_Alternative = P_Control > 7%\n",
        "#### P_Value = P(P_Exposed >= 8% assuming H0 is True)\n",
        "#### P_Value = 3/5 = 0.6"
      ]
    },
    {
      "cell_type": "code",
      "metadata": {
        "id": "oupQGeIXryhT",
        "colab_type": "code",
        "colab": {}
      },
      "source": [
        "control_users = 4071\n",
        "exposed_users = 4006\n",
        "yes_control  = 264\n",
        "yes_exposed = 308\n",
        "p_control =  yes_control / control_users\n",
        "p_exposed =  yes_exposed / exposed_users"
      ],
      "execution_count": 74,
      "outputs": []
    },
    {
      "cell_type": "code",
      "metadata": {
        "id": "069WZQRjryhd",
        "colab_type": "code",
        "colab": {}
      },
      "source": [
        "con = 4071\n",
        "exp = 4006\n",
        "f_con, f_exp = 264, 308\n",
        "p_con, p_exp = f_con / con, f_exp / exp"
      ],
      "execution_count": 75,
      "outputs": []
    },
    {
      "cell_type": "code",
      "metadata": {
        "id": "BGOON3EAryhu",
        "colab_type": "code",
        "colab": {
          "base_uri": "https://localhost:8080/",
          "height": 0
        },
        "outputId": "e6a1c80a-7c1d-49d0-a387-e6574da3597f"
      },
      "source": [
        "def get_pvalue(con_conv, test_conv, con_size, test_size):\n",
        "    lift = -abs(test_conv - con_conv)\n",
        "    \n",
        "    scale_one = con_conv * (1-con_conv) * (1/ con_size)\n",
        "    scale_two = test_conv * (1-test_conv) * (1/ test_size)\n",
        "    scale_val = (scale_one + scale_two) ** 0.5\n",
        "    \n",
        "    p_value = 2 * stats.norm.cdf(lift, loc=0, scale = scale_val)  \n",
        "    return p_value\n",
        "get_pvalue(p_control,p_exposed,control_users,exposed_users)"
      ],
      "execution_count": 76,
      "outputs": [
        {
          "output_type": "execute_result",
          "data": {
            "text/plain": [
              "0.03507081594570177"
            ]
          },
          "metadata": {
            "tags": []
          },
          "execution_count": 76
        }
      ]
    },
    {
      "cell_type": "code",
      "metadata": {
        "id": "wAFu8FvMryh5",
        "colab_type": "code",
        "colab": {
          "base_uri": "https://localhost:8080/",
          "height": 0
        },
        "outputId": "690fe967-de26-4fff-fcf7-f7aa1fd5f554"
      },
      "source": [
        "def statistical_power(n, p1, p2, cl):\n",
        "    alpha = 1 - cl\n",
        "    qu = stats.norm.ppf(1 - alpha/2)\n",
        "    diff = abs(p2-p1)\n",
        "    bp = (p1+p2) / 2\n",
        "    \n",
        "    v1 = p1 * (1-p1)\n",
        "    v2 = p2 * (1-p2)\n",
        "    bv = bp * (1-bp)\n",
        "    \n",
        "    power_part_one = stats.norm.cdf((n**0.5 * diff - qu * (2 * bv)**0.5) / (v1+v2) ** 0.5)\n",
        "    power_part_two = 1 - stats.norm.cdf((n**0.5 * diff + qu * (2 * bv)**0.5) / (v1+v2) ** 0.5)\n",
        "    \n",
        "    power = power_part_one + power_part_two\n",
        "    \n",
        "    return (power)\n",
        "n = control_users + exposed_users\n",
        "confidence_level = 0.95\n",
        "statistical_power(n, p_control,p_exposed,confidence_level)"
      ],
      "execution_count": 77,
      "outputs": [
        {
          "output_type": "execute_result",
          "data": {
            "text/plain": [
              "0.8463840204300261"
            ]
          },
          "metadata": {
            "tags": []
          },
          "execution_count": 77
        }
      ]
    },
    {
      "cell_type": "markdown",
      "metadata": {
        "id": "KOq9Fl0nryiD",
        "colab_type": "text"
      },
      "source": [
        "This shows that at confidence level of (0.95=95%),and  the statistical power is 0.85 (85%), so, we reject the null hypothesis.\n",
        "The brand awareness change increased for the exposed group"
      ]
    },
    {
      "cell_type": "markdown",
      "metadata": {
        "id": "txD22CP5ryiK",
        "colab_type": "text"
      },
      "source": [
        "### The number of data points are not enough to make a reasonable judgment. \n",
        "### Increasing the number of N the Binomial Distribution will look like a Normal Distribution, which the approximationn of the mean would approach each other."
      ]
    },
    {
      "cell_type": "markdown",
      "metadata": {
        "id": "oH4NVPPIryiM",
        "colab_type": "text"
      },
      "source": [
        "### The brand awareness changed increase for the exposed group. The difference is not so large.\n",
        "### The A/B Analysis affects the decisions of the users"
      ]
    },
    {
      "cell_type": "markdown",
      "metadata": {
        "id": "yZyvgOjlryiN",
        "colab_type": "text"
      },
      "source": [
        "# 2.2 Machine Learning"
      ]
    },
    {
      "cell_type": "markdown",
      "metadata": {
        "id": "2v9PwzXRryiY",
        "colab_type": "text"
      },
      "source": [
        "#### Our problem is a YES/NO response to a questionnaire which predicts whether the campaign ad created by SmartAd company resulted in a significant lift in brand awareness or not. Our Dataset is splitted into two; Control and Exposed group. Our target variable is the yes response from users in the groups. "
      ]
    },
    {
      "cell_type": "markdown",
      "metadata": {
        "id": "opaHT799ryia",
        "colab_type": "text"
      },
      "source": [
        "### Training and Testing\n",
        "#### Splitting the data into 70% training, 20% validation, and 10% test sets. "
      ]
    },
    {
      "cell_type": "code",
      "metadata": {
        "id": "qj9363Uyryic",
        "colab_type": "code",
        "colab": {}
      },
      "source": [
        "class MultiColumnLabelEncoder:\n",
        "    def __init__(self,columns = None):\n",
        "        self.columns = columns # array of column names to encode\n",
        "\n",
        "    def fit(self,X,y=None):\n",
        "        return self # not relevant here\n",
        "\n",
        "    def transform(self,X):\n",
        "        '''\n",
        "        Transforms columns of X specified in self.columns using\n",
        "        LabelEncoder(). If no columns specified, transforms all\n",
        "        columns in X.\n",
        "        '''\n",
        "        output = X.copy()\n",
        "        if self.columns is not None:\n",
        "            for col in self.columns:\n",
        "                output[col] = ppr.LabelEncoder().fit_transform(output[col])\n",
        "        else:\n",
        "            for colname,col in output.iteritems():\n",
        "                output[colname] = ppr.LabelEncoder().fit_transform(col)\n",
        "        return output\n",
        "\n",
        "    def fit_transform(self,X,y=None):\n",
        "        return self.fit(X,y).transform(X)"
      ],
      "execution_count": 78,
      "outputs": []
    },
    {
      "cell_type": "code",
      "metadata": {
        "id": "U8RS1MqVryin",
        "colab_type": "code",
        "colab": {
          "base_uri": "https://localhost:8080/",
          "height": 82
        },
        "outputId": "e3922eee-c089-4dfe-9c96-f634e98b3b9b"
      },
      "source": [
        "ML_data = variable_one.drop(['auction_id','date'], axis=1)\n",
        "ML_data['target'] = np.where(ML_data['yes'] == 1, 'Aware', (np.where(ML_data['no'] == 1, 'Not Aware', 'No Response')))\n",
        "\n",
        "ML_data = MultiColumnLabelEncoder(columns = ['experiment','device_make','platform_os','browser','target']).fit_transform(ML_data)\n",
        "# define the target variable (dependent variable) as y\n",
        "y = ML_data.target \n",
        "\n",
        "ML_data = ML_data.drop(['yes','no','target'], axis=1)\n",
        "\n",
        "# create training and testing vars\n",
        "X_train, X_test, y_train, y_test = train_test_split(ML_data, y, test_size=0.1, random_state=0)\n",
        "print(f\" X-Train is: {X_train.shape}\\n Y-Train is: {y_train.shape}\\n X-Test is: {X_test.shape}\\n Y-Test is: {y_test.shape}\")"
      ],
      "execution_count": 81,
      "outputs": [
        {
          "output_type": "stream",
          "text": [
            " X-Train is: (7269, 5)\n",
            " Y-Train is: (7269,)\n",
            " X-Test is: (808, 5)\n",
            " Y-Test is: (808,)\n"
          ],
          "name": "stdout"
        }
      ]
    },
    {
      "cell_type": "markdown",
      "metadata": {
        "id": "xMgvs3Azryiw",
        "colab_type": "text"
      },
      "source": [
        "#### Train a machine learning model using 5-fold cross validation the following 3 different algorithms:\n",
        "#### 1. Logistic Regression \n",
        "#### 2. Decision Trees\n",
        "#### 3. XGBoost\n"
      ]
    },
    {
      "cell_type": "markdown",
      "metadata": {
        "id": "sLExC1BPryiy",
        "colab_type": "text"
      },
      "source": [
        "##### 1. Logistic Regression"
      ]
    },
    {
      "cell_type": "code",
      "metadata": {
        "id": "6S-2IFcyryi0",
        "colab_type": "code",
        "colab": {
          "base_uri": "https://localhost:8080/",
          "height": 447
        },
        "outputId": "7b9c2199-fe8a-4a2e-a67d-55c20a28d723"
      },
      "source": [
        "from sklearn.linear_model import LogisticRegression\n",
        "\n",
        "logreg = LogisticRegression()\n",
        "logreg_model = logreg.fit(X_train, y_train)\n",
        "\n",
        "logreg_y_pred = logreg.predict(X_test)\n",
        "print(f'Accuracy of logistic regression classifier on test set: {(logreg.score(X_test, y_test))}')\n",
        "\n",
        "#plotting the model\n",
        "## The line / model\n",
        "plt.scatter(y_test, logreg_y_pred)\n",
        "plt.xlabel('True Values')\n",
        "plt.ylabel('Predictions')"
      ],
      "execution_count": 82,
      "outputs": [
        {
          "output_type": "stream",
          "text": [
            "Accuracy of logistic regression classifier on test set: 0.8725247524752475\n"
          ],
          "name": "stdout"
        },
        {
          "output_type": "stream",
          "text": [
            "/usr/local/lib/python3.6/dist-packages/sklearn/linear_model/_logistic.py:940: ConvergenceWarning: lbfgs failed to converge (status=1):\n",
            "STOP: TOTAL NO. of ITERATIONS REACHED LIMIT.\n",
            "\n",
            "Increase the number of iterations (max_iter) or scale the data as shown in:\n",
            "    https://scikit-learn.org/stable/modules/preprocessing.html\n",
            "Please also refer to the documentation for alternative solver options:\n",
            "    https://scikit-learn.org/stable/modules/linear_model.html#logistic-regression\n",
            "  extra_warning_msg=_LOGISTIC_SOLVER_CONVERGENCE_MSG)\n"
          ],
          "name": "stderr"
        },
        {
          "output_type": "execute_result",
          "data": {
            "text/plain": [
              "Text(0, 0.5, 'Predictions')"
            ]
          },
          "metadata": {
            "tags": []
          },
          "execution_count": 82
        },
        {
          "output_type": "display_data",
          "data": {
            "image/png": "[encoded data removed]",
            "text/plain": [
              "<Figure size 432x288 with 1 Axes>"
            ]
          },
          "metadata": {
            "tags": []
          }
        }
      ]
    },
    {
      "cell_type": "markdown",
      "metadata": {
        "id": "ecGJ3gyvryjN",
        "colab_type": "text"
      },
      "source": [
        "##### 5-fold cross validation"
      ]
    },
    {
      "cell_type": "code",
      "metadata": {
        "id": "nZXk_Dp6ryjO",
        "colab_type": "code",
        "colab": {
          "base_uri": "https://localhost:8080/",
          "height": 1000
        },
        "outputId": "9f2d680a-1737-4668-a34f-0b2b4e7724f0"
      },
      "source": [
        "logreg_cv_scores = cross_val_score(logreg_model, ML_data, y, cv=5)\n",
        "\n",
        "# Make cross validated predictions\n",
        "logreg_cv_y_pred = cross_val_predict(logreg_model, ML_data, y, cv=6)\n",
        "plt.scatter(y, logreg_cv_y_pred)\n",
        "print('Cross-validated scores:', logreg_cv_scores)"
      ],
      "execution_count": 84,
      "outputs": [
        {
          "output_type": "stream",
          "text": [
            "/usr/local/lib/python3.6/dist-packages/sklearn/linear_model/_logistic.py:940: ConvergenceWarning: lbfgs failed to converge (status=1):\n",
            "STOP: TOTAL NO. of ITERATIONS REACHED LIMIT.\n",
            "\n",
            "Increase the number of iterations (max_iter) or scale the data as shown in:\n",
            "    https://scikit-learn.org/stable/modules/preprocessing.html\n",
            "Please also refer to the documentation for alternative solver options:\n",
            "    https://scikit-learn.org/stable/modules/linear_model.html#logistic-regression\n",
            "  extra_warning_msg=_LOGISTIC_SOLVER_CONVERGENCE_MSG)\n",
            "/usr/local/lib/python3.6/dist-packages/sklearn/linear_model/_logistic.py:940: ConvergenceWarning: lbfgs failed to converge (status=1):\n",
            "STOP: TOTAL NO. of ITERATIONS REACHED LIMIT.\n",
            "\n",
            "Increase the number of iterations (max_iter) or scale the data as shown in:\n",
            "    https://scikit-learn.org/stable/modules/preprocessing.html\n",
            "Please also refer to the documentation for alternative solver options:\n",
            "    https://scikit-learn.org/stable/modules/linear_model.html#logistic-regression\n",
            "  extra_warning_msg=_LOGISTIC_SOLVER_CONVERGENCE_MSG)\n",
            "/usr/local/lib/python3.6/dist-packages/sklearn/linear_model/_logistic.py:940: ConvergenceWarning: lbfgs failed to converge (status=1):\n",
            "STOP: TOTAL NO. of ITERATIONS REACHED LIMIT.\n",
            "\n",
            "Increase the number of iterations (max_iter) or scale the data as shown in:\n",
            "    https://scikit-learn.org/stable/modules/preprocessing.html\n",
            "Please also refer to the documentation for alternative solver options:\n",
            "    https://scikit-learn.org/stable/modules/linear_model.html#logistic-regression\n",
            "  extra_warning_msg=_LOGISTIC_SOLVER_CONVERGENCE_MSG)\n",
            "/usr/local/lib/python3.6/dist-packages/sklearn/linear_model/_logistic.py:940: ConvergenceWarning: lbfgs failed to converge (status=1):\n",
            "STOP: TOTAL NO. of ITERATIONS REACHED LIMIT.\n",
            "\n",
            "Increase the number of iterations (max_iter) or scale the data as shown in:\n",
            "    https://scikit-learn.org/stable/modules/preprocessing.html\n",
            "Please also refer to the documentation for alternative solver options:\n",
            "    https://scikit-learn.org/stable/modules/linear_model.html#logistic-regression\n",
            "  extra_warning_msg=_LOGISTIC_SOLVER_CONVERGENCE_MSG)\n",
            "/usr/local/lib/python3.6/dist-packages/sklearn/linear_model/_logistic.py:940: ConvergenceWarning: lbfgs failed to converge (status=1):\n",
            "STOP: TOTAL NO. of ITERATIONS REACHED LIMIT.\n",
            "\n",
            "Increase the number of iterations (max_iter) or scale the data as shown in:\n",
            "    https://scikit-learn.org/stable/modules/preprocessing.html\n",
            "Please also refer to the documentation for alternative solver options:\n",
            "    https://scikit-learn.org/stable/modules/linear_model.html#logistic-regression\n",
            "  extra_warning_msg=_LOGISTIC_SOLVER_CONVERGENCE_MSG)\n",
            "/usr/local/lib/python3.6/dist-packages/sklearn/linear_model/_logistic.py:940: ConvergenceWarning: lbfgs failed to converge (status=1):\n",
            "STOP: TOTAL NO. of ITERATIONS REACHED LIMIT.\n",
            "\n",
            "Increase the number of iterations (max_iter) or scale the data as shown in:\n",
            "    https://scikit-learn.org/stable/modules/preprocessing.html\n",
            "Please also refer to the documentation for alternative solver options:\n",
            "    https://scikit-learn.org/stable/modules/linear_model.html#logistic-regression\n",
            "  extra_warning_msg=_LOGISTIC_SOLVER_CONVERGENCE_MSG)\n",
            "/usr/local/lib/python3.6/dist-packages/sklearn/linear_model/_logistic.py:940: ConvergenceWarning: lbfgs failed to converge (status=1):\n",
            "STOP: TOTAL NO. of ITERATIONS REACHED LIMIT.\n",
            "\n",
            "Increase the number of iterations (max_iter) or scale the data as shown in:\n",
            "    https://scikit-learn.org/stable/modules/preprocessing.html\n",
            "Please also refer to the documentation for alternative solver options:\n",
            "    https://scikit-learn.org/stable/modules/linear_model.html#logistic-regression\n",
            "  extra_warning_msg=_LOGISTIC_SOLVER_CONVERGENCE_MSG)\n",
            "/usr/local/lib/python3.6/dist-packages/sklearn/linear_model/_logistic.py:940: ConvergenceWarning: lbfgs failed to converge (status=1):\n",
            "STOP: TOTAL NO. of ITERATIONS REACHED LIMIT.\n",
            "\n",
            "Increase the number of iterations (max_iter) or scale the data as shown in:\n",
            "    https://scikit-learn.org/stable/modules/preprocessing.html\n",
            "Please also refer to the documentation for alternative solver options:\n",
            "    https://scikit-learn.org/stable/modules/linear_model.html#logistic-regression\n",
            "  extra_warning_msg=_LOGISTIC_SOLVER_CONVERGENCE_MSG)\n",
            "/usr/local/lib/python3.6/dist-packages/sklearn/linear_model/_logistic.py:940: ConvergenceWarning: lbfgs failed to converge (status=1):\n",
            "STOP: TOTAL NO. of ITERATIONS REACHED LIMIT.\n",
            "\n",
            "Increase the number of iterations (max_iter) or scale the data as shown in:\n",
            "    https://scikit-learn.org/stable/modules/preprocessing.html\n",
            "Please also refer to the documentation for alternative solver options:\n",
            "    https://scikit-learn.org/stable/modules/linear_model.html#logistic-regression\n",
            "  extra_warning_msg=_LOGISTIC_SOLVER_CONVERGENCE_MSG)\n",
            "/usr/local/lib/python3.6/dist-packages/sklearn/linear_model/_logistic.py:940: ConvergenceWarning: lbfgs failed to converge (status=1):\n",
            "STOP: TOTAL NO. of ITERATIONS REACHED LIMIT.\n",
            "\n",
            "Increase the number of iterations (max_iter) or scale the data as shown in:\n",
            "    https://scikit-learn.org/stable/modules/preprocessing.html\n",
            "Please also refer to the documentation for alternative solver options:\n",
            "    https://scikit-learn.org/stable/modules/linear_model.html#logistic-regression\n",
            "  extra_warning_msg=_LOGISTIC_SOLVER_CONVERGENCE_MSG)\n",
            "/usr/local/lib/python3.6/dist-packages/sklearn/linear_model/_logistic.py:940: ConvergenceWarning: lbfgs failed to converge (status=1):\n",
            "STOP: TOTAL NO. of ITERATIONS REACHED LIMIT.\n",
            "\n",
            "Increase the number of iterations (max_iter) or scale the data as shown in:\n",
            "    https://scikit-learn.org/stable/modules/preprocessing.html\n",
            "Please also refer to the documentation for alternative solver options:\n",
            "    https://scikit-learn.org/stable/modules/linear_model.html#logistic-regression\n",
            "  extra_warning_msg=_LOGISTIC_SOLVER_CONVERGENCE_MSG)\n"
          ],
          "name": "stderr"
        },
        {
          "output_type": "stream",
          "text": [
            "Cross-validated scores: [0.84591584 0.84591584 0.84643963 0.84643963 0.84582043]\n"
          ],
          "name": "stdout"
        },
        {
          "output_type": "display_data",
          "data": {
            "image/png": "[encoded data removed]",
            "text/plain": [
              "<Figure size 432x288 with 1 Axes>"
            ]
          },
          "metadata": {
            "tags": []
          }
        }
      ]
    },
    {
      "cell_type": "markdown",
      "metadata": {
        "id": "1OH3SNCcryjY",
        "colab_type": "text"
      },
      "source": [
        "#### 2.  Decision Tree"
      ]
    },
    {
      "cell_type": "code",
      "metadata": {
        "id": "bqzjxwEkryja",
        "colab_type": "code",
        "colab": {
          "base_uri": "https://localhost:8080/",
          "height": 66
        },
        "outputId": "d63ff683-bae5-438b-9e0b-728a45cf20a8"
      },
      "source": [
        "dt = DecisionTreeClassifier()\n",
        "dt_model = dt.fit(X_train, y_train)\n",
        "\n",
        "dt_y_pred = dt.predict(X_test)\n",
        "\n",
        "awareness = np.array(y_test)\n",
        "dt_predictions = np.array(dt_y_pred)\n",
        "confusion_matrix(awareness, dt_predictions)"
      ],
      "execution_count": 88,
      "outputs": [
        {
          "output_type": "execute_result",
          "data": {
            "text/plain": [
              "array([[  0,  49,   1],\n",
              "       [ 26, 660,  19],\n",
              "       [  3,  50,   0]])"
            ]
          },
          "metadata": {
            "tags": []
          },
          "execution_count": 88
        }
      ]
    },
    {
      "cell_type": "code",
      "metadata": {
        "id": "HI6ZdTWtryjj",
        "colab_type": "code",
        "colab": {
          "base_uri": "https://localhost:8080/",
          "height": 300
        },
        "outputId": "04480f80-5273-4628-9f0a-44079f3a1698"
      },
      "source": [
        "# Perform 5-fold cross validation\n",
        "dt_cv_scores = cross_val_score(dt_model, ML_data, y, cv=5)\n",
        "print('Cross-validated scores:', dt_cv_scores)\n",
        "\n",
        "# Make cross validated predictions\n",
        "dt_cv_y_pred = cross_val_predict(dt_model, ML_data, y, cv=6)\n",
        "plt.scatter(y, dt_cv_y_pred)"
      ],
      "execution_count": 89,
      "outputs": [
        {
          "output_type": "stream",
          "text": [
            "Cross-validated scores: [0.80445545 0.7970297  0.80495356 0.78575851 0.80371517]\n"
          ],
          "name": "stdout"
        },
        {
          "output_type": "execute_result",
          "data": {
            "text/plain": [
              "<matplotlib.collections.PathCollection at 0x7f5d45ddcb70>"
            ]
          },
          "metadata": {
            "tags": []
          },
          "execution_count": 89
        },
        {
          "output_type": "display_data",
          "data": {
            "image/png": "[encoded data removed]",
            "text/plain": [
              "<Figure size 432x288 with 1 Axes>"
            ]
          },
          "metadata": {
            "tags": []
          }
        }
      ]
    },
    {
      "cell_type": "code",
      "metadata": {
        "id": "rqm71hBpryjv",
        "colab_type": "code",
        "colab": {
          "base_uri": "https://localhost:8080/",
          "height": 76
        },
        "outputId": "005e9888-d494-4a6c-e1f9-02f22a3339f2"
      },
      "source": [
        "pd.DataFrame(dt.feature_importances_.reshape(1, -1), columns=list(ML_data))"
      ],
      "execution_count": 90,
      "outputs": [
        {
          "output_type": "execute_result",
          "data": {
            "text/html": [
              "<div>\n",
              "<style scoped>\n",
              "    .dataframe tbody tr th:only-of-type {\n",
              "        vertical-align: middle;\n",
              "    }\n",
              "\n",
              "    .dataframe tbody tr th {\n",
              "        vertical-align: top;\n",
              "    }\n",
              "\n",
              "    .dataframe thead th {\n",
              "        text-align: right;\n",
              "    }\n",
              "</style>\n",
              "<table border=\"1\" class=\"dataframe\">\n",
              "  <thead>\n",
              "    <tr style=\"text-align: right;\">\n",
              "      <th></th>\n",
              "      <th>experiment</th>\n",
              "      <th>hour</th>\n",
              "      <th>device_make</th>\n",
              "      <th>platform_os</th>\n",
              "      <th>browser</th>\n",
              "    </tr>\n",
              "  </thead>\n",
              "  <tbody>\n",
              "    <tr>\n",
              "      <th>0</th>\n",
              "      <td>0.02425</td>\n",
              "      <td>0.436681</td>\n",
              "      <td>0.494897</td>\n",
              "      <td>0.000061</td>\n",
              "      <td>0.044112</td>\n",
              "    </tr>\n",
              "  </tbody>\n",
              "</table>\n",
              "</div>"
            ],
            "text/plain": [
              "   experiment      hour  device_make  platform_os   browser\n",
              "0     0.02425  0.436681     0.494897     0.000061  0.044112"
            ]
          },
          "metadata": {
            "tags": []
          },
          "execution_count": 90
        }
      ]
    },
    {
      "cell_type": "markdown",
      "metadata": {
        "id": "rRuW1hTYryj7",
        "colab_type": "text"
      },
      "source": [
        "#### 3.  XGBoost"
      ]
    },
    {
      "cell_type": "code",
      "metadata": {
        "id": "PbiAJEODryj8",
        "colab_type": "code",
        "colab": {
          "base_uri": "https://localhost:8080/",
          "height": 66
        },
        "outputId": "2f4c7dc4-69ff-4588-bea7-6cdf1262410b"
      },
      "source": [
        "regressor = xgb.XGBRegressor(\n",
        "    n_estimators=100,\n",
        "    reg_lambda=1,\n",
        "    gamma=0,\n",
        "    max_depth=3\n",
        ")\n",
        "\n",
        "xg_model = regressor.fit(X_train, y_train)\n",
        "\n",
        "xg_y_pred = regressor.predict(X_test)\n",
        "\n",
        "xg_mse = mean_squared_error(y_test, xg_y_pred)\n",
        "xg_rmse = np.sqrt(xg_mse)\n",
        "\n",
        "print('Mean Squared Error of XGBoost model is : ',xg_mse,'\\nRoot Mean Squared Error of XGBoost model is : ', xg_rmse)"
      ],
      "execution_count": 91,
      "outputs": [
        {
          "output_type": "stream",
          "text": [
            "[15:39:36] WARNING: /workspace/src/objective/regression_obj.cu:152: reg:linear is now deprecated in favor of reg:squarederror.\n",
            "Mean Squared Error of XGBoost model is :  0.12989727353506653 \n",
            "Root Mean Squared Error of XGBoost model is :  0.3604126434173287\n"
          ],
          "name": "stdout"
        }
      ]
    },
    {
      "cell_type": "code",
      "metadata": {
        "id": "c4KqQ1GprykJ",
        "colab_type": "code",
        "colab": {
          "base_uri": "https://localhost:8080/",
          "height": 478
        },
        "outputId": "a36fea0a-8442-438e-8e6e-ab1069acd45a"
      },
      "source": [
        "# Perform 5-fold cross validation\n",
        "xg_cv_scores = cross_val_score(xg_model, ML_data, y, cv=5)\n",
        "print('Cross-validated scores:', xg_cv_scores)\n",
        "\n",
        "# Make cross validated predictions\n",
        "xg_cv_y_pred = cross_val_predict(xg_model, ML_data, y, cv=6)\n",
        "plt.scatter(y, xg_cv_y_pred)"
      ],
      "execution_count": 92,
      "outputs": [
        {
          "output_type": "stream",
          "text": [
            "[15:39:43] WARNING: /workspace/src/objective/regression_obj.cu:152: reg:linear is now deprecated in favor of reg:squarederror.\n",
            "[15:39:43] WARNING: /workspace/src/objective/regression_obj.cu:152: reg:linear is now deprecated in favor of reg:squarederror.\n",
            "[15:39:43] WARNING: /workspace/src/objective/regression_obj.cu:152: reg:linear is now deprecated in favor of reg:squarederror.\n",
            "[15:39:43] WARNING: /workspace/src/objective/regression_obj.cu:152: reg:linear is now deprecated in favor of reg:squarederror.\n",
            "[15:39:43] WARNING: /workspace/src/objective/regression_obj.cu:152: reg:linear is now deprecated in favor of reg:squarederror.\n",
            "Cross-validated scores: [ 0.00024509 -0.03108185 -0.01230869 -0.01002037 -0.0014459 ]\n",
            "[15:39:44] WARNING: /workspace/src/objective/regression_obj.cu:152: reg:linear is now deprecated in favor of reg:squarederror.\n",
            "[15:39:44] WARNING: /workspace/src/objective/regression_obj.cu:152: reg:linear is now deprecated in favor of reg:squarederror.\n",
            "[15:39:44] WARNING: /workspace/src/objective/regression_obj.cu:152: reg:linear is now deprecated in favor of reg:squarederror.\n",
            "[15:39:44] WARNING: /workspace/src/objective/regression_obj.cu:152: reg:linear is now deprecated in favor of reg:squarederror.\n",
            "[15:39:45] WARNING: /workspace/src/objective/regression_obj.cu:152: reg:linear is now deprecated in favor of reg:squarederror.\n",
            "[15:39:45] WARNING: /workspace/src/objective/regression_obj.cu:152: reg:linear is now deprecated in favor of reg:squarederror.\n"
          ],
          "name": "stdout"
        },
        {
          "output_type": "execute_result",
          "data": {
            "text/plain": [
              "<matplotlib.collections.PathCollection at 0x7f5d45d575f8>"
            ]
          },
          "metadata": {
            "tags": []
          },
          "execution_count": 92
        },
        {
          "output_type": "display_data",
          "data": {
            "image/png": "[encoded data removed]",
            "text/plain": [
              "<Figure size 432x288 with 1 Axes>"
            ]
          },
          "metadata": {
            "tags": []
          }
        }
      ]
    },
    {
      "cell_type": "code",
      "metadata": {
        "id": "q0XqxKEerykS",
        "colab_type": "code",
        "colab": {
          "base_uri": "https://localhost:8080/",
          "height": 76
        },
        "outputId": "d22dd226-da67-419d-a085-c6fe92cfd441"
      },
      "source": [
        "pd.DataFrame(regressor.feature_importances_.reshape(1, -1), columns=list(ML_data))"
      ],
      "execution_count": 93,
      "outputs": [
        {
          "output_type": "execute_result",
          "data": {
            "text/html": [
              "<div>\n",
              "<style scoped>\n",
              "    .dataframe tbody tr th:only-of-type {\n",
              "        vertical-align: middle;\n",
              "    }\n",
              "\n",
              "    .dataframe tbody tr th {\n",
              "        vertical-align: top;\n",
              "    }\n",
              "\n",
              "    .dataframe thead th {\n",
              "        text-align: right;\n",
              "    }\n",
              "</style>\n",
              "<table border=\"1\" class=\"dataframe\">\n",
              "  <thead>\n",
              "    <tr style=\"text-align: right;\">\n",
              "      <th></th>\n",
              "      <th>experiment</th>\n",
              "      <th>hour</th>\n",
              "      <th>device_make</th>\n",
              "      <th>platform_os</th>\n",
              "      <th>browser</th>\n",
              "    </tr>\n",
              "  </thead>\n",
              "  <tbody>\n",
              "    <tr>\n",
              "      <th>0</th>\n",
              "      <td>0.202763</td>\n",
              "      <td>0.195139</td>\n",
              "      <td>0.21396</td>\n",
              "      <td>0.169612</td>\n",
              "      <td>0.218525</td>\n",
              "    </tr>\n",
              "  </tbody>\n",
              "</table>\n",
              "</div>"
            ],
            "text/plain": [
              "   experiment      hour  device_make  platform_os   browser\n",
              "0    0.202763  0.195139      0.21396     0.169612  0.218525"
            ]
          },
          "metadata": {
            "tags": []
          },
          "execution_count": 93
        }
      ]
    },
    {
      "cell_type": "code",
      "metadata": {
        "id": "aemlmKz_ryke",
        "colab_type": "code",
        "colab": {}
      },
      "source": [
        "!pip freeze > requirements.txt"
      ],
      "execution_count": 94,
      "outputs": []
    },
    {
      "cell_type": "code",
      "metadata": {
        "id": "1a9QgeDCrykn",
        "colab_type": "code",
        "colab": {}
      },
      "source": [
        ""
      ],
      "execution_count": null,
      "outputs": []
    }
  ]
}