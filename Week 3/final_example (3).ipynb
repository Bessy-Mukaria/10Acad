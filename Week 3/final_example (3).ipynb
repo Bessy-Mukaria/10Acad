{
 "cells": [
  {
   "cell_type": "code",
   "execution_count": 1,
   "metadata": {},
   "outputs": [
    {
     "name": "stderr",
     "output_type": "stream",
     "text": [
      "WARNING (theano.configdefaults): g++ not available, if using conda: `conda install m2w64-toolchain`\n",
      "C:\\ProgramData\\Anaconda3\\lib\\site-packages\\theano\\configdefaults.py:560: UserWarning: DeprecationWarning: there is no c++ compiler.This is deprecated and with Theano 0.11 a c++ compiler will be mandatory\n",
      "  warnings.warn(\"DeprecationWarning: there is no c++ compiler.\"\n",
      "WARNING (theano.configdefaults): g++ not detected ! Theano will be unable to execute optimized C-implementations (for both CPU and GPU) and will default to Python implementations. Performance will be severely degraded. To remove this warning, set Theano flags cxx to an empty string.\n",
      "WARNING (theano.tensor.blas): Using NumPy C-API based implementation for BLAS functions.\n"
     ]
    }
   ],
   "source": [
    "import datetime\n",
    "import time as time_module\n",
    "import sys\n",
    "import pandas as pd\n",
    "import numpy as np\n",
    "import matplotlib as mpl\n",
    "import matplotlib.pyplot as plt\n",
    "import scipy.stats\n",
    "import theano\n",
    "import theano.tensor as tt\n",
    "import pymc3 as pm"
   ]
  },
  {
   "cell_type": "code",
   "execution_count": 2,
   "metadata": {
    "scrolled": true
   },
   "outputs": [
    {
     "name": "stdout",
     "output_type": "stream",
     "text": [
      "Collecting git+https://github.com/Priesemann-Group/covid19_inference.git\n",
      "  Cloning https://github.com/Priesemann-Group/covid19_inference.git to c:\\users\\admini~1\\appdata\\local\\temp\\pip-req-build-exbln210\n",
      "Requirement already satisfied (use --upgrade to upgrade): covid19-inference==0.1.8a0 from git+https://github.com/Priesemann-Group/covid19_inference.git in c:\\programdata\\anaconda3\\lib\\site-packages\n",
      "Requirement already satisfied: pymc3 in c:\\programdata\\anaconda3\\lib\\site-packages (from covid19-inference==0.1.8a0) (3.9.2)\n",
      "Requirement already satisfied: matplotlib in c:\\programdata\\anaconda3\\lib\\site-packages (from covid19-inference==0.1.8a0) (3.1.3)\n",
      "Requirement already satisfied: numpy in c:\\programdata\\anaconda3\\lib\\site-packages (from covid19-inference==0.1.8a0) (1.18.1)\n",
      "Requirement already satisfied: pandas in c:\\programdata\\anaconda3\\lib\\site-packages (from covid19-inference==0.1.8a0) (1.0.1)\n",
      "Requirement already satisfied: theano in c:\\programdata\\anaconda3\\lib\\site-packages (from covid19-inference==0.1.8a0) (1.0.5)\n",
      "Requirement already satisfied: h5py>=2.7.0 in c:\\programdata\\anaconda3\\lib\\site-packages (from pymc3->covid19-inference==0.1.8a0) (2.10.0)\n",
      "Requirement already satisfied: scipy>=0.18.1 in c:\\programdata\\anaconda3\\lib\\site-packages (from pymc3->covid19-inference==0.1.8a0) (1.4.1)\n",
      "Requirement already satisfied: typing-extensions>=3.7.4 in c:\\programdata\\anaconda3\\lib\\site-packages (from pymc3->covid19-inference==0.1.8a0) (3.7.4.2)\n",
      "Requirement already satisfied: arviz>=0.9.0 in c:\\programdata\\anaconda3\\lib\\site-packages (from pymc3->covid19-inference==0.1.8a0) (0.9.0)\n",
      "Requirement already satisfied: patsy>=0.5.1 in c:\\programdata\\anaconda3\\lib\\site-packages (from pymc3->covid19-inference==0.1.8a0) (0.5.1)\n",
      "Requirement already satisfied: fastprogress>=0.2.0 in c:\\programdata\\anaconda3\\lib\\site-packages (from pymc3->covid19-inference==0.1.8a0) (0.2.4)\n",
      "Requirement already satisfied: python-dateutil>=2.1 in c:\\programdata\\anaconda3\\lib\\site-packages (from matplotlib->covid19-inference==0.1.8a0) (2.8.1)\n",
      "Requirement already satisfied: pyparsing!=2.0.4,!=2.1.2,!=2.1.6,>=2.0.1 in c:\\programdata\\anaconda3\\lib\\site-packages (from matplotlib->covid19-inference==0.1.8a0) (2.4.6)\n",
      "Requirement already satisfied: cycler>=0.10 in c:\\programdata\\anaconda3\\lib\\site-packages (from matplotlib->covid19-inference==0.1.8a0) (0.10.0)\n",
      "Requirement already satisfied: kiwisolver>=1.0.1 in c:\\programdata\\anaconda3\\lib\\site-packages (from matplotlib->covid19-inference==0.1.8a0) (1.1.0)\n",
      "Requirement already satisfied: pytz>=2017.2 in c:\\programdata\\anaconda3\\lib\\site-packages (from pandas->covid19-inference==0.1.8a0) (2019.3)\n",
      "Requirement already satisfied: six>=1.9.0 in c:\\programdata\\anaconda3\\lib\\site-packages (from theano->covid19-inference==0.1.8a0) (1.14.0)\n",
      "Requirement already satisfied: packaging in c:\\programdata\\anaconda3\\lib\\site-packages (from arviz>=0.9.0->pymc3->covid19-inference==0.1.8a0) (20.1)\n",
      "Requirement already satisfied: netcdf4 in c:\\programdata\\anaconda3\\lib\\site-packages (from arviz>=0.9.0->pymc3->covid19-inference==0.1.8a0) (1.5.4)\n",
      "Requirement already satisfied: xarray>=0.11 in c:\\programdata\\anaconda3\\lib\\site-packages (from arviz>=0.9.0->pymc3->covid19-inference==0.1.8a0) (0.16.0)\n",
      "Requirement already satisfied: setuptools in c:\\programdata\\anaconda3\\lib\\site-packages (from kiwisolver>=1.0.1->matplotlib->covid19-inference==0.1.8a0) (45.2.0.post20200210)\n",
      "Requirement already satisfied: cftime in c:\\programdata\\anaconda3\\lib\\site-packages (from netcdf4->arviz>=0.9.0->pymc3->covid19-inference==0.1.8a0) (1.2.1)\n",
      "Building wheels for collected packages: covid19-inference\n",
      "  Building wheel for covid19-inference (setup.py): started\n",
      "  Building wheel for covid19-inference (setup.py): finished with status 'done'\n",
      "  Created wheel for covid19-inference: filename=covid19_inference-0.1.8a0-py3-none-any.whl size=104540 sha256=5fa1f5f1d4a405501b00f18dd051c363c6b0abd2cab1873bd541ac89aed9dcfe\n",
      "  Stored in directory: C:\\Users\\ADMINI~1\\AppData\\Local\\Temp\\pip-ephem-wheel-cache-1_isdwi2\\wheels\\49\\b1\\39\\e7c95d0fd9fc85ca2618197f9099261dc2ec4099c681f9a8a1\n",
      "Successfully built covid19-inference\n"
     ]
    },
    {
     "name": "stderr",
     "output_type": "stream",
     "text": [
      "  Running command git clone -q https://github.com/Priesemann-Group/covid19_inference.git 'C:\\Users\\ADMINI~1\\AppData\\Local\\Temp\\pip-req-build-exbln210'\n"
     ]
    }
   ],
   "source": [
    "!pip install git+https://github.com/Priesemann-Group/covid19_inference.git"
   ]
  },
  {
   "cell_type": "code",
   "execution_count": 2,
   "metadata": {},
   "outputs": [],
   "source": [
    "try:\n",
    "    import covid19_inference as cov19\n",
    "except ModuleNotFoundError:\n",
    "    sys.path.append(\"../../\")\n",
    "    import covid19_inference as cov19"
   ]
  },
  {
   "cell_type": "code",
   "execution_count": 3,
   "metadata": {},
   "outputs": [
    {
     "name": "stderr",
     "output_type": "stream",
     "text": [
      "INFO     [covid19_inference.data_retrieval._JHU] Successfully loaded data from local\n"
     ]
    }
   ],
   "source": [
    "# rki = cov19.data_retrieval.RKI()  # It is important to download the dataset!\n",
    "# rki.download_all_available_data()\n",
    "\n",
    "jhu = cov19.data_retrieval.JHU()\n",
    "jhu.download_all_available_data()\n",
    "# One could also parse True to the constructor of the class to force an auto download"
   ]
  },
  {
   "cell_type": "code",
   "execution_count": 4,
   "metadata": {},
   "outputs": [
    {
     "name": "stderr",
     "output_type": "stream",
     "text": [
      "INFO     [covid19_inference.data_retrieval.retrieval] Successfully loaded data from local\n"
     ]
    },
    {
     "data": {
      "text/html": [
       "<div>\n",
       "<style scoped>\n",
       "    .dataframe tbody tr th:only-of-type {\n",
       "        vertical-align: middle;\n",
       "    }\n",
       "\n",
       "    .dataframe tbody tr th {\n",
       "        vertical-align: top;\n",
       "    }\n",
       "\n",
       "    .dataframe thead th {\n",
       "        text-align: right;\n",
       "    }\n",
       "</style>\n",
       "<table border=\"1\" class=\"dataframe\">\n",
       "  <thead>\n",
       "    <tr style=\"text-align: right;\">\n",
       "      <th></th>\n",
       "      <th>FID</th>\n",
       "      <th>IdBundesland</th>\n",
       "      <th>Bundesland</th>\n",
       "      <th>Landkreis</th>\n",
       "      <th>Altersgruppe</th>\n",
       "      <th>Geschlecht</th>\n",
       "      <th>confirmed</th>\n",
       "      <th>deaths</th>\n",
       "      <th>IdLandkreis</th>\n",
       "      <th>Datenstand</th>\n",
       "      <th>NeuerFall</th>\n",
       "      <th>NeuerTodesfall</th>\n",
       "      <th>NeuGenesen</th>\n",
       "      <th>recovered</th>\n",
       "      <th>IstErkrankungsbeginn</th>\n",
       "      <th>Altersgruppe2</th>\n",
       "      <th>date</th>\n",
       "      <th>date_ref</th>\n",
       "    </tr>\n",
       "  </thead>\n",
       "  <tbody>\n",
       "    <tr>\n",
       "      <th>0</th>\n",
       "      <td>26817550</td>\n",
       "      <td>1</td>\n",
       "      <td>Schleswig-Holstein</td>\n",
       "      <td>SK Flensburg</td>\n",
       "      <td>A15-A34</td>\n",
       "      <td>M</td>\n",
       "      <td>1</td>\n",
       "      <td>0</td>\n",
       "      <td>1001</td>\n",
       "      <td>07.08.2020, 00:00 Uhr</td>\n",
       "      <td>0</td>\n",
       "      <td>-9</td>\n",
       "      <td>0</td>\n",
       "      <td>1</td>\n",
       "      <td>1</td>\n",
       "      <td>Nicht übermittelt</td>\n",
       "      <td>2020-03-14</td>\n",
       "      <td>2020-03-16</td>\n",
       "    </tr>\n",
       "    <tr>\n",
       "      <th>1</th>\n",
       "      <td>26817551</td>\n",
       "      <td>1</td>\n",
       "      <td>Schleswig-Holstein</td>\n",
       "      <td>SK Flensburg</td>\n",
       "      <td>A15-A34</td>\n",
       "      <td>M</td>\n",
       "      <td>1</td>\n",
       "      <td>0</td>\n",
       "      <td>1001</td>\n",
       "      <td>07.08.2020, 00:00 Uhr</td>\n",
       "      <td>0</td>\n",
       "      <td>-9</td>\n",
       "      <td>0</td>\n",
       "      <td>1</td>\n",
       "      <td>1</td>\n",
       "      <td>Nicht übermittelt</td>\n",
       "      <td>2020-03-19</td>\n",
       "      <td>2020-03-13</td>\n",
       "    </tr>\n",
       "    <tr>\n",
       "      <th>2</th>\n",
       "      <td>26817552</td>\n",
       "      <td>1</td>\n",
       "      <td>Schleswig-Holstein</td>\n",
       "      <td>SK Flensburg</td>\n",
       "      <td>A15-A34</td>\n",
       "      <td>M</td>\n",
       "      <td>1</td>\n",
       "      <td>0</td>\n",
       "      <td>1001</td>\n",
       "      <td>07.08.2020, 00:00 Uhr</td>\n",
       "      <td>0</td>\n",
       "      <td>-9</td>\n",
       "      <td>0</td>\n",
       "      <td>1</td>\n",
       "      <td>1</td>\n",
       "      <td>Nicht übermittelt</td>\n",
       "      <td>2020-03-19</td>\n",
       "      <td>2020-03-16</td>\n",
       "    </tr>\n",
       "    <tr>\n",
       "      <th>3</th>\n",
       "      <td>26817553</td>\n",
       "      <td>1</td>\n",
       "      <td>Schleswig-Holstein</td>\n",
       "      <td>SK Flensburg</td>\n",
       "      <td>A15-A34</td>\n",
       "      <td>M</td>\n",
       "      <td>1</td>\n",
       "      <td>0</td>\n",
       "      <td>1001</td>\n",
       "      <td>07.08.2020, 00:00 Uhr</td>\n",
       "      <td>0</td>\n",
       "      <td>-9</td>\n",
       "      <td>0</td>\n",
       "      <td>1</td>\n",
       "      <td>1</td>\n",
       "      <td>Nicht übermittelt</td>\n",
       "      <td>2020-03-21</td>\n",
       "      <td>2020-03-13</td>\n",
       "    </tr>\n",
       "    <tr>\n",
       "      <th>4</th>\n",
       "      <td>26817554</td>\n",
       "      <td>1</td>\n",
       "      <td>Schleswig-Holstein</td>\n",
       "      <td>SK Flensburg</td>\n",
       "      <td>A15-A34</td>\n",
       "      <td>M</td>\n",
       "      <td>1</td>\n",
       "      <td>0</td>\n",
       "      <td>1001</td>\n",
       "      <td>07.08.2020, 00:00 Uhr</td>\n",
       "      <td>0</td>\n",
       "      <td>-9</td>\n",
       "      <td>0</td>\n",
       "      <td>1</td>\n",
       "      <td>1</td>\n",
       "      <td>Nicht übermittelt</td>\n",
       "      <td>2020-03-27</td>\n",
       "      <td>2020-03-22</td>\n",
       "    </tr>\n",
       "    <tr>\n",
       "      <th>...</th>\n",
       "      <td>...</td>\n",
       "      <td>...</td>\n",
       "      <td>...</td>\n",
       "      <td>...</td>\n",
       "      <td>...</td>\n",
       "      <td>...</td>\n",
       "      <td>...</td>\n",
       "      <td>...</td>\n",
       "      <td>...</td>\n",
       "      <td>...</td>\n",
       "      <td>...</td>\n",
       "      <td>...</td>\n",
       "      <td>...</td>\n",
       "      <td>...</td>\n",
       "      <td>...</td>\n",
       "      <td>...</td>\n",
       "      <td>...</td>\n",
       "      <td>...</td>\n",
       "    </tr>\n",
       "    <tr>\n",
       "      <th>173204</th>\n",
       "      <td>26990754</td>\n",
       "      <td>16</td>\n",
       "      <td>Thüringen</td>\n",
       "      <td>LK Altenburger Land</td>\n",
       "      <td>A80+</td>\n",
       "      <td>M</td>\n",
       "      <td>1</td>\n",
       "      <td>0</td>\n",
       "      <td>16077</td>\n",
       "      <td>07.08.2020, 00:00 Uhr</td>\n",
       "      <td>0</td>\n",
       "      <td>-9</td>\n",
       "      <td>0</td>\n",
       "      <td>1</td>\n",
       "      <td>1</td>\n",
       "      <td>Nicht übermittelt</td>\n",
       "      <td>2020-06-09</td>\n",
       "      <td>2020-05-19</td>\n",
       "    </tr>\n",
       "    <tr>\n",
       "      <th>173205</th>\n",
       "      <td>26990755</td>\n",
       "      <td>16</td>\n",
       "      <td>Thüringen</td>\n",
       "      <td>LK Altenburger Land</td>\n",
       "      <td>A80+</td>\n",
       "      <td>W</td>\n",
       "      <td>1</td>\n",
       "      <td>0</td>\n",
       "      <td>16077</td>\n",
       "      <td>07.08.2020, 00:00 Uhr</td>\n",
       "      <td>0</td>\n",
       "      <td>-9</td>\n",
       "      <td>0</td>\n",
       "      <td>1</td>\n",
       "      <td>1</td>\n",
       "      <td>Nicht übermittelt</td>\n",
       "      <td>2020-05-06</td>\n",
       "      <td>2020-05-04</td>\n",
       "    </tr>\n",
       "    <tr>\n",
       "      <th>173206</th>\n",
       "      <td>26990756</td>\n",
       "      <td>16</td>\n",
       "      <td>Thüringen</td>\n",
       "      <td>LK Altenburger Land</td>\n",
       "      <td>A80+</td>\n",
       "      <td>W</td>\n",
       "      <td>1</td>\n",
       "      <td>0</td>\n",
       "      <td>16077</td>\n",
       "      <td>07.08.2020, 00:00 Uhr</td>\n",
       "      <td>0</td>\n",
       "      <td>-9</td>\n",
       "      <td>0</td>\n",
       "      <td>1</td>\n",
       "      <td>1</td>\n",
       "      <td>Nicht übermittelt</td>\n",
       "      <td>2020-05-11</td>\n",
       "      <td>2020-05-01</td>\n",
       "    </tr>\n",
       "    <tr>\n",
       "      <th>173207</th>\n",
       "      <td>26990757</td>\n",
       "      <td>16</td>\n",
       "      <td>Thüringen</td>\n",
       "      <td>LK Altenburger Land</td>\n",
       "      <td>A80+</td>\n",
       "      <td>W</td>\n",
       "      <td>2</td>\n",
       "      <td>0</td>\n",
       "      <td>16077</td>\n",
       "      <td>07.08.2020, 00:00 Uhr</td>\n",
       "      <td>0</td>\n",
       "      <td>-9</td>\n",
       "      <td>0</td>\n",
       "      <td>2</td>\n",
       "      <td>0</td>\n",
       "      <td>Nicht übermittelt</td>\n",
       "      <td>2020-05-28</td>\n",
       "      <td>2020-05-28</td>\n",
       "    </tr>\n",
       "    <tr>\n",
       "      <th>173208</th>\n",
       "      <td>26990758</td>\n",
       "      <td>16</td>\n",
       "      <td>Thüringen</td>\n",
       "      <td>LK Altenburger Land</td>\n",
       "      <td>A80+</td>\n",
       "      <td>W</td>\n",
       "      <td>1</td>\n",
       "      <td>0</td>\n",
       "      <td>16077</td>\n",
       "      <td>07.08.2020, 00:00 Uhr</td>\n",
       "      <td>0</td>\n",
       "      <td>-9</td>\n",
       "      <td>0</td>\n",
       "      <td>1</td>\n",
       "      <td>0</td>\n",
       "      <td>Nicht übermittelt</td>\n",
       "      <td>2020-06-09</td>\n",
       "      <td>2020-06-09</td>\n",
       "    </tr>\n",
       "  </tbody>\n",
       "</table>\n",
       "<p>173209 rows × 18 columns</p>\n",
       "</div>"
      ],
      "text/plain": [
       "             FID  IdBundesland          Bundesland            Landkreis  \\\n",
       "0       26817550             1  Schleswig-Holstein         SK Flensburg   \n",
       "1       26817551             1  Schleswig-Holstein         SK Flensburg   \n",
       "2       26817552             1  Schleswig-Holstein         SK Flensburg   \n",
       "3       26817553             1  Schleswig-Holstein         SK Flensburg   \n",
       "4       26817554             1  Schleswig-Holstein         SK Flensburg   \n",
       "...          ...           ...                 ...                  ...   \n",
       "173204  26990754            16           Thüringen  LK Altenburger Land   \n",
       "173205  26990755            16           Thüringen  LK Altenburger Land   \n",
       "173206  26990756            16           Thüringen  LK Altenburger Land   \n",
       "173207  26990757            16           Thüringen  LK Altenburger Land   \n",
       "173208  26990758            16           Thüringen  LK Altenburger Land   \n",
       "\n",
       "       Altersgruppe Geschlecht  confirmed  deaths  IdLandkreis  \\\n",
       "0           A15-A34          M          1       0         1001   \n",
       "1           A15-A34          M          1       0         1001   \n",
       "2           A15-A34          M          1       0         1001   \n",
       "3           A15-A34          M          1       0         1001   \n",
       "4           A15-A34          M          1       0         1001   \n",
       "...             ...        ...        ...     ...          ...   \n",
       "173204         A80+          M          1       0        16077   \n",
       "173205         A80+          W          1       0        16077   \n",
       "173206         A80+          W          1       0        16077   \n",
       "173207         A80+          W          2       0        16077   \n",
       "173208         A80+          W          1       0        16077   \n",
       "\n",
       "                   Datenstand  NeuerFall  NeuerTodesfall  NeuGenesen  \\\n",
       "0       07.08.2020, 00:00 Uhr          0              -9           0   \n",
       "1       07.08.2020, 00:00 Uhr          0              -9           0   \n",
       "2       07.08.2020, 00:00 Uhr          0              -9           0   \n",
       "3       07.08.2020, 00:00 Uhr          0              -9           0   \n",
       "4       07.08.2020, 00:00 Uhr          0              -9           0   \n",
       "...                       ...        ...             ...         ...   \n",
       "173204  07.08.2020, 00:00 Uhr          0              -9           0   \n",
       "173205  07.08.2020, 00:00 Uhr          0              -9           0   \n",
       "173206  07.08.2020, 00:00 Uhr          0              -9           0   \n",
       "173207  07.08.2020, 00:00 Uhr          0              -9           0   \n",
       "173208  07.08.2020, 00:00 Uhr          0              -9           0   \n",
       "\n",
       "        recovered  IstErkrankungsbeginn      Altersgruppe2       date  \\\n",
       "0               1                     1  Nicht übermittelt 2020-03-14   \n",
       "1               1                     1  Nicht übermittelt 2020-03-19   \n",
       "2               1                     1  Nicht übermittelt 2020-03-19   \n",
       "3               1                     1  Nicht übermittelt 2020-03-21   \n",
       "4               1                     1  Nicht übermittelt 2020-03-27   \n",
       "...           ...                   ...                ...        ...   \n",
       "173204          1                     1  Nicht übermittelt 2020-06-09   \n",
       "173205          1                     1  Nicht übermittelt 2020-05-06   \n",
       "173206          1                     1  Nicht übermittelt 2020-05-11   \n",
       "173207          2                     0  Nicht übermittelt 2020-05-28   \n",
       "173208          1                     0  Nicht übermittelt 2020-06-09   \n",
       "\n",
       "         date_ref  \n",
       "0      2020-03-16  \n",
       "1      2020-03-13  \n",
       "2      2020-03-16  \n",
       "3      2020-03-13  \n",
       "4      2020-03-22  \n",
       "...           ...  \n",
       "173204 2020-05-19  \n",
       "173205 2020-05-04  \n",
       "173206 2020-05-01  \n",
       "173207 2020-05-28  \n",
       "173208 2020-06-09  \n",
       "\n",
       "[173209 rows x 18 columns]"
      ]
     },
     "execution_count": 4,
     "metadata": {},
     "output_type": "execute_result"
    }
   ],
   "source": [
    "rki = cov19.data_retrieval.RKI()  # It is important to download the dataset!\n",
    "rki.download_all_available_data()\n",
    "rki.data"
   ]
  },
  {
   "cell_type": "code",
   "execution_count": 5,
   "metadata": {},
   "outputs": [
    {
     "name": "stderr",
     "output_type": "stream",
     "text": [
      "INFO     [covid19_inference.data_retrieval._JHU] Successfully loaded data from local\n"
     ]
    }
   ],
   "source": [
    "jhu = cov19.data_retrieval.JHU()  \n",
    "jhu.download_all_available_data()"
   ]
  },
  {
   "cell_type": "code",
   "execution_count": null,
   "metadata": {},
   "outputs": [],
   "source": [
    "raw = (pd.read_excel(\"https://github.com/busgandy/10Acad/blob/master/Week%203/eth-covid19-data.xlsx?raw=true\"))\n",
    "raw.set_index('date',inplace=True)\n",
    "new_case = raw.iloc[:,0]\n",
    "plt.figure(figsize=[10,8])\n",
    "plt.title('Covid-19 Confirmed Cases Distribution for Ethiopia')\n",
    "new_case.plot()"
   ]
  },
  {
   "cell_type": "code",
   "execution_count": 6,
   "metadata": {},
   "outputs": [
    {
     "name": "stderr",
     "output_type": "stream",
     "text": [
      "INFO     [numexpr.utils] NumExpr defaulting to 4 threads.\n"
     ]
    },
    {
     "data": {
      "text/plain": [
       "Text(0.5, 1.0, 'Covid-19 Confirmed Cases Distribution for Ethiopia')"
      ]
     },
     "execution_count": 6,
     "metadata": {},
     "output_type": "execute_result"
    },
    {
     "data": {
      "image/png": "[encoded data removed]",
      "text/plain": [
       "<Figure size 432x288 with 1 Axes>"
      ]
     },
     "metadata": {
      "needs_background": "light"
     },
     "output_type": "display_data"
    }
   ],
   "source": [
    "dfeth = jhu.confirmed.Ethiopia\n",
    "dfeth.plot()\n",
    "plt.title('Covid-19 Confirmed Cases Distribution for Ethiopia')"
   ]
  },
  {
   "cell_type": "code",
   "execution_count": 7,
   "metadata": {},
   "outputs": [
    {
     "data": {
      "text/html": [
       "<div>\n",
       "<style scoped>\n",
       "    .dataframe tbody tr th:only-of-type {\n",
       "        vertical-align: middle;\n",
       "    }\n",
       "\n",
       "    .dataframe tbody tr th {\n",
       "        vertical-align: top;\n",
       "    }\n",
       "\n",
       "    .dataframe thead th {\n",
       "        text-align: right;\n",
       "    }\n",
       "</style>\n",
       "<table border=\"1\" class=\"dataframe\">\n",
       "  <thead>\n",
       "    <tr style=\"text-align: right;\">\n",
       "      <th></th>\n",
       "      <th>value</th>\n",
       "    </tr>\n",
       "  </thead>\n",
       "  <tbody>\n",
       "    <tr>\n",
       "      <th>2020-04-18</th>\n",
       "      <td>105</td>\n",
       "    </tr>\n",
       "    <tr>\n",
       "      <th>2020-04-19</th>\n",
       "      <td>108</td>\n",
       "    </tr>\n",
       "    <tr>\n",
       "      <th>2020-04-20</th>\n",
       "      <td>111</td>\n",
       "    </tr>\n",
       "    <tr>\n",
       "      <th>2020-04-21</th>\n",
       "      <td>114</td>\n",
       "    </tr>\n",
       "    <tr>\n",
       "      <th>2020-04-22</th>\n",
       "      <td>116</td>\n",
       "    </tr>\n",
       "  </tbody>\n",
       "</table>\n",
       "</div>"
      ],
      "text/plain": [
       "            value\n",
       "2020-04-18    105\n",
       "2020-04-19    108\n",
       "2020-04-20    111\n",
       "2020-04-21    114\n",
       "2020-04-22    116"
      ]
     },
     "execution_count": 7,
     "metadata": {},
     "output_type": "execute_result"
    }
   ],
   "source": [
    "dfeth = dfeth.dropna()\n",
    "dfeth.columns = ['value']\n",
    "# df.head()\n",
    "#= 'values'\n",
    "dfeth = dfeth[dfeth['value']>100]\n",
    "dfeth.head()"
   ]
  },
  {
   "cell_type": "code",
   "execution_count": 8,
   "metadata": {},
   "outputs": [
    {
     "data": {
      "text/html": [
       "<div>\n",
       "<style scoped>\n",
       "    .dataframe tbody tr th:only-of-type {\n",
       "        vertical-align: middle;\n",
       "    }\n",
       "\n",
       "    .dataframe tbody tr th {\n",
       "        vertical-align: top;\n",
       "    }\n",
       "\n",
       "    .dataframe thead th {\n",
       "        text-align: right;\n",
       "    }\n",
       "</style>\n",
       "<table border=\"1\" class=\"dataframe\">\n",
       "  <thead>\n",
       "    <tr style=\"text-align: right;\">\n",
       "      <th></th>\n",
       "      <th>value</th>\n",
       "    </tr>\n",
       "  </thead>\n",
       "  <tbody>\n",
       "    <tr>\n",
       "      <th>2020-08-02</th>\n",
       "      <td>18706</td>\n",
       "    </tr>\n",
       "    <tr>\n",
       "      <th>2020-08-03</th>\n",
       "      <td>19289</td>\n",
       "    </tr>\n",
       "    <tr>\n",
       "      <th>2020-08-04</th>\n",
       "      <td>19877</td>\n",
       "    </tr>\n",
       "    <tr>\n",
       "      <th>2020-08-05</th>\n",
       "      <td>20336</td>\n",
       "    </tr>\n",
       "    <tr>\n",
       "      <th>2020-08-06</th>\n",
       "      <td>20900</td>\n",
       "    </tr>\n",
       "  </tbody>\n",
       "</table>\n",
       "</div>"
      ],
      "text/plain": [
       "            value\n",
       "2020-08-02  18706\n",
       "2020-08-03  19289\n",
       "2020-08-04  19877\n",
       "2020-08-05  20336\n",
       "2020-08-06  20900"
      ]
     },
     "execution_count": 8,
     "metadata": {},
     "output_type": "execute_result"
    }
   ],
   "source": [
    "dfeth.tail()"
   ]
  },
  {
   "cell_type": "code",
   "execution_count": 9,
   "metadata": {},
   "outputs": [
    {
     "data": {
      "text/plain": [
       "Text(0.5, 1.0, 'Covid-19 Death Distribution for Ethiopia')"
      ]
     },
     "execution_count": 9,
     "metadata": {},
     "output_type": "execute_result"
    },
    {
     "data": {
      "image/png": "[encoded data removed]",
      "text/plain": [
       "<Figure size 432x288 with 1 Axes>"
      ]
     },
     "metadata": {
      "needs_background": "light"
     },
     "output_type": "display_data"
    }
   ],
   "source": [
    "dfdeath = jhu.deaths.Ethiopia\n",
    "dfdeath.plot()\n",
    "plt.title('Covid-19 Death Distribution for Ethiopia')"
   ]
  },
  {
   "cell_type": "code",
   "execution_count": null,
   "metadata": {},
   "outputs": [],
   "source": []
  },
  {
   "cell_type": "code",
   "execution_count": 10,
   "metadata": {},
   "outputs": [],
   "source": [
    "bd = datetime.datetime(2020, 3, 10)  # For the date filter\n",
    "#ed = datetime.datetime.now()\n",
    "\n",
    "#bd = datetime.datetime(2020, 4, 18)\n",
    "#bd = datetime.datetime(2020, 3, 29)  # For the date filter\n",
    "# ed = datetime.datetime.now()\n",
    "\n",
    "ed = datetime.datetime(2020, 7, 25)"
   ]
  },
  {
   "cell_type": "code",
   "execution_count": 11,
   "metadata": {},
   "outputs": [],
   "source": [
    "total_cases_obs = jhu.get_total(\n",
    "    value=\"confirmed\", country='Ethiopia', data_begin=bd, data_end=ed\n",
    ")\n",
    "new_cases_obs = jhu.get_new(\n",
    "    value=\"confirmed\", country='Ethiopia', data_begin=bd, data_end=ed\n",
    ")\n",
    "\n",
    "date = total_cases_obs[total_cases_obs  >= 100].reset_index().head(1)['date'][0]\n",
    "new_cases_obs = new_cases_obs[new_cases_obs.index > date]"
   ]
  },
  {
   "cell_type": "code",
   "execution_count": 12,
   "metadata": {},
   "outputs": [
    {
     "data": {
      "text/plain": [
       "Series([], Name: confirmed, dtype: int64)"
      ]
     },
     "execution_count": 12,
     "metadata": {},
     "output_type": "execute_result"
    }
   ],
   "source": [
    "total_cases_obs[total_cases_obs.isnull()]"
   ]
  },
  {
   "cell_type": "code",
   "execution_count": 13,
   "metadata": {},
   "outputs": [
    {
     "data": {
      "text/plain": [
       "Series([], Name: confirmed, dtype: int32)"
      ]
     },
     "execution_count": 13,
     "metadata": {},
     "output_type": "execute_result"
    }
   ],
   "source": [
    "new_cases_obs[new_cases_obs.isnull()]"
   ]
  },
  {
   "cell_type": "code",
   "execution_count": 14,
   "metadata": {},
   "outputs": [
    {
     "data": {
      "text/plain": [
       "date\n",
       "2020-04-19      3\n",
       "2020-04-20      3\n",
       "2020-04-21      3\n",
       "2020-04-22      2\n",
       "2020-04-23      0\n",
       "             ... \n",
       "2020-07-20    704\n",
       "2020-07-21    865\n",
       "2020-07-22    452\n",
       "2020-07-23    409\n",
       "2020-07-24    760\n",
       "Name: confirmed, Length: 97, dtype: int32"
      ]
     },
     "execution_count": 14,
     "metadata": {},
     "output_type": "execute_result"
    }
   ],
   "source": [
    "new_cases_obs = new_cases_obs[new_cases_obs.index < '2020-7-25']\n",
    "testing_cases = new_cases_obs[new_cases_obs.index >= '2020-7-25']\n",
    "new_cases_obs"
   ]
  },
  {
   "cell_type": "code",
   "execution_count": 15,
   "metadata": {},
   "outputs": [],
   "source": [
    "diff_data_sim = 16  # should be significantly larger than the expected delay, in\n",
    "# order to always fit the same number of data points.\n",
    "# * The simulation starts `diff_data_sim` days before the data.\n",
    "num_days_forecast = 10"
   ]
  },
  {
   "cell_type": "code",
   "execution_count": 16,
   "metadata": {},
   "outputs": [],
   "source": [
    "# We set the priors for the changepoints here\n",
    "prior_date_mild_dist_begin = datetime.datetime(2020, 3, 9)\n",
    "prior_date_strong_dist_begin = datetime.datetime(2020, 3, 16)\n",
    "prior_date_contact_ban_begin = datetime.datetime(2020, 3, 23)"
   ]
  },
  {
   "cell_type": "code",
   "execution_count": 17,
   "metadata": {},
   "outputs": [],
   "source": [
    "change_points = [\n",
    "    dict(\n",
    "        pr_mean_date_transient=prior_date_mild_dist_begin,\n",
    "        pr_sigma_date_transient=3,\n",
    "        pr_median_lambda=0.2,\n",
    "        pr_sigma_lambda=1,\n",
    "    ),\n",
    "    dict(\n",
    "        pr_mean_date_transient=prior_date_strong_dist_begin,\n",
    "        pr_sigma_date_transient=1.5,\n",
    "        pr_median_lambda=1 / 8,\n",
    "        pr_sigma_lambda=1,\n",
    "    ),\n",
    "    dict(\n",
    "        pr_mean_date_transient=prior_date_contact_ban_begin,\n",
    "        pr_sigma_date_transient=1.5,\n",
    "        pr_median_lambda=1 / 8 / 2,\n",
    "        pr_sigma_lambda=1,\n",
    "    ),\n",
    "]"
   ]
  },
  {
   "cell_type": "code",
   "execution_count": 18,
   "metadata": {},
   "outputs": [],
   "source": [
    "params_model = dict(\n",
    "    new_cases_obs=new_cases_obs[:],\n",
    "    data_begin=bd,\n",
    "    fcast_len=num_days_forecast,\n",
    "    diff_data_sim=diff_data_sim,\n",
    "    N_population=4e6,\n",
    ")\n",
    "# Median of the prior for the delay in case reporting, we assume 10 days\n",
    "pr_delay = 10"
   ]
  },
  {
   "cell_type": "code",
   "execution_count": 19,
   "metadata": {},
   "outputs": [
    {
     "name": "stderr",
     "output_type": "stream",
     "text": [
      "INFO     [covid19_inference.model.spreading_rate] Lambda_t with sigmoids\n",
      "INFO     [covid19_inference.model.model] pr_median_transient_len was set to default value 4\n",
      "INFO     [covid19_inference.model.model] pr_sigma_transient_len was set to default value 0.5\n",
      "INFO     [covid19_inference.model.model] relative_to_previous was set to default value False\n",
      "INFO     [covid19_inference.model.model] pr_factor_to_previous was set to default value 1\n",
      "INFO     [covid19_inference.model.model] pr_median_transient_len was set to default value 4\n",
      "INFO     [covid19_inference.model.model] pr_sigma_transient_len was set to default value 0.5\n",
      "INFO     [covid19_inference.model.model] relative_to_previous was set to default value False\n",
      "INFO     [covid19_inference.model.model] pr_factor_to_previous was set to default value 1\n",
      "INFO     [covid19_inference.model.model] pr_median_transient_len was set to default value 4\n",
      "INFO     [covid19_inference.model.model] pr_sigma_transient_len was set to default value 0.5\n",
      "INFO     [covid19_inference.model.model] relative_to_previous was set to default value False\n",
      "INFO     [covid19_inference.model.model] pr_factor_to_previous was set to default value 1\n",
      "INFO     [covid19_inference.model.compartmental_models] Uncorrelated prior_I\n",
      "INFO     [covid19_inference.model.compartmental_models] SIR\n",
      "INFO     [covid19_inference.model.delay] Delaying cases\n",
      "INFO     [covid19_inference.model.week_modulation] Week modulation\n"
     ]
    }
   ],
   "source": [
    "with cov19.model.Cov19Model(**params_model) as this_model:\n",
    "    # Create the an array of the time dependent infection rate lambda\n",
    "    lambda_t_log = cov19.model.lambda_t_with_sigmoids(\n",
    "        pr_median_lambda_0=0.4,\n",
    "        pr_sigma_lambda_0=0.5,\n",
    "        change_points_list=change_points,  # The change point priors we constructed earlier\n",
    "        name_lambda_t=\"lambda_t\",  # Name for the variable in the trace (see later)\n",
    "    )\n",
    "\n",
    "    # set prior distribution for the recovery rate\n",
    "    mu = pm.Lognormal(name=\"mu\", mu=np.log(1 / 8), sigma=0.2)\n",
    "\n",
    "    # This builds a decorrelated prior for I_begin for faster inference.\n",
    "    # It is not necessary to use it, one can simply remove it and use the default argument\n",
    "    # for pr_I_begin in cov19.SIR\n",
    "    prior_I = cov19.model.uncorrelated_prior_I(\n",
    "        lambda_t_log=lambda_t_log,\n",
    "        mu=mu,\n",
    "        pr_median_delay=pr_delay,\n",
    "        name_I_begin=\"I_begin\",\n",
    "        name_I_begin_ratio_log=\"I_begin_ratio_log\",\n",
    "        pr_sigma_I_begin=2,\n",
    "        n_data_points_used=5,\n",
    "    )\n",
    "\n",
    "    # Use lambda_t_log and mu to run the SIR model\n",
    "    new_cases = cov19.model.SIR(\n",
    "        lambda_t_log=lambda_t_log,\n",
    "        mu=mu,\n",
    "        name_new_I_t=\"new_I_t\",\n",
    "        name_I_t=\"I_t\",\n",
    "        name_I_begin=\"I_begin\",\n",
    "        pr_I_begin=prior_I,\n",
    "    )\n",
    "\n",
    "    # Delay the cases by a lognormal reporting delay\n",
    "    new_cases = cov19.model.delay_cases(\n",
    "        cases=new_cases,\n",
    "        name_cases=\"delayed_cases\",\n",
    "        name_delay=\"delay\",\n",
    "        name_width=\"delay-width\",\n",
    "        pr_mean_of_median=pr_delay,\n",
    "        pr_sigma_of_median=0.2,\n",
    "        pr_median_of_width=0.3,\n",
    "    )\n",
    "\n",
    "    # Modulate the inferred cases by a abs(sin(x)) function, to account for weekend effects\n",
    "    # Also adds the \"new_cases\" variable to the trace that has all model features.\n",
    "    new_cases = cov19.model.week_modulation(\n",
    "        cases=new_cases,\n",
    "        name_cases=\"new_cases\",\n",
    "        name_weekend_factor=\"weekend_factor\",\n",
    "        name_offset_modulation=\"offset_modulation\",\n",
    "        week_modulation_type=\"abs_sine\",\n",
    "        pr_mean_weekend_factor=0.3,\n",
    "        pr_sigma_weekend_factor=0.5,\n",
    "        weekend_days=(6, 7),\n",
    "    )\n",
    "\n",
    "    # Define the likelihood, uses the new_cases_obs set as model parameter\n",
    "    cov19.model.student_t_likelihood(new_cases)"
   ]
  },
  {
   "cell_type": "code",
   "execution_count": null,
   "metadata": {},
   "outputs": [
    {
     "name": "stderr",
     "output_type": "stream",
     "text": [
      "Only 40 samples in chain.\n",
      "WARNING  [pymc3] Only 40 samples in chain.\n",
      "Auto-assigning NUTS sampler...\n",
      "INFO     [pymc3] Auto-assigning NUTS sampler...\n",
      "Initializing NUTS using advi+adapt_diag...\n",
      "INFO     [pymc3] Initializing NUTS using advi+adapt_diag...\n"
     ]
    },
    {
     "data": {
      "text/html": [
       "\n",
       "    <div>\n",
       "        <style>\n",
       "            /* Turns off some styling */\n",
       "            progress {\n",
       "                /* gets rid of default border in Firefox and Opera. */\n",
       "                border: none;\n",
       "                /* Needs to be in here for Safari polyfill so background images work as expected. */\n",
       "                background-size: auto;\n",
       "            }\n",
       "            .progress-bar-interrupted, .progress-bar-interrupted::-webkit-progress-bar {\n",
       "                background: #F44336;\n",
       "            }\n",
       "        </style>\n",
       "      <progress value='21002' class='' max='200000' style='width:300px; height:20px; vertical-align: middle;'></progress>\n",
       "      10.50% [21002/200000 1:48:03<15:20:56 Average Loss = 655.12]\n",
       "    </div>\n",
       "    "
      ],
      "text/plain": [
       "<IPython.core.display.HTML object>"
      ]
     },
     "metadata": {},
     "output_type": "display_data"
    }
   ],
   "source": [
    "trace = pm.sample(model=this_model,cores=8, tune=20, draws=40, init=\"advi+adapt_diag\")"
   ]
  },
  {
   "cell_type": "code",
   "execution_count": null,
   "metadata": {},
   "outputs": [],
   "source": [
    "fig, axes = plt.subplots(6, 3, figsize=(8, 8.4))\n",
    "varnames = this_model.untransformed_freeRVs\n",
    "print(\"Possible varnames are :\")\n",
    "print(varnames)"
   ]
  },
  {
   "cell_type": "code",
   "execution_count": null,
   "metadata": {},
   "outputs": [],
   "source": [
    "for i, key in enumerate(\n",
    "    # left column\n",
    "    [\"weekend_factor\", \"mu\", \"lambda_0\", \"lambda_1\", \"lambda_2\", \"lambda_3\"]\n",
    "):\n",
    "    cov19.plot._distribution(this_model, trace, key, ax=axes[i, 0])"
   ]
  },
  {
   "cell_type": "code",
   "execution_count": null,
   "metadata": {},
   "outputs": [],
   "source": [
    "for i, key in enumerate(\n",
    "    # mid column\n",
    "    [\n",
    "        \"offset_modulation\",\n",
    "        \"sigma_obs\",\n",
    "        \"I_begin\",\n",
    "        \"transient_day_1\",\n",
    "        \"transient_day_2\",\n",
    "        \"transient_day_3\",\n",
    "    ]\n",
    "):\n",
    "    cov19.plot._distribution(this_model, trace, key, ax=axes[i, 1])"
   ]
  },
  {
   "cell_type": "code",
   "execution_count": null,
   "metadata": {},
   "outputs": [],
   "source": [
    "\n",
    "for i, key in enumerate(\n",
    "    # right column\n",
    "    [\"delay\", \"transient_len_1\", \"transient_len_2\", \"transient_len_3\",]\n",
    "):\n",
    "    cov19.plot._distribution(this_model, trace, key, ax=axes[i + 2, 2])"
   ]
  },
  {
   "cell_type": "code",
   "execution_count": null,
   "metadata": {},
   "outputs": [],
   "source": [
    "fig.tight_layout()\n",
    "fig #To print in jupyter notebook"
   ]
  },
  {
   "cell_type": "code",
   "execution_count": null,
   "metadata": {},
   "outputs": [],
   "source": [
    "fig, axes = cov19.plot.timeseries_overview(this_model, trace, offset=-3000)"
   ]
  },
  {
   "cell_type": "code",
   "execution_count": null,
   "metadata": {},
   "outputs": [],
   "source": []
  },
  {
   "cell_type": "code",
   "execution_count": null,
   "metadata": {},
   "outputs": [],
   "source": [
    "#daily_data can be a replacement for new_cases_obs\n",
    "raw = (pd.read_excel(\"eth-covid19-data.xlsx\", sheet_name=\"DailyCases\"))\n",
    "raw.set_index('date', inplace=True)\n",
    "daily_data = raw.iloc[:,0]"
   ]
  },
  {
   "cell_type": "code",
   "execution_count": null,
   "metadata": {},
   "outputs": [],
   "source": []
  }
 ],
 "metadata": {
  "kernelspec": {
   "display_name": "Python 3",
   "language": "python",
   "name": "python3"
  },
  "language_info": {
   "codemirror_mode": {
    "name": "ipython",
    "version": 3
   },
   "file_extension": ".py",
   "mimetype": "text/x-python",
   "name": "python",
   "nbconvert_exporter": "python",
   "pygments_lexer": "ipython3",
   "version": "3.7.6"
  }
 },
 "nbformat": 4,
 "nbformat_minor": 4
}
