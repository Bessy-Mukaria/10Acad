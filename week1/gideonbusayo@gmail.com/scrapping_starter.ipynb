{
 "cells": [
  {
   "cell_type": "markdown",
   "metadata": {},
   "source": [
    "# 744642020 "
   ]
  },
  {
   "cell_type": "code",
   "execution_count": 171,
   "metadata": {},
   "outputs": [
    {
     "name": "stdout",
     "output_type": "stream",
     "text": [
      "Requirement already satisfied: pyppeteer in c:\\programdata\\anaconda3\\lib\\site-packages (0.2.2)\n",
      "Requirement already satisfied: urllib3<2.0.0,>=1.25.8 in c:\\programdata\\anaconda3\\lib\\site-packages (from pyppeteer) (1.25.8)\n",
      "Requirement already satisfied: websockets<9.0,>=8.1 in c:\\programdata\\anaconda3\\lib\\site-packages (from pyppeteer) (8.1)\n",
      "Requirement already satisfied: tqdm<5.0.0,>=4.42.1 in c:\\programdata\\anaconda3\\lib\\site-packages (from pyppeteer) (4.42.1)\n",
      "Requirement already satisfied: pyee<8.0.0,>=7.0.1 in c:\\programdata\\anaconda3\\lib\\site-packages (from pyppeteer) (7.0.2)\n",
      "Requirement already satisfied: appdirs<2.0.0,>=1.4.3 in c:\\programdata\\anaconda3\\lib\\site-packages (from pyppeteer) (1.4.4)\n"
     ]
    }
   ],
   "source": [
    "!pip install pyppeteer"
   ]
  },
  {
   "cell_type": "code",
   "execution_count": 168,
   "metadata": {},
   "outputs": [
    {
     "name": "stdout",
     "output_type": "stream",
     "text": [
      "Requirement already satisfied: nbconvert in c:\\programdata\\anaconda3\\lib\\site-packages (5.6.1)\n",
      "Requirement already satisfied: traitlets>=4.2 in c:\\programdata\\anaconda3\\lib\\site-packages (from nbconvert) (4.3.3)\n",
      "Requirement already satisfied: jupyter-core in c:\\programdata\\anaconda3\\lib\\site-packages (from nbconvert) (4.6.1)\n",
      "Requirement already satisfied: pygments in c:\\programdata\\anaconda3\\lib\\site-packages (from nbconvert) (2.5.2)\n",
      "Requirement already satisfied: bleach in c:\\programdata\\anaconda3\\lib\\site-packages (from nbconvert) (3.1.0)\n",
      "Requirement already satisfied: nbformat>=4.4 in c:\\programdata\\anaconda3\\lib\\site-packages (from nbconvert) (5.0.4)\n",
      "Requirement already satisfied: mistune<2,>=0.8.1 in c:\\programdata\\anaconda3\\lib\\site-packages (from nbconvert) (0.8.4)\n",
      "Requirement already satisfied: pandocfilters>=1.4.1 in c:\\programdata\\anaconda3\\lib\\site-packages (from nbconvert) (1.4.2)\n",
      "Requirement already satisfied: jinja2>=2.4 in c:\\programdata\\anaconda3\\lib\\site-packages (from nbconvert) (2.11.1)\n",
      "Requirement already satisfied: testpath in c:\\programdata\\anaconda3\\lib\\site-packages (from nbconvert) (0.4.4)\n",
      "Requirement already satisfied: entrypoints>=0.2.2 in c:\\programdata\\anaconda3\\lib\\site-packages (from nbconvert) (0.3)\n",
      "Requirement already satisfied: defusedxml in c:\\programdata\\anaconda3\\lib\\site-packages (from nbconvert) (0.6.0)\n",
      "Requirement already satisfied: six in c:\\programdata\\anaconda3\\lib\\site-packages (from traitlets>=4.2->nbconvert) (1.14.0)\n",
      "Requirement already satisfied: decorator in c:\\programdata\\anaconda3\\lib\\site-packages (from traitlets>=4.2->nbconvert) (4.4.1)\n",
      "Requirement already satisfied: ipython-genutils in c:\\programdata\\anaconda3\\lib\\site-packages (from traitlets>=4.2->nbconvert) (0.2.0)\n",
      "Requirement already satisfied: pywin32>=1.0; sys_platform == \"win32\" in c:\\programdata\\anaconda3\\lib\\site-packages (from jupyter-core->nbconvert) (227)\n",
      "Requirement already satisfied: webencodings in c:\\programdata\\anaconda3\\lib\\site-packages (from bleach->nbconvert) (0.5.1)\n",
      "Requirement already satisfied: jsonschema!=2.5.0,>=2.4 in c:\\programdata\\anaconda3\\lib\\site-packages (from nbformat>=4.4->nbconvert) (3.2.0)\n",
      "Requirement already satisfied: MarkupSafe>=0.23 in c:\\programdata\\anaconda3\\lib\\site-packages (from jinja2>=2.4->nbconvert) (1.1.1)\n",
      "Requirement already satisfied: importlib-metadata; python_version < \"3.8\" in c:\\programdata\\anaconda3\\lib\\site-packages (from jsonschema!=2.5.0,>=2.4->nbformat>=4.4->nbconvert) (1.5.0)\n",
      "Requirement already satisfied: attrs>=17.4.0 in c:\\programdata\\anaconda3\\lib\\site-packages (from jsonschema!=2.5.0,>=2.4->nbformat>=4.4->nbconvert) (19.3.0)\n",
      "Requirement already satisfied: pyrsistent>=0.14.0 in c:\\programdata\\anaconda3\\lib\\site-packages (from jsonschema!=2.5.0,>=2.4->nbformat>=4.4->nbconvert) (0.15.7)\n",
      "Requirement already satisfied: setuptools in c:\\programdata\\anaconda3\\lib\\site-packages (from jsonschema!=2.5.0,>=2.4->nbformat>=4.4->nbconvert) (45.2.0.post20200210)\n",
      "Requirement already satisfied: zipp>=0.5 in c:\\programdata\\anaconda3\\lib\\site-packages (from importlib-metadata; python_version < \"3.8\"->jsonschema!=2.5.0,>=2.4->nbformat>=4.4->nbconvert) (2.2.0)\n"
     ]
    }
   ],
   "source": [
    "!pip install nbconvert"
   ]
  },
  {
   "cell_type": "code",
   "execution_count": 173,
   "metadata": {},
   "outputs": [],
   "source": [
    "from requests import get\n",
    "from requests.exceptions import RequestException\n",
    "from contextlib import closing\n",
    "from bs4 import BeautifulSoup\n",
    "import pandas as pd\n",
    "import os, sys\n",
    "\n",
    "import fire"
   ]
  },
  {
   "cell_type": "code",
   "execution_count": null,
   "metadata": {},
   "outputs": [],
   "source": []
  },
  {
   "cell_type": "code",
   "execution_count": 204,
   "metadata": {},
   "outputs": [],
   "source": [
    "def simple_get(url):\n",
    "    \"\"\"\n",
    "    Attempts to get the content at `url` by making an HTTP GET request.\n",
    "    If the content-type of response is some kind of HTML/XML, return the\n",
    "    text content, otherwise return None.\n",
    "    \"\"\"\n",
    "    try:\n",
    "        with closing(get(url, stream=True)) as resp:\n",
    "            if is_good_response(resp):\n",
    "                return resp.content  #.encode(BeautifulSoup.original_encoding)\n",
    "            else:\n",
    "                return None\n",
    "\n",
    "    except RequestException as e:\n",
    "        log_error('Error during requests to {0} : {1}'.format(url, str(e)))\n",
    "        return None\n",
    "\n",
    "\n",
    "def is_good_response(resp):\n",
    "    \"\"\"\n",
    "    Returns True if the response seems to be HTML, False otherwise.\n",
    "    \"\"\"\n",
    "    content_type = resp.headers['Content-Type'].lower()\n",
    "    return (resp.status_code == 200 \n",
    "            and content_type is not None \n",
    "            and content_type.find('html') > -1)\n",
    "\n",
    "\n",
    "def log_error(e):\n",
    "    \"\"\"\n",
    "    It is always a good idea to log errors. \n",
    "    This function just prints them, but you can\n",
    "    make it do anything.\n",
    "    \"\"\"\n",
    "    print(e)\n",
    "    \n",
    "def get_elements(url, tag='',search={}, fname=None):\n",
    "    \"\"\"\n",
    "    Downloads a page specified by the url parameter\n",
    "    and returns a list of strings, one per tag element\n",
    "    \"\"\"\n",
    "    \n",
    "    if isinstance(url,str):\n",
    "        response = simple_get(url)\n",
    "    else:\n",
    "        #if already it is a loaded html page\n",
    "        response = url\n",
    "\n",
    "    if response is not None:\n",
    "        html = BeautifulSoup(response, 'html.parser')\n",
    "        \n",
    "        res = []\n",
    "        if tag:    \n",
    "            for li in html.select(tag):\n",
    "                for name in li.text.split('\\n'):\n",
    "                    if len(name) > 0:\n",
    "                        res.append(name.strip())\n",
    "                       \n",
    "                \n",
    "        if search:\n",
    "            soup = html            \n",
    "            \n",
    "            \n",
    "            r = ''\n",
    "            if 'find' in search.keys():\n",
    "                print('findaing',search['find'])\n",
    "                soup = soup.find(**search['find'])\n",
    "                r = soup\n",
    "\n",
    "                \n",
    "            if 'find_all' in search.keys():\n",
    "                print('finding all of',search['find_all'])\n",
    "                r = soup.find_all(**search['find_all'])\n",
    "   \n",
    "            if r:\n",
    "                for x in list(r):\n",
    "                    if len(x) > 0:\n",
    "                        res.extend(x)\n",
    "            \n",
    "        return res\n",
    "\n",
    "    # Raise an exception if we failed to get any data from the url\n",
    "    raise Exception('Error retrieving contents at {}'.format(url))    \n",
    "    \n",
    "    \n",
    "if get_ipython().__class__.__name__ == '__main__':\n",
    "    fire(get_elements)"
   ]
  },
  {
   "cell_type": "code",
   "execution_count": 175,
   "metadata": {
    "scrolled": true
   },
   "outputs": [
    {
     "data": {
      "text/plain": [
       "['100. Jeffrey Gettleman (@gettleman)',\n",
       " '99. Africa24 Media (@a24media)',\n",
       " '98. Scapegoat (@andiMakinana)',\n",
       " '97. Africa Check (@AfricaCheck)',\n",
       " '96. James Copnall (@JamesCopnall)',\n",
       " '95. Online Africa (@oafrica)',\n",
       " '94. Patrick Ngowi (@PatrickNgowi)',\n",
       " '93. DOS African Affairs (@StateAfrica)',\n",
       " '92. MoadowAJE (@Moadow)',\n",
       " '91. Brendan Boyle (@BrendanSAfrica)',\n",
       " '90. City of Tshwane (@CityTshwane)',\n",
       " '89. VISI Magazine (@VISI_Mag)',\n",
       " '88. andBeyond (@andBeyondSafari)',\n",
       " '87. This Is Africa (@ThisIsAfricaTIA)',\n",
       " '86. Sarah Carter (@sarzss)',\n",
       " '85. The EIU Africa team (@TheEIU_Africa)',\n",
       " '84. Investing In Africa (@InvestInAfrica)',\n",
       " '83. Barry Malone (@malonebarry)',\n",
       " '82. ARTsouthAFRICA (@artsouthafrica)',\n",
       " '81. Kahn Morbee (@KahnMorbee)',\n",
       " '80. Jamal Osman (@JamalMOsman)',\n",
       " '79. iamsuede™ (@iamsuede)',\n",
       " '78. Mike Stopforth (@mikestopforth)',\n",
       " '77. Equal Education (@equal_education)',\n",
       " '76. Tristan McConnell (@t_mcconnell)',\n",
       " '75. Kate Forbes (@forbeesta)',\n",
       " '74. Vanessa Raphaely (@hurricanevaness)',\n",
       " '73. Karen Allen (@BBCKarenAllen)',\n",
       " '72. Jax Panik (@jaxpanik)',\n",
       " '71. This Is Africa (@thisisafrica)',\n",
       " '70. Audi South Africa (@audisouthafrica)',\n",
       " '69. ONE (@ONEinAfrica)',\n",
       " '68. Hamza Mohamed (@Hamza_Africa)',\n",
       " '67. drew hinshaw (@drewfhinshaw)',\n",
       " '66. Rebecca Enonchong (@africatechie)',\n",
       " '65. marais (@cx73)',\n",
       " '64. George Ayittey (@ayittey)',\n",
       " '63. Mercedes-Benz SA (@MercedesBenz_SA)',\n",
       " '62. Africa Gathering (@africagathering)',\n",
       " '61. okayafrica (@okayafrica)',\n",
       " '60. Mary Harper (@mary_harper)',\n",
       " '59. Save the Rhino (@savetherhino)',\n",
       " '58. africa @pressfreedom (@africamedia_CPJ)',\n",
       " '57. TechCentral (@TechCentral)',\n",
       " '56. GautengGovt (@GautengProvince)',\n",
       " '55. Abdi Aynte (@Aynte)',\n",
       " '54. Daniel Howden (@daniel_howden)',\n",
       " '53. Ranger Diaries (@rangerdiaries)',\n",
       " '52. The Star (@TheStar_news)',\n",
       " '51. James Schneider (@schneiderhome)',\n",
       " '50. Afrinnovator (@Afrinnovator)',\n",
       " '49. theafricareport (@theafricareport)',\n",
       " '48. City of Joburg (@CityofJoburgZA)',\n",
       " '47. Think Africa Press (@ThinkAfricaFeed)',\n",
       " '46. Africa The Good News (@AfricaGoodNews)',\n",
       " '45. will ross (@willintune)',\n",
       " '44. CNBC Africa (@cnbcafrica)',\n",
       " '43. HowWeMadeItInAfrica (@MadeItInAfrica)',\n",
       " '42. Africa Research Inst (@AfricaResearch)',\n",
       " '41. FoodBlog Cape Town (@FoodBlogCT)',\n",
       " '40. Mbuyiseni Ndlozi (@MbuyiseniNdlozi)',\n",
       " '39. AfricaProgressPanel (@africaprogress)',\n",
       " '38. IFC Africa (@IFCAfrica)',\n",
       " '37. Henley Africa (@HenleyAfrica)',\n",
       " '36. The New Age (@The_New_Age)',\n",
       " '35. Geoffrey York (@geoffreyyork)',\n",
       " '34. Entrepreneur Mag SA (@Entrepreneur_SA)',\n",
       " '33. Forbes Africa (@forbesafrica)',\n",
       " '32. IEC South Africa (@IECSouthAfrica)',\n",
       " '31. Arthur Goldstuck (@art2gee)',\n",
       " '30. Jendayi E Frazer (@JendayiFrazer)',\n",
       " '29. Peter Greste (@PeterGreste)',\n",
       " '28. Disaster Operations (@NDOCKenya)',\n",
       " '27. Mo Ibrahim Fdn (@Mo_IbrahimFdn)',\n",
       " '26. Parliament of RSA (@ParliamentofRSA)',\n",
       " '25. Sandton City (@SandtonCity)',\n",
       " '24. African Union (@_AfricanUnion)',\n",
       " '23. Gert-Johan Coetzee (@gertjohan)',\n",
       " '22. David Smith (@SmithInAfrica)',\n",
       " '21. Ray Hartley (@hartleyr)',\n",
       " '20. Live Amp (@liveamp)',\n",
       " '19. Samsung South Africa (@SamsungSA)',\n",
       " '18. Bob Skinstad (@BobSkinstad)',\n",
       " '17. Camfed (@Camfed)',\n",
       " '16. andrew harding (@BBCAndrewH)',\n",
       " '15. Euphonik™♛ (@euphonik)',\n",
       " '14. Ulrich J van Vuuren (@UlrichJvV)',\n",
       " '13. John Robbie (@702JohnRobbie)',\n",
       " '12. Cricket South Africa (@OfficialCSA)',\n",
       " '11. MTV Base Africa (@MTVbaseAfrica)',\n",
       " '10. Computicket (@Computicket)',\n",
       " '9. loyiso gola (@loyisogola)',\n",
       " '8. 5FM (@5FM)',\n",
       " '7. mailandguardian (@mailandguardian)',\n",
       " '6. Helen Zille (@helenzille)',\n",
       " '5. Julius Sello Malema (@Julius_S_Malema)',\n",
       " '4. News24 (@News24)',\n",
       " '3. Jacob G. Zuma (@SAPresident)',\n",
       " '2. Gareth Cliff (@GarethCliff)',\n",
       " '1. Trevor Noah (@Trevornoah)',\n",
       " 'Subscribe to the list',\n",
       " 'Tweet about Africa?',\n",
       " 'Celebrate Wild Africa With Us!',\n",
       " 'You have successfully subscribed. Thank you!',\n",
       " '11 Comments']"
      ]
     },
     "execution_count": 175,
     "metadata": {},
     "output_type": "execute_result"
    }
   ],
   "source": [
    "res = get_elements('https://africafreak.com/100-most-influential-twitter-users-in-africa', tag='h2')\n",
    "res"
   ]
  },
  {
   "cell_type": "code",
   "execution_count": 176,
   "metadata": {
    "scrolled": true
   },
   "outputs": [
    {
     "data": {
      "text/plain": [
       "['10. Computicket (@Computicket)',\n",
       " '9. loyiso gola (@loyisogola)',\n",
       " '8. 5FM (@5FM)',\n",
       " '7. mailandguardian (@mailandguardian)',\n",
       " '6. Helen Zille (@helenzille)',\n",
       " '5. Julius Sello Malema (@Julius_S_Malema)',\n",
       " '4. News24 (@News24)',\n",
       " '3. Jacob G. Zuma (@SAPresident)',\n",
       " '2. Gareth Cliff (@GarethCliff)',\n",
       " '1. Trevor Noah (@Trevornoah)']"
      ]
     },
     "execution_count": 176,
     "metadata": {},
     "output_type": "execute_result"
    }
   ],
   "source": [
    "first_ten = res[-15:-5]\n",
    "first_ten\n"
   ]
  },
  {
   "cell_type": "code",
   "execution_count": 177,
   "metadata": {},
   "outputs": [
    {
     "name": "stdout",
     "output_type": "stream",
     "text": [
      "['10. Computicket (@Computicket)', '9. loyiso gola (@loyisogola)', '8. 5FM (@5FM)', '7. mailandguardian (@mailandguardian)', '6. Helen Zille (@helenzille)', '5. Julius Sello Malema (@Julius_S_Malema)', '4. News24 (@News24)', '3. Jacob G. Zuma (@SAPresident)', '2. Gareth Cliff (@GarethCliff)', '1. Trevor Noah (@Trevornoah)']\n"
     ]
    }
   ],
   "source": [
    "import re\n",
    "\n",
    "r = re.compile(\".*@\")\n",
    "newlist = list(filter(r.match, first_ten)) # Read Note\n",
    "print(newlist)"
   ]
  },
  {
   "cell_type": "code",
   "execution_count": 178,
   "metadata": {
    "scrolled": true
   },
   "outputs": [
    {
     "name": "stdout",
     "output_type": "stream",
     "text": [
      "Twitter handles of the 10 most influential Twitter users in Africa in order of their popularity (most influential to least influential)\n",
      "++++++++++++++++++++++++++++++++++++++++++++++++++++++++++++++++++++++++++++++++++++++++++++++++++++\n",
      "1. Trevor Noah (@Trevornoah)2. Gareth Cliff (@GarethCliff)3. Jacob G. Zuma (@SAPresident)4. News24 (@News24)5. Julius Sello Malema (@Julius_S_Malema)6. Helen Zille (@helenzille)7. mailandguardian (@mailandguardian)8. 5FM (@5FM)9. loyiso gola (@loyisogola)10. Computicket (@Computicket)\n"
     ]
    }
   ],
   "source": [
    "def main():\n",
    "    first_ten\n",
    "    rev = reversed(first_ten)\n",
    "    print(\"Twitter handles of the 10 most influential Twitter users in Africa in order of their popularity (most influential to least influential)\")\n",
    "    print(\"+++++\" * 20)\n",
    "    print(rev)\n",
    "    \n",
    "def reversed(any_input):\n",
    "    rev = \"\"\n",
    "    for items in any_input:\n",
    "        rev = items + rev\n",
    "    return rev   \n",
    "\n",
    "if __name__== \"__main__\":\n",
    "    main() "
   ]
  },
  {
   "cell_type": "code",
   "execution_count": 181,
   "metadata": {},
   "outputs": [
    {
     "data": {
      "text/plain": [
       "[['100', ' Jeffrey Gettleman (@gettleman)'],\n",
       " ['99', ' Africa24 Media (@a24media)'],\n",
       " ['98', ' Scapegoat (@andiMakinana)'],\n",
       " ['97', ' Africa Check (@AfricaCheck)'],\n",
       " ['96', ' James Copnall (@JamesCopnall)']]"
      ]
     },
     "execution_count": 181,
     "metadata": {},
     "output_type": "execute_result"
    }
   ],
   "source": [
    "numbers = []\n",
    "for item in range(100):\n",
    "  number = res[item].split('.')\n",
    "  numbers.append(number)\n",
    "numbers[0:5]"
   ]
  },
  {
   "cell_type": "code",
   "execution_count": 182,
   "metadata": {},
   "outputs": [
    {
     "data": {
      "text/plain": [
       "['100', '99', '98']"
      ]
     },
     "execution_count": 182,
     "metadata": {},
     "output_type": "execute_result"
    }
   ],
   "source": [
    "index = []\n",
    "for char in numbers:\n",
    "  index.append(char[0])\n",
    "\n",
    "index[:3]"
   ]
  },
  {
   "cell_type": "code",
   "execution_count": 184,
   "metadata": {},
   "outputs": [
    {
     "data": {
      "text/plain": [
       "[[' Jeffrey Gettleman ', '@gettleman)'], [' Africa24 Media ', '@a24media)']]"
      ]
     },
     "execution_count": 184,
     "metadata": {},
     "output_type": "execute_result"
    }
   ],
   "source": [
    "names =[]\n",
    "for name in numbers:\n",
    "  names.append(name[-1].split(\"(\"))\n",
    "names[:2]"
   ]
  },
  {
   "cell_type": "code",
   "execution_count": 186,
   "metadata": {},
   "outputs": [
    {
     "data": {
      "text/plain": [
       "['Jeffrey Gettleman', 'Africa24 Media', 'Scapegoat']"
      ]
     },
     "execution_count": 186,
     "metadata": {},
     "output_type": "execute_result"
    }
   ],
   "source": [
    "fullname = []\n",
    "for name in names:\n",
    "  fullname.append(name[0].strip())\n",
    "\n",
    "fullname[:3]\n"
   ]
  },
  {
   "cell_type": "code",
   "execution_count": 187,
   "metadata": {},
   "outputs": [
    {
     "data": {
      "text/plain": [
       "[[' Jeffrey Gettleman ', '@gettleman)'],\n",
       " [' Africa24 Media ', '@a24media)'],\n",
       " [' Scapegoat ', '@andiMakinana)'],\n",
       " [' Africa Check ', '@AfricaCheck)']]"
      ]
     },
     "execution_count": 187,
     "metadata": {},
     "output_type": "execute_result"
    }
   ],
   "source": [
    "names[:4]\n"
   ]
  },
  {
   "cell_type": "code",
   "execution_count": 189,
   "metadata": {},
   "outputs": [
    {
     "data": {
      "text/plain": [
       "['@gettleman', '@a24media', '@andiMakinana']"
      ]
     },
     "execution_count": 189,
     "metadata": {},
     "output_type": "execute_result"
    }
   ],
   "source": [
    "twitter_handle =[]\n",
    "for name in names:\n",
    "  twitter_handle.append(name[-1][:-1])\n",
    "twitter_handle[0:3]"
   ]
  },
  {
   "cell_type": "code",
   "execution_count": 195,
   "metadata": {},
   "outputs": [],
   "source": [
    "\n",
    "df = pd.DataFrame(list(zip(index,fullname, twitter_handle)), columns=['Nos','Name', 'Twitter_Handle'])"
   ]
  },
  {
   "cell_type": "code",
   "execution_count": 197,
   "metadata": {},
   "outputs": [],
   "source": [
    "\n",
    "df[\"Nos\"]= df.Nos.astype(int)"
   ]
  },
  {
   "cell_type": "code",
   "execution_count": 198,
   "metadata": {},
   "outputs": [],
   "source": [
    "df.sort_values('Nos', inplace=True)"
   ]
  },
  {
   "cell_type": "code",
   "execution_count": 199,
   "metadata": {},
   "outputs": [],
   "source": [
    "df.set_index('Nos', inplace=True)"
   ]
  },
  {
   "cell_type": "code",
   "execution_count": 257,
   "metadata": {
    "scrolled": true
   },
   "outputs": [
    {
     "data": {
      "text/html": [
       "<div>\n",
       "<style scoped>\n",
       "    .dataframe tbody tr th:only-of-type {\n",
       "        vertical-align: middle;\n",
       "    }\n",
       "\n",
       "    .dataframe tbody tr th {\n",
       "        vertical-align: top;\n",
       "    }\n",
       "\n",
       "    .dataframe thead th {\n",
       "        text-align: right;\n",
       "    }\n",
       "</style>\n",
       "<table border=\"1\" class=\"dataframe\">\n",
       "  <thead>\n",
       "    <tr style=\"text-align: right;\">\n",
       "      <th></th>\n",
       "      <th>Name</th>\n",
       "      <th>Twitter_Handle</th>\n",
       "    </tr>\n",
       "    <tr>\n",
       "      <th>Nos</th>\n",
       "      <th></th>\n",
       "      <th></th>\n",
       "    </tr>\n",
       "  </thead>\n",
       "  <tbody>\n",
       "    <tr>\n",
       "      <th>1</th>\n",
       "      <td>Trevor Noah</td>\n",
       "      <td>@Trevornoah</td>\n",
       "    </tr>\n",
       "    <tr>\n",
       "      <th>2</th>\n",
       "      <td>Gareth Cliff</td>\n",
       "      <td>@GarethCliff</td>\n",
       "    </tr>\n",
       "    <tr>\n",
       "      <th>3</th>\n",
       "      <td>Zuma</td>\n",
       "      <td>@SAPresident</td>\n",
       "    </tr>\n",
       "    <tr>\n",
       "      <th>4</th>\n",
       "      <td>News24</td>\n",
       "      <td>@News24</td>\n",
       "    </tr>\n",
       "    <tr>\n",
       "      <th>5</th>\n",
       "      <td>Julius Sello Malema</td>\n",
       "      <td>@Julius_S_Malema</td>\n",
       "    </tr>\n",
       "    <tr>\n",
       "      <th>6</th>\n",
       "      <td>Helen Zille</td>\n",
       "      <td>@helenzille</td>\n",
       "    </tr>\n",
       "    <tr>\n",
       "      <th>7</th>\n",
       "      <td>mailandguardian</td>\n",
       "      <td>@mailandguardian</td>\n",
       "    </tr>\n",
       "    <tr>\n",
       "      <th>8</th>\n",
       "      <td>5FM</td>\n",
       "      <td>@5FM</td>\n",
       "    </tr>\n",
       "    <tr>\n",
       "      <th>9</th>\n",
       "      <td>loyiso gola</td>\n",
       "      <td>@loyisogola</td>\n",
       "    </tr>\n",
       "    <tr>\n",
       "      <th>10</th>\n",
       "      <td>Computicket</td>\n",
       "      <td>@Computicket</td>\n",
       "    </tr>\n",
       "  </tbody>\n",
       "</table>\n",
       "</div>"
      ],
      "text/plain": [
       "                    Name    Twitter_Handle\n",
       "Nos                                       \n",
       "1            Trevor Noah       @Trevornoah\n",
       "2           Gareth Cliff      @GarethCliff\n",
       "3                   Zuma      @SAPresident\n",
       "4                 News24           @News24\n",
       "5    Julius Sello Malema  @Julius_S_Malema\n",
       "6            Helen Zille       @helenzille\n",
       "7        mailandguardian  @mailandguardian\n",
       "8                    5FM              @5FM\n",
       "9            loyiso gola       @loyisogola\n",
       "10           Computicket      @Computicket"
      ]
     },
     "execution_count": 257,
     "metadata": {},
     "output_type": "execute_result"
    }
   ],
   "source": [
    "df.head(10)"
   ]
  },
  {
   "cell_type": "code",
   "execution_count": 258,
   "metadata": {},
   "outputs": [],
   "source": [
    "\n",
    "first_ten = df.head(10)"
   ]
  },
  {
   "cell_type": "code",
   "execution_count": 259,
   "metadata": {},
   "outputs": [],
   "source": [
    "first_ten.to_csv (\"African_influencer.csv\", index = False, header=True)"
   ]
  },
  {
   "cell_type": "code",
   "execution_count": null,
   "metadata": {},
   "outputs": [],
   "source": []
  },
  {
   "cell_type": "code",
   "execution_count": null,
   "metadata": {},
   "outputs": [],
   "source": []
  },
  {
   "cell_type": "code",
   "execution_count": 209,
   "metadata": {},
   "outputs": [
    {
     "name": "stdout",
     "output_type": "stream",
     "text": [
      "1 NELSON MANDELA\n",
      "2 HAILE SELASSIE\n",
      "3 KWAME NKRUMAH\n",
      "4 JULIUS NYERERE\n",
      "5 PATRICE LUMUMBA\n",
      "6 KOFI ANNAN\n",
      "7 THOMAS SANKARA\n",
      "8 JOMO KENYATTA\n",
      "9 KENNETH KAUNDA\n",
      "10 ELLEN JOHNSON-SIRLEAF\n"
     ]
    }
   ],
   "source": [
    "res_33 = get_elements('https://www.worldhistoryedu.com/greatest-african-leaders-of-all-time/', tag='h3')\n",
    "res_33\n",
    "count = (1)\n",
    "first_ten_two =  res_33[:10]\n",
    "for items in first_ten_two:\n",
    "    print(count,items)\n",
    "    count+=1"
   ]
  },
  {
   "cell_type": "code",
   "execution_count": 268,
   "metadata": {},
   "outputs": [],
   "source": [
    "url_33= 'https://www.atlanticcouncil.org/blogs/africasource/african-leaders-respond-to-coronavirus-on-twitter/#east-africa'\n",
    "response = simple_get(url_33)"
   ]
  },
  {
   "cell_type": "code",
   "execution_count": 269,
   "metadata": {},
   "outputs": [
    {
     "name": "stdout",
     "output_type": "stream",
     "text": [
      "finding all of {'class_': 'wp-block-embed__wrapper'}\n",
      "The total number of African leaders extracted 52\n"
     ]
    },
    {
     "data": {
      "text/plain": [
       "['@EswatiniGovern',\n",
       " '@MalawiGovt',\n",
       " '@hagegeingob',\n",
       " '@FinanceSC',\n",
       " '@PresidencyZA']"
      ]
     },
     "execution_count": 269,
     "metadata": {},
     "output_type": "execute_result"
    }
   ],
   "source": [
    "res_gov = get_elements(response, search={'find_all':{'class_':'wp-block-embed__wrapper'}})\n",
    "pattern = \"@[a-zA-Z]+\"\n",
    "twitter_handles = re.findall(pattern, str(res_gov))\n",
    "print(\"The total number of African leaders extracted\", len(twitter_handles))\n",
    "twitter_handles[:5]"
   ]
  },
  {
   "cell_type": "code",
   "execution_count": 270,
   "metadata": {},
   "outputs": [],
   "source": [
    "df_3 = pd.DataFrame(list(zip(index,twitter_handles)), columns=['Number','Twitter_Handle'])"
   ]
  },
  {
   "cell_type": "code",
   "execution_count": 271,
   "metadata": {},
   "outputs": [],
   "source": [
    "df_3[\"Number\"]= df_3.Number.astype(int)"
   ]
  },
  {
   "cell_type": "code",
   "execution_count": 272,
   "metadata": {},
   "outputs": [],
   "source": [
    "df_3.sort_values('Number', inplace=True)"
   ]
  },
  {
   "cell_type": "code",
   "execution_count": 273,
   "metadata": {},
   "outputs": [],
   "source": [
    "df_3.set_index('Number', inplace=True)\n"
   ]
  },
  {
   "cell_type": "code",
   "execution_count": 274,
   "metadata": {},
   "outputs": [
    {
     "data": {
      "text/html": [
       "<div>\n",
       "<style scoped>\n",
       "    .dataframe tbody tr th:only-of-type {\n",
       "        vertical-align: middle;\n",
       "    }\n",
       "\n",
       "    .dataframe tbody tr th {\n",
       "        vertical-align: top;\n",
       "    }\n",
       "\n",
       "    .dataframe thead th {\n",
       "        text-align: right;\n",
       "    }\n",
       "</style>\n",
       "<table border=\"1\" class=\"dataframe\">\n",
       "  <thead>\n",
       "    <tr style=\"text-align: right;\">\n",
       "      <th></th>\n",
       "      <th>Twitter_Handle</th>\n",
       "    </tr>\n",
       "    <tr>\n",
       "      <th>Number</th>\n",
       "      <th></th>\n",
       "    </tr>\n",
       "  </thead>\n",
       "  <tbody>\n",
       "    <tr>\n",
       "      <th>49</th>\n",
       "      <td>@MSPS</td>\n",
       "    </tr>\n",
       "    <tr>\n",
       "      <th>50</th>\n",
       "      <td>@PresidentBio</td>\n",
       "    </tr>\n",
       "    <tr>\n",
       "      <th>51</th>\n",
       "      <td>@Macky</td>\n",
       "    </tr>\n",
       "    <tr>\n",
       "      <th>52</th>\n",
       "      <td>@PaulKagame</td>\n",
       "    </tr>\n",
       "    <tr>\n",
       "      <th>53</th>\n",
       "      <td>@MBuhari</td>\n",
       "    </tr>\n",
       "    <tr>\n",
       "      <th>54</th>\n",
       "      <td>@IssoufouMhm</td>\n",
       "    </tr>\n",
       "    <tr>\n",
       "      <th>55</th>\n",
       "      <td>@CheikhGhazouani</td>\n",
       "    </tr>\n",
       "    <tr>\n",
       "      <th>56</th>\n",
       "      <td>@PresidenceMali</td>\n",
       "    </tr>\n",
       "    <tr>\n",
       "      <th>57</th>\n",
       "      <td>@USEmbalo</td>\n",
       "    </tr>\n",
       "    <tr>\n",
       "      <th>58</th>\n",
       "      <td>@President</td>\n",
       "    </tr>\n",
       "  </tbody>\n",
       "</table>\n",
       "</div>"
      ],
      "text/plain": [
       "          Twitter_Handle\n",
       "Number                  \n",
       "49                 @MSPS\n",
       "50         @PresidentBio\n",
       "51                @Macky\n",
       "52           @PaulKagame\n",
       "53              @MBuhari\n",
       "54          @IssoufouMhm\n",
       "55      @CheikhGhazouani\n",
       "56       @PresidenceMali\n",
       "57             @USEmbalo\n",
       "58            @President"
      ]
     },
     "execution_count": 274,
     "metadata": {},
     "output_type": "execute_result"
    }
   ],
   "source": [
    "df_3.head(10)\n"
   ]
  },
  {
   "cell_type": "code",
   "execution_count": 266,
   "metadata": {},
   "outputs": [],
   "source": [
    "first_ten_leaders = df_3.head(10)"
   ]
  },
  {
   "cell_type": "code",
   "execution_count": 267,
   "metadata": {},
   "outputs": [],
   "source": [
    "first_ten_leaders.to_csv (\"African_Leaders.csv\", index = False, header=True)"
   ]
  },
  {
   "cell_type": "code",
   "execution_count": null,
   "metadata": {},
   "outputs": [],
   "source": []
  }
 ],
 "metadata": {
  "kernelspec": {
   "display_name": "Python 3",
   "language": "python",
   "name": "python3"
  },
  "language_info": {
   "codemirror_mode": {
    "name": "ipython",
    "version": 3
   },
   "file_extension": ".py",
   "mimetype": "text/x-python",
   "name": "python",
   "nbconvert_exporter": "python",
   "pygments_lexer": "ipython3",
   "version": "3.7.6"
  }
 },
 "nbformat": 4,
 "nbformat_minor": 4
}
