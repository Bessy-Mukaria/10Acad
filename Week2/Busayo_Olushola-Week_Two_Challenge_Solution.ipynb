{
 "cells": [
  {
   "cell_type": "code",
   "execution_count": 1,
   "metadata": {},
   "outputs": [],
   "source": [
    "import pandas as pd\n",
    "import matplotlib.pyplot as plt\n",
    "import seaborn as sns\n",
    "import numpy as np"
   ]
  },
  {
   "cell_type": "markdown",
   "metadata": {},
   "source": [
    "Reading the Dataset from the directory"
   ]
  },
  {
   "cell_type": "code",
   "execution_count": 157,
   "metadata": {},
   "outputs": [
    {
     "data": {
      "text/html": [
       "<div>\n",
       "<style scoped>\n",
       "    .dataframe tbody tr th:only-of-type {\n",
       "        vertical-align: middle;\n",
       "    }\n",
       "\n",
       "    .dataframe tbody tr th {\n",
       "        vertical-align: top;\n",
       "    }\n",
       "\n",
       "    .dataframe thead th {\n",
       "        text-align: right;\n",
       "    }\n",
       "</style>\n",
       "<table border=\"1\" class=\"dataframe\">\n",
       "  <thead>\n",
       "    <tr style=\"text-align: right;\">\n",
       "      <th></th>\n",
       "      <th>Bearer Id</th>\n",
       "      <th>Start</th>\n",
       "      <th>Start ms</th>\n",
       "      <th>End</th>\n",
       "      <th>End ms</th>\n",
       "      <th>Dur. (ms)</th>\n",
       "      <th>IMSI</th>\n",
       "      <th>MSISDN/Number</th>\n",
       "      <th>IMEI</th>\n",
       "      <th>Last Location Name</th>\n",
       "      <th>...</th>\n",
       "      <th>Youtube DL (Bytes)</th>\n",
       "      <th>Youtube UL (Bytes)</th>\n",
       "      <th>Netflix DL (Bytes)</th>\n",
       "      <th>Netflix UL (Bytes)</th>\n",
       "      <th>Gaming DL (Bytes)</th>\n",
       "      <th>Gaming UL (Bytes)</th>\n",
       "      <th>Other DL (Bytes)</th>\n",
       "      <th>Other UL (Bytes)</th>\n",
       "      <th>Total UL (Bytes)</th>\n",
       "      <th>Total DL (Bytes)</th>\n",
       "    </tr>\n",
       "  </thead>\n",
       "  <tbody>\n",
       "    <tr>\n",
       "      <th>0</th>\n",
       "      <td>1.311450e+19</td>\n",
       "      <td>4/4/2019 12:01</td>\n",
       "      <td>770.0</td>\n",
       "      <td>4/25/2019 14:35</td>\n",
       "      <td>662.0</td>\n",
       "      <td>1823652.0</td>\n",
       "      <td>2.082010e+14</td>\n",
       "      <td>3.366496e+10</td>\n",
       "      <td>3.552120e+13</td>\n",
       "      <td>9.16457E+15</td>\n",
       "      <td>...</td>\n",
       "      <td>15854611.0</td>\n",
       "      <td>2501332.0</td>\n",
       "      <td>8198936.0</td>\n",
       "      <td>9656251.0</td>\n",
       "      <td>278082303.0</td>\n",
       "      <td>14344150.0</td>\n",
       "      <td>171744450.0</td>\n",
       "      <td>8814393.0</td>\n",
       "      <td>36749741.0</td>\n",
       "      <td>308879636.0</td>\n",
       "    </tr>\n",
       "    <tr>\n",
       "      <th>1</th>\n",
       "      <td>1.311450e+19</td>\n",
       "      <td>4/9/2019 13:04</td>\n",
       "      <td>235.0</td>\n",
       "      <td>4/25/2019 08:15</td>\n",
       "      <td>606.0</td>\n",
       "      <td>1365104.0</td>\n",
       "      <td>2.082020e+14</td>\n",
       "      <td>3.368185e+10</td>\n",
       "      <td>3.579400e+13</td>\n",
       "      <td>L77566A</td>\n",
       "      <td>...</td>\n",
       "      <td>20247395.0</td>\n",
       "      <td>19111729.0</td>\n",
       "      <td>18338413.0</td>\n",
       "      <td>17227132.0</td>\n",
       "      <td>608750074.0</td>\n",
       "      <td>1170709.0</td>\n",
       "      <td>526904238.0</td>\n",
       "      <td>15055145.0</td>\n",
       "      <td>53800391.0</td>\n",
       "      <td>653384965.0</td>\n",
       "    </tr>\n",
       "    <tr>\n",
       "      <th>2</th>\n",
       "      <td>1.311450e+19</td>\n",
       "      <td>4/9/2019 17:42</td>\n",
       "      <td>1.0</td>\n",
       "      <td>4/25/2019 11:58</td>\n",
       "      <td>652.0</td>\n",
       "      <td>1361762.0</td>\n",
       "      <td>2.082000e+14</td>\n",
       "      <td>3.376063e+10</td>\n",
       "      <td>3.528150e+13</td>\n",
       "      <td>D42335A</td>\n",
       "      <td>...</td>\n",
       "      <td>19725661.0</td>\n",
       "      <td>14699576.0</td>\n",
       "      <td>17587794.0</td>\n",
       "      <td>6163408.0</td>\n",
       "      <td>229584621.0</td>\n",
       "      <td>395630.0</td>\n",
       "      <td>410692588.0</td>\n",
       "      <td>4215763.0</td>\n",
       "      <td>27883638.0</td>\n",
       "      <td>279807335.0</td>\n",
       "    </tr>\n",
       "    <tr>\n",
       "      <th>3</th>\n",
       "      <td>1.311450e+19</td>\n",
       "      <td>4/10/2019 00:31</td>\n",
       "      <td>486.0</td>\n",
       "      <td>4/25/2019 07:36</td>\n",
       "      <td>171.0</td>\n",
       "      <td>1321509.0</td>\n",
       "      <td>2.082010e+14</td>\n",
       "      <td>3.375034e+10</td>\n",
       "      <td>3.535660e+13</td>\n",
       "      <td>T21824A</td>\n",
       "      <td>...</td>\n",
       "      <td>21388122.0</td>\n",
       "      <td>15146643.0</td>\n",
       "      <td>13994646.0</td>\n",
       "      <td>1097942.0</td>\n",
       "      <td>799538153.0</td>\n",
       "      <td>10849722.0</td>\n",
       "      <td>749039933.0</td>\n",
       "      <td>12797283.0</td>\n",
       "      <td>43324218.0</td>\n",
       "      <td>846028530.0</td>\n",
       "    </tr>\n",
       "    <tr>\n",
       "      <th>4</th>\n",
       "      <td>1.311450e+19</td>\n",
       "      <td>4/12/2019 20:10</td>\n",
       "      <td>565.0</td>\n",
       "      <td>4/25/2019 10:40</td>\n",
       "      <td>954.0</td>\n",
       "      <td>1089009.0</td>\n",
       "      <td>2.082010e+14</td>\n",
       "      <td>3.369980e+10</td>\n",
       "      <td>3.540700e+13</td>\n",
       "      <td>D88865A</td>\n",
       "      <td>...</td>\n",
       "      <td>15259380.0</td>\n",
       "      <td>18962873.0</td>\n",
       "      <td>17124581.0</td>\n",
       "      <td>415218.0</td>\n",
       "      <td>527707248.0</td>\n",
       "      <td>3529801.0</td>\n",
       "      <td>550709500.0</td>\n",
       "      <td>13910322.0</td>\n",
       "      <td>38542814.0</td>\n",
       "      <td>569138589.0</td>\n",
       "    </tr>\n",
       "  </tbody>\n",
       "</table>\n",
       "<p>5 rows × 55 columns</p>\n",
       "</div>"
      ],
      "text/plain": [
       "      Bearer Id            Start  Start ms              End  End ms  \\\n",
       "0  1.311450e+19   4/4/2019 12:01     770.0  4/25/2019 14:35   662.0   \n",
       "1  1.311450e+19   4/9/2019 13:04     235.0  4/25/2019 08:15   606.0   \n",
       "2  1.311450e+19   4/9/2019 17:42       1.0  4/25/2019 11:58   652.0   \n",
       "3  1.311450e+19  4/10/2019 00:31     486.0  4/25/2019 07:36   171.0   \n",
       "4  1.311450e+19  4/12/2019 20:10     565.0  4/25/2019 10:40   954.0   \n",
       "\n",
       "   Dur. (ms)          IMSI  MSISDN/Number          IMEI Last Location Name  \\\n",
       "0  1823652.0  2.082010e+14   3.366496e+10  3.552120e+13        9.16457E+15   \n",
       "1  1365104.0  2.082020e+14   3.368185e+10  3.579400e+13            L77566A   \n",
       "2  1361762.0  2.082000e+14   3.376063e+10  3.528150e+13            D42335A   \n",
       "3  1321509.0  2.082010e+14   3.375034e+10  3.535660e+13            T21824A   \n",
       "4  1089009.0  2.082010e+14   3.369980e+10  3.540700e+13            D88865A   \n",
       "\n",
       "   ...  Youtube DL (Bytes)  Youtube UL (Bytes)  Netflix DL (Bytes)  \\\n",
       "0  ...          15854611.0           2501332.0           8198936.0   \n",
       "1  ...          20247395.0          19111729.0          18338413.0   \n",
       "2  ...          19725661.0          14699576.0          17587794.0   \n",
       "3  ...          21388122.0          15146643.0          13994646.0   \n",
       "4  ...          15259380.0          18962873.0          17124581.0   \n",
       "\n",
       "   Netflix UL (Bytes)  Gaming DL (Bytes)  Gaming UL (Bytes)  Other DL (Bytes)  \\\n",
       "0           9656251.0        278082303.0         14344150.0       171744450.0   \n",
       "1          17227132.0        608750074.0          1170709.0       526904238.0   \n",
       "2           6163408.0        229584621.0           395630.0       410692588.0   \n",
       "3           1097942.0        799538153.0         10849722.0       749039933.0   \n",
       "4            415218.0        527707248.0          3529801.0       550709500.0   \n",
       "\n",
       "   Other UL (Bytes)  Total UL (Bytes)  Total DL (Bytes)  \n",
       "0         8814393.0        36749741.0       308879636.0  \n",
       "1        15055145.0        53800391.0       653384965.0  \n",
       "2         4215763.0        27883638.0       279807335.0  \n",
       "3        12797283.0        43324218.0       846028530.0  \n",
       "4        13910322.0        38542814.0       569138589.0  \n",
       "\n",
       "[5 rows x 55 columns]"
      ]
     },
     "execution_count": 157,
     "metadata": {},
     "output_type": "execute_result"
    }
   ],
   "source": [
    "data_source = pd.read_csv(\"Week2_challenge_data_source.csv\")\n",
    "data_source.head()"
   ]
  },
  {
   "cell_type": "markdown",
   "metadata": {},
   "source": [
    "### User Overview analysis "
   ]
  },
  {
   "cell_type": "markdown",
   "metadata": {},
   "source": [
    "1) Identifying the top 10 handsets used by the customers"
   ]
  },
  {
   "cell_type": "code",
   "execution_count": 17,
   "metadata": {},
   "outputs": [],
   "source": [
    "\n",
    "top_ten_handset = data_source[\"Handset Type\"].value_counts().head(10).reset_index()"
   ]
  },
  {
   "cell_type": "code",
   "execution_count": 24,
   "metadata": {},
   "outputs": [
    {
     "data": {
      "text/html": [
       "<div>\n",
       "<style scoped>\n",
       "    .dataframe tbody tr th:only-of-type {\n",
       "        vertical-align: middle;\n",
       "    }\n",
       "\n",
       "    .dataframe tbody tr th {\n",
       "        vertical-align: top;\n",
       "    }\n",
       "\n",
       "    .dataframe thead th {\n",
       "        text-align: right;\n",
       "    }\n",
       "</style>\n",
       "<table border=\"1\" class=\"dataframe\">\n",
       "  <thead>\n",
       "    <tr style=\"text-align: right;\">\n",
       "      <th></th>\n",
       "      <th>Count</th>\n",
       "      <th>Count</th>\n",
       "    </tr>\n",
       "  </thead>\n",
       "  <tbody>\n",
       "    <tr>\n",
       "      <th>0</th>\n",
       "      <td>Huawei B528S-23A</td>\n",
       "      <td>19752</td>\n",
       "    </tr>\n",
       "    <tr>\n",
       "      <th>1</th>\n",
       "      <td>Apple iPhone 6S (A1688)</td>\n",
       "      <td>9419</td>\n",
       "    </tr>\n",
       "    <tr>\n",
       "      <th>2</th>\n",
       "      <td>Apple iPhone 6 (A1586)</td>\n",
       "      <td>9023</td>\n",
       "    </tr>\n",
       "    <tr>\n",
       "      <th>3</th>\n",
       "      <td>undefined</td>\n",
       "      <td>8987</td>\n",
       "    </tr>\n",
       "    <tr>\n",
       "      <th>4</th>\n",
       "      <td>Apple iPhone 7 (A1778)</td>\n",
       "      <td>6326</td>\n",
       "    </tr>\n",
       "    <tr>\n",
       "      <th>5</th>\n",
       "      <td>Apple iPhone Se (A1723)</td>\n",
       "      <td>5187</td>\n",
       "    </tr>\n",
       "    <tr>\n",
       "      <th>6</th>\n",
       "      <td>Apple iPhone 8 (A1905)</td>\n",
       "      <td>4993</td>\n",
       "    </tr>\n",
       "    <tr>\n",
       "      <th>7</th>\n",
       "      <td>Apple iPhone Xr (A2105)</td>\n",
       "      <td>4568</td>\n",
       "    </tr>\n",
       "    <tr>\n",
       "      <th>8</th>\n",
       "      <td>Samsung Galaxy S8 (Sm-G950F)</td>\n",
       "      <td>4520</td>\n",
       "    </tr>\n",
       "    <tr>\n",
       "      <th>9</th>\n",
       "      <td>Apple iPhone X (A1901)</td>\n",
       "      <td>3813</td>\n",
       "    </tr>\n",
       "  </tbody>\n",
       "</table>\n",
       "</div>"
      ],
      "text/plain": [
       "                          Count  Count\n",
       "0              Huawei B528S-23A  19752\n",
       "1       Apple iPhone 6S (A1688)   9419\n",
       "2        Apple iPhone 6 (A1586)   9023\n",
       "3                     undefined   8987\n",
       "4        Apple iPhone 7 (A1778)   6326\n",
       "5       Apple iPhone Se (A1723)   5187\n",
       "6        Apple iPhone 8 (A1905)   4993\n",
       "7       Apple iPhone Xr (A2105)   4568\n",
       "8  Samsung Galaxy S8 (Sm-G950F)   4520\n",
       "9        Apple iPhone X (A1901)   3813"
      ]
     },
     "execution_count": 24,
     "metadata": {},
     "output_type": "execute_result"
    }
   ],
   "source": [
    "top_ten_handset = top_ten_handset.rename(columns={'index':\"Handset Type\",\"Handset Type\":\"Count\"})\n",
    "top_ten_handset"
   ]
  },
  {
   "cell_type": "markdown",
   "metadata": {},
   "source": [
    "Plotting a barchart with respect to the top ten Handset used by customers"
   ]
  },
  {
   "cell_type": "code",
   "execution_count": 25,
   "metadata": {},
   "outputs": [
    {
     "data": {
      "text/plain": [
       "Text(0.5, 1.0, 'Top 10 handsets used by customers with respect to their value counts')"
      ]
     },
     "execution_count": 25,
     "metadata": {},
     "output_type": "execute_result"
    },
    {
     "data": {
      "image/png": "[encoded data removed]",
      "text/plain": [
       "<Figure size 432x288 with 1 Axes>"
      ]
     },
     "metadata": {
      "needs_background": "light"
     },
     "output_type": "display_data"
    }
   ],
   "source": [
    "top_ten_handset.plot(kind = \"bar\").set_title(\"Top 10 handsets used by customers with respect to their value counts\")"
   ]
  },
  {
   "cell_type": "markdown",
   "metadata": {},
   "source": [
    "2) Identifying the top 3 handset manufacturers"
   ]
  },
  {
   "cell_type": "code",
   "execution_count": 27,
   "metadata": {},
   "outputs": [],
   "source": [
    "top_three_handset = data_source['Handset Manufacturer'].value_counts().head(3).reset_index()"
   ]
  },
  {
   "cell_type": "code",
   "execution_count": 28,
   "metadata": {},
   "outputs": [
    {
     "data": {
      "text/html": [
       "<div>\n",
       "<style scoped>\n",
       "    .dataframe tbody tr th:only-of-type {\n",
       "        vertical-align: middle;\n",
       "    }\n",
       "\n",
       "    .dataframe tbody tr th {\n",
       "        vertical-align: top;\n",
       "    }\n",
       "\n",
       "    .dataframe thead th {\n",
       "        text-align: right;\n",
       "    }\n",
       "</style>\n",
       "<table border=\"1\" class=\"dataframe\">\n",
       "  <thead>\n",
       "    <tr style=\"text-align: right;\">\n",
       "      <th></th>\n",
       "      <th>Handset Manufacturer</th>\n",
       "      <th>Handset Manufacturer</th>\n",
       "    </tr>\n",
       "  </thead>\n",
       "  <tbody>\n",
       "    <tr>\n",
       "      <th>0</th>\n",
       "      <td>Apple</td>\n",
       "      <td>59565</td>\n",
       "    </tr>\n",
       "    <tr>\n",
       "      <th>1</th>\n",
       "      <td>Samsung</td>\n",
       "      <td>40839</td>\n",
       "    </tr>\n",
       "    <tr>\n",
       "      <th>2</th>\n",
       "      <td>Huawei</td>\n",
       "      <td>34423</td>\n",
       "    </tr>\n",
       "  </tbody>\n",
       "</table>\n",
       "</div>"
      ],
      "text/plain": [
       "   Handset Manufacturer  Handset Manufacturer\n",
       "0                 Apple                 59565\n",
       "1               Samsung                 40839\n",
       "2                Huawei                 34423"
      ]
     },
     "execution_count": 28,
     "metadata": {},
     "output_type": "execute_result"
    }
   ],
   "source": [
    "top_three_handset = top_three_handset.rename(columns={'index':\"Handset Manufacturer\",\"handset_manufacturer\":\"Count\"})\n",
    "top_three_handset"
   ]
  },
  {
   "cell_type": "markdown",
   "metadata": {},
   "source": [
    "Plotting a bar chart of the top 3 manufacturers with respect to their value counts"
   ]
  },
  {
   "cell_type": "code",
   "execution_count": 29,
   "metadata": {},
   "outputs": [
    {
     "data": {
      "text/plain": [
       "Text(0.5, 1.0, 'Top three (3) Handset manufacturers with respect to their value counts')"
      ]
     },
     "execution_count": 29,
     "metadata": {},
     "output_type": "execute_result"
    },
    {
     "data": {
      "image/png": "[encoded data removed]",
      "text/plain": [
       "<Figure size 432x288 with 1 Axes>"
      ]
     },
     "metadata": {
      "needs_background": "light"
     },
     "output_type": "display_data"
    }
   ],
   "source": [
    "top_three_handset.plot(kind= \"bar\").set_title(\"Top three (3) Handset manufacturers with respect to their value counts\")"
   ]
  },
  {
   "cell_type": "markdown",
   "metadata": {},
   "source": [
    "3) Identifying the top 5 handsets per handset manufacturer"
   ]
  },
  {
   "cell_type": "code",
   "execution_count": 30,
   "metadata": {},
   "outputs": [
    {
     "name": "stdout",
     "output_type": "stream",
     "text": [
      "                                  Handset Type\n",
      "A-Link Telecom I. Cubot X18 Plus             2\n",
      "A-Link Telecom I. Cubot Power                1\n",
      "A-Link Telecom I. Cubot Note S               1\n",
      "A-Link Telecom I. Cubot A5                   1\n",
      "A-Link Telecom I. Cubot R9                   1\n",
      "                                      Handset Type\n",
      "Asustek Asus Zb552Kl Zenfone Go                  7\n",
      "Asustek Asus Zenfone2 Laser Ze600Kl              5\n",
      "Asustek Asus Zenfone2 Laser Ze601Kl              4\n",
      "Asustek Asus Zenfone 2 Laser Ze500Kl             3\n",
      "Asustek Asus Zenfone Selfie Zd551Kl              2\n",
      "                                   Handset Type\n",
      "Acer M310                                     5\n",
      "Acer Liquid Zest Plus                         2\n",
      "Acer Liquid Z220                              1\n",
      "Acer V370 Acer V370 Liquid E2 Duo             1\n",
      "Acer Liquid Z530                              1\n",
      "                          Handset Type\n",
      "Adar Stanley Mobile S231             1\n",
      "                               Handset Type\n",
      "Alif Communicati. Pulian Cm84             1\n",
      "                         Handset Type\n",
      "Apple iPhone 6S (A1688)          9419\n",
      "Apple iPhone 6 (A1586)           9023\n",
      "Apple iPhone 7 (A1778)           6326\n",
      "Apple iPhone Se (A1723)          5187\n",
      "Apple iPhone 8 (A1905)           4993\n",
      "                                                    Handset Type\n",
      "Archos Sa Archos 50C Platinum                                  1\n",
      "Archos Sa 50 Cesium                                            1\n",
      "Archos Sa Archos 40 Helium                                     1\n",
      "Archos Sa Archos 45B Helium 50B Helium 50C Heli...             1\n",
      "Archos Sa Diamond S                                            1\n",
      "                             Handset Type\n",
      "Archos Sa 50 Saphir                     8\n",
      "Archos Sa 55 Helium (Ultra)             8\n",
      "Archos Sa Access 45 4G                  5\n",
      "Archos Sa 50 Titanium 4G                4\n",
      "Archos Sa 55B Platinum                  4\n",
      "                                       Handset Type\n",
      "Asustek Asus Zenfone 3 Max Zc520Tl               51\n",
      "Asustek Asus Zenfone4 Max Zc520Kl                41\n",
      "Asustek Asus Zenfone 4 Max Zc554Kl               19\n",
      "Asustek Asus Zenfone Max Plus Zb570Tl            18\n",
      "Asustek Asus Zenfone Go Zb500Kl                  15\n",
      "                       Handset Type\n",
      "Avenir Telecom Pm550S             2\n",
      "                          Handset Type\n",
      "Beijing Shenqi T. Z2 Pro             1\n",
      "         Handset Type\n",
      "Bird L8             2\n",
      "                                   Handset Type\n",
      "Blu Products Inc Blu R1 Plus                  1\n",
      "Blu Products Inc Blu Studio C 5+5             1\n",
      "                           Handset Type\n",
      "Bullitt Group Li. Cat S30             3\n",
      "Bullitt Group Li. S60                 3\n",
      "Bullitt Group Li. S41                 1\n",
      "Bullitt Group Li. S61                 1\n",
      "                          Handset Type\n",
      "Casper Bilgisaya. Via M1             1\n",
      "                       Handset Type\n",
      "China Trade Grou. Ed1             2\n",
      "                                Handset Type\n",
      "Cisco Systems In. Cisco Mc7304             1\n",
      "                            Handset Type\n",
      "Civicom Technolo. European             1\n",
      "                      Handset Type\n",
      "Ck Telecom Limit. M1             1\n",
      "                            Handset Type\n",
      "Compal Electroni. Cat B15Q             1\n",
      "                                          Handset Type\n",
      "Concox Informati. Gt06E Gt06F Gv20                   2\n",
      "Concox Informati. Concox Gt06 Gt06N Tr06             1\n",
      "Concox Informati. Gt06                               1\n",
      "Concox Informati. Jh09                               1\n",
      "                           Handset Type\n",
      "Crosscall Trekker-M1 Core           101\n",
      "Crosscall Action-X3                  49\n",
      "Crosscall Core-X3                    24\n",
      "Crosscall Trekker-X3                 10\n",
      "Crosscall Trekker-X4                  7\n",
      "                                          Handset Type\n",
      "D-Link Corporati. D-Link Dwr-921                    10\n",
      "D-Link Corporati. D-Link Lte Usb Adaptor             6\n",
      "D-Link Corporati. Dwr-921                            5\n",
      "D-Link Corporati. Dwr-932                            1\n",
      "D-Link Corporati. Dwr-953                            1\n",
      "                               Handset Type\n",
      "Ddm Brands Llc Andy 4.5El Lte             2\n",
      "Ddm Brands Llc Andy 4Ei2                  2\n",
      "Ddm Brands Llc Andy 5Ei3                  2\n",
      "Ddm Brands Llc Andy 5El Lte               1\n",
      "Ddm Brands Llc Andy C5V                   1\n",
      "                                Handset Type\n",
      "Dn Electronics Surnaturel R500             3\n",
      "                                Handset Type\n",
      "Ddm Brands Llc Yezz Andy A6M               1\n",
      "Ddm Brands Llc Yezz Andy 5.5Ei             1\n",
      "Ddm Brands Llc Energy S550                 1\n",
      "                              Handset Type\n",
      "Dg Homtom Group. Homtom H50              4\n",
      "Dg Homtom Group. Homtom Ht3              1\n",
      "Dg Homtom Group. Homtom Ht16             1\n",
      "                                  Handset Type\n",
      "Dn Electronics Danew Konnect 350            11\n",
      "                                        Handset Type\n",
      "Doke Communicati. Blackview Bv6800 Pro             1\n",
      "                                       Handset Type\n",
      "Doro Ab Doro 6520 Doro 6521                       3\n",
      "Doro Ab Doro 6530 Doro 6531                       1\n",
      "Doro Ab Doro 8030 Doro 8028 Doro 8031             1\n",
      "                                                    Handset Type\n",
      "Doro Ab Doro 8030 Doro 8028 Doro 8031 Doro 8030...            13\n",
      "Doro Ab Doro Liberto 825                                       2\n",
      "Doro Ab Doro Phoneeasy 632                                     1\n",
      "Doro Ab Doro Liberto 820                                       1\n",
      "Doro Ab Doro 8040                                              1\n",
      "                                           Handset Type\n",
      "Dynamic Tech Hol. D-Mobile I3 I5 I7 I8 I9             3\n",
      "                                                   Handset Type\n",
      "Ecom Instruments. Ecom Mobile Safety Ex-Handy 209             1\n",
      "Ecom Instruments. Ecom Mobile Safety Smart-Ex 201             1\n",
      "                         Handset Type\n",
      "Electro Depot Fr. W55Hd             6\n",
      "                          Handset Type\n",
      "Ertebat Hamrah G. Glx H1             8\n",
      "                        Handset Type\n",
      "Essential Produc. Ph-1             1\n",
      "                           Handset Type\n",
      "Fairphone B.V Fairphone 2             4\n",
      "                              Handset Type\n",
      "Fully Holdings (. C8 4G                  3\n",
      "Fully Holdings (. Oukitel C2             1\n",
      "Fully Holdings (. K10                    1\n",
      "                                   Handset Type\n",
      "Gemalto M2M Gmbh Cinterion Pls8-E            10\n",
      "Gemalto M2M Gmbh Cinterion Ehs6               4\n",
      "Gemalto M2M Gmbh Eu3-E                        2\n",
      "Gemalto M2M Gmbh Cinterion Bgs3               1\n",
      "Gemalto M2M Gmbh Cinterion Ehs5-E             1\n",
      "                         Handset Type\n",
      "Gigaset Communic. Gs100             2\n",
      "Gigaset Communic. Gs185             1\n",
      "                      Handset Type\n",
      "Google Inc Pixel 3              25\n",
      "Google Inc Pixel 3Xl            13\n",
      "Google Inc G011C                 3\n",
      "                           Handset Type\n",
      "Gotron (Hk) Elec. Power 5             1\n",
      "Gotron (Hk) Elec. Gemini              1\n",
      "Gotron (Hk) Elec. Armor X             1\n",
      "                                  Handset Type\n",
      "Group Acquisitio. Cirrus 5                   1\n",
      "Group Acquisitio. Fly Evo Chic 4             1\n",
      "                               Handset Type\n",
      "Htc One M9                                5\n",
      "Htc One A9                                4\n",
      "Htc Desire 728                            1\n",
      "Htc Desire 820G Plus Dual Sim             1\n",
      "                               Handset Type\n",
      "Haier G50 L54                             3\n",
      "Haier W826                                1\n",
      "Haier Hw-W717 Hw-W816 Hw-W870             1\n",
      "Haier L55                                 1\n",
      "          Handset Type\n",
      "Hem Easy             7\n",
      "                             Handset Type\n",
      "Hewlett-Packard Hp Elite X3             1\n",
      "                               Handset Type\n",
      "Hmd Global Oy Nokia 7 Plus Ds            34\n",
      "Hmd Global Oy Ta-1063                    24\n",
      "Hmd Global Oy Nokia 6 Ss                 15\n",
      "Hmd Global Oy Ta-1006                    10\n",
      "Hmd Global Oy Nokia 6.1 Ds                9\n",
      "                       Handset Type\n",
      "Hong Kong Frog I. A10             4\n",
      "                                                    Handset Type\n",
      "Hongkong Ipro Te. Ipro I9350 I9400 S3 Wave 3.5 ...             1\n",
      "                          Handset Type\n",
      "Honstech Communi. Do G26             1\n",
      "                Handset Type\n",
      "Htc Desire 510            36\n",
      "Htc Desire 530            21\n",
      "Htc Desire 820            13\n",
      "Htc Desire 620            13\n",
      "Htc Desire 825            12\n",
      "                                Handset Type\n",
      "Huawei B528S-23A                       19752\n",
      "Huawei E5180                            2079\n",
      "Huawei P20 Lite Huawei Nova 3E          2021\n",
      "Huawei P20                              1480\n",
      "Huawei Y6 2018                           997\n",
      "                                      Handset Type\n",
      "Infinix Technolo. X511                           2\n",
      "Infinix Technolo. Infinix Hot Note               1\n",
      "Infinix Technolo. Infinix Surf Bravo             1\n",
      "Infinix Technolo. Note 3 Pro                     1\n",
      "Infinix Technolo. Hot 6                          1\n",
      "                               Handset Type\n",
      "Infocus Corporat. Infocus Vzh             3\n",
      "                                                    Handset Type\n",
      "Intermec Technol. Series 70 (Cn70 1000Cp01U) (C...             4\n",
      "                      Handset Type\n",
      "Itel Technology. S33             1\n",
      "Itel Technology. S31             1\n",
      "                             Handset Type\n",
      "Kvd Internationa. Doogee X5             1\n",
      "                                                    Handset Type\n",
      "Kapsys Smartvision2 Smartconnect2                              2\n",
      "Kapsys Smartvision Kapsys Smartvision By Kapsys...             1\n",
      "                                     Handset Type\n",
      "Kazam Mobile Lim. Kazam Trooper 451             1\n",
      "                                Handset Type\n",
      "Kenxinda V7                                1\n",
      "Kenxinda Victor Vm-66 N6000 K6             1\n",
      "                                                    Handset Type\n",
      "Kiwip Technologi. Montre Telephone Connectee Kiwip             3\n",
      "                              Handset Type\n",
      "Kook (Hong Kong). Teeno T600             5\n",
      "                                   Handset Type\n",
      "Kvd Internationa. Doogee Mix                  3\n",
      "Kvd Internationa. Doogee X10                  3\n",
      "Kvd Internationa. Doogee X20                  3\n",
      "Kvd Internationa. Doogee X60L                 2\n",
      "Kvd Internationa. Doogee S55 Lite             1\n",
      "             Handset Type\n",
      "Lg-H815                14\n",
      "Lg-H850                 8\n",
      "Lg Nexus 5X             7\n",
      "Lg-K120E                4\n",
      "Lg G4C                  3\n",
      "                                               Handset Type\n",
      "Leagoo Intl Co. . Leagoo Lead 6 Lead 5 Lead 7             1\n",
      "Leagoo Intl Co. . Leagoo T5                               1\n",
      "                           Handset Type\n",
      "Lemobile Informa. Le X820             1\n",
      "Lemobile Informa. Lex720              1\n",
      "Lemobile Informa. Lex626              1\n",
      "Lemobile Informa. Lex622              1\n",
      "Lemobile Informa. Le X527             1\n",
      "                                         Handset Type\n",
      "Lenovo Moto E Plus (4Th Gen) Go12071045            32\n",
      "Lenovo Lc12988845                                  30\n",
      "Lenovo Bl12416045                                  21\n",
      "Lenovo Moto G (5Th Gen) Indr003546                 19\n",
      "Lenovo Al12415545                                   9\n",
      "               Handset Type\n",
      "Lephone U Pro             1\n",
      "            Handset Type\n",
      "Lg G6                 31\n",
      "Lg Lg-E610             8\n",
      "Lg L Bello             7\n",
      "Lg-K350Nds             7\n",
      "Lg Lg-P700             7\n",
      "                              Handset Type\n",
      "Lidaxin Technolo. Glida Be09             2\n",
      "Lidaxin Technolo. My81                   1\n",
      "                            Handset Type\n",
      "Logicom Sa L-Ement 403                 9\n",
      "Logicom Sa Le Hello                    5\n",
      "Logicom Sa M Bot 60                    4\n",
      "Logicom Sa Logicom Le Moov             3\n",
      "Logicom Sa L-Ite 552                   3\n",
      "                             Handset Type\n",
      "M S Soha Enterp. Qphone Q70             1\n",
      "                                   Handset Type\n",
      "Maysun Info Tech. M5046                       1\n",
      "Maysun Info Tech. M5026                       1\n",
      "Maysun Info Tech. Maysunm Mid5702             1\n",
      "Maysun Info Tech. M4028                       1\n",
      "                           Handset Type\n",
      "Meizu Technology. M5                  2\n",
      "Meizu Technology. M5 Note             2\n",
      "Meizu Technology. M3 Note             2\n",
      "Meizu Technology. M6 Note             1\n",
      "Meizu Technology. Mx6                 1\n",
      "                                                    Handset Type\n",
      "Microsoft Mobile. Rm-1072 Lumia 640 Lte                       33\n",
      "Microsoft Mobile. Rm-1127 Microsoft Lumia 550                 26\n",
      "Microsoft Mobile. Nokia Lumia 635 Rm-974                      25\n",
      "Microsoft Mobile. Microsoft Rm-1075 Microsoft L...            14\n",
      "Microsoft Mobile. Rm-1152 Microsoft Lumia 650                 13\n",
      "                         Handset Type\n",
      "Mikrotikls Sia R11E-Lte             2\n",
      "                              Handset Type\n",
      "Mobiwire Sas Mobiwire Auriga             1\n",
      "                      Handset Type\n",
      "Modelabs Clap Plus 2            11\n",
      "Modelabs Horizon M               1\n",
      "                           Handset Type\n",
      "Mptech Hammer Energy 18X9             1\n",
      "                                   Handset Type\n",
      "Mundo Reader S.L. Aquaris U2 16+2             1\n",
      "                                            Handset Type\n",
      "Neel Enterprise Kolor Crosscalltrekker-X2              4\n",
      "Neel Enterprise Kolor Crosscall Odyssey                4\n",
      "Neel Enterprise Kolor Crosscall Trekker-X1             1\n",
      "                                                Handset Type\n",
      "Netgear Inc Aircard 810S                                   5\n",
      "Netgear Inc Netgear Ac785S-100                             4\n",
      "Netgear Inc Nighthawk Ac1900 Cat 6 Lte Gateway             3\n",
      "                         Handset Type\n",
      "New-Bund Technol. Thor              3\n",
      "New-Bund Technol. Mix 2             1\n",
      "                                  Handset Type\n",
      "Nokia 520 Lumia 520 Nokia 520               28\n",
      "Nokia Lumia 635 Rm-974                      14\n",
      "Nokia Rm-1038 Nokia Lumia 735               11\n",
      "Nokia Rm-984 Lumia 830 Nokia 830             7\n",
      "Nokia Rm-1017 530 Lumia 530                  7\n",
      "                            Handset Type\n",
      "Nubia Technology. Z17S                 2\n",
      "Nubia Technology. Z17 Mini             1\n",
      "Nubia Technology. M2 Play              1\n",
      "Nubia Technology. Nx569H               1\n",
      "                              Handset Type\n",
      "Oneplus Technolo. Oneplus 6T           117\n",
      "Oneplus Technolo. Oneplus 6            108\n",
      "Oneplus Technolo. Oneplus 5             36\n",
      "Oneplus Technolo. Oneplus5T             22\n",
      "Oneplus Technolo. Oneplus 5T            17\n",
      "              Handset Type\n",
      "Oppo Cph1609             5\n",
      "Oppo A1601               5\n",
      "Oppo Cph1893             5\n",
      "Oppo Cph1903             2\n",
      "Oppo Cph1877             2\n",
      "                                           Handset Type\n",
      "Option Nv Option Gtm661W Globesurfer Iii+             1\n",
      "                          Handset Type\n",
      "Orbita Telecom L. Konrow            11\n",
      "                        Handset Type\n",
      "Ovvi-Cellphone T. Echo             1\n",
      "                                                Handset Type\n",
      "Pacific Co (Bd). Nexus Nx14 Nx15 Nx65 Nx66 Nx8             3\n",
      "                                                    Handset Type\n",
      "Power Idea Techn. Rg310                                        4\n",
      "Power Idea Techn. Rg160                                        1\n",
      "Power Idea Techn. Rg730 Md501 D1                               1\n",
      "Power Idea Techn. Ruggear Rg230 Ruggear Rg500 I...             1\n",
      "                              Handset Type\n",
      "Pt. Arga Mas Les. Advan S35D             1\n",
      "                                                    Handset Type\n",
      "Qingdao Hisense. Hisense F17 Pro                               4\n",
      "Qingdao Hisense. Hisense F31                                   3\n",
      "Qingdao Hisense. Hisense C20                                   3\n",
      "Qingdao Hisense. Hs-U609 Hisense I500U Hisense ...             3\n",
      "Qingdao Hisense. Hisense F23                                   3\n",
      "            Handset Type\n",
      "Quanta 1Kg             1\n",
      "                               Handset Type\n",
      "Quartel Infotech. Maximus M84             2\n",
      "                                  Handset Type\n",
      "Quectel Wireless. Quectel Ec25-E             1\n",
      "Quectel Wireless. Quectel Ec21-E             1\n",
      "Quectel Wireless. Quectel M10                1\n",
      "                                    Handset Type\n",
      "Rim Blackberry Rhd131Lw (Str100-1)             4\n",
      "Rim Blackberry Rhm181Lw (Stv100-4)             1\n",
      "                       Handset Type\n",
      "Rainbow Communic. C45             3\n",
      "                         Handset Type\n",
      "Razer Inc Razer Phone 2             1\n",
      "Razer Inc Razer Phone               1\n",
      "                                           Handset Type\n",
      "Rim Blackberry Sqn100-3 Q10 Rfn81Uw                   7\n",
      "Rim Blackberry Sqc100-1 Rhh151Lw                      6\n",
      "Rim Blackberry Passport Sqw100-1 Rgy181Lw             4\n",
      "Rim Blackberry Stl100-2 Z10 Rfh121Lw                  4\n",
      "Rim Blackberry 8520                                   4\n",
      "                         Handset Type\n",
      "Sfr Star Trail 5 By Sfr             3\n",
      "Sfr Starxtrem5                      1\n",
      "                              Handset Type\n",
      "Samsung Galaxy S8 (Sm-G950F)          4520\n",
      "Samsung Galaxy A5 Sm-A520F            3724\n",
      "Samsung Galaxy J5 (Sm-J530)           3696\n",
      "Samsung Galaxy J3 (Sm-J330)           3484\n",
      "Samsung Galaxy S7 (Sm-G930X)          3199\n",
      "                             Handset Type\n",
      "Sdt Electronica Startrail 8             2\n",
      "                             Handset Type\n",
      "Sentar Wireless. Sentar V80             2\n",
      "                 Handset Type\n",
      "Sfr Starshine 5             4\n",
      "Sfr Altice S61              2\n",
      "Sfr Altice S11              2\n",
      "Sfr Startrail 6             1\n",
      "Sfr Starxtrem7              1\n",
      "                          Handset Type\n",
      "Shanghai Chengyu. Pp6000             1\n",
      "                                   Handset Type\n",
      "Shenzhen Boway E. Boway Boway U11             5\n",
      "                       Handset Type\n",
      "Shenzhen Chainwa. C70             1\n",
      "                        Handset Type\n",
      "Shenzhen City Ra. Mos1             1\n",
      "                            Handset Type\n",
      "Shenzhen Diadem. Liquid Z6             2\n",
      "                           Handset Type\n",
      "Shenzhen Fortune. Nh001               3\n",
      "Shenzhen Fortune. X8610               2\n",
      "Shenzhen Fortune. Ss5804G             1\n",
      "Shenzhen Fortune. M-Ppas6             1\n",
      "                                  Handset Type\n",
      "Shenzhen Gaoxinq. Gaoxinqi Et110             1\n",
      "                        Handset Type\n",
      "Shenzhen Guowei. V6304             1\n",
      "                              Handset Type\n",
      "Shenzhen Huadoo. Huadoo Hg03             1\n",
      "                        Handset Type\n",
      "Shenzhen Huanuo. B2803             3\n",
      "                                        Handset Type\n",
      "Shenzhen Jeko Co. Blackview Bv8000 Pro             5\n",
      "Shenzhen Jeko Co. Blackview Bv7000                 4\n",
      "Shenzhen Jeko Co. Blackview A20                    3\n",
      "Shenzhen Jeko Co. Blackview Bv6000                 3\n",
      "Shenzhen Jeko Co. Blackview A7                     3\n",
      "                              Handset Type\n",
      "Shenzhen Jsr Tec. Innos K502             1\n",
      "                       Handset Type\n",
      "Shenzhen Kdi Com. D58             5\n",
      "                                         Handset Type\n",
      "Shenzhen Kelly T. Kliton Kailitong F168             1\n",
      "                                Handset Type\n",
      "Shenzhen Leagoo. Leagoo S8                 1\n",
      "Shenzhen Leagoo. Leagoo M9 Pro             1\n",
      "                                               Handset Type\n",
      "Shenzhen Malata Liger 81G Smb-E1002 Smb-E8001             1\n",
      "                         Handset Type\n",
      "Shenzhen New Cha. Cb358             1\n",
      "                              Handset Type\n",
      "Shenzhen Sprocom. Fly Iq4490             1\n",
      "                         Handset Type\n",
      "Shenzhen Xin Kin. V1600             1\n",
      "Shenzhen Xin Kin. V18H              1\n",
      "                           Handset Type\n",
      "Shenzhen Yiqingt. Yqt1213             1\n",
      "                               Handset Type\n",
      "Sierra Wireless Mc7710                    3\n",
      "Sierra Wireless Hl6528Rd-2.8V             2\n",
      "Sierra Wireless Usb305                    2\n",
      "Sierra Wireless Mc8355                    1\n",
      "Sierra Wireless Hilo3G 900                1\n",
      "                                Handset Type\n",
      "Simcom Wireless. Sim900                    3\n",
      "Simcom Wireless. Sim800H                   1\n",
      "Simcom Wireless. Simcom Sim900             1\n",
      "                                 Handset Type\n",
      "Sintave Technolo. Sintave S1000             1\n",
      "                                         Handset Type\n",
      "Sonaki Corporati. Crown Japan Cr-Mp3019             7\n",
      "                             Handset Type\n",
      "Sonim Technologi. Sonim Xp7             1\n",
      "                                      Handset Type\n",
      "Sony Ericsson Lt18I                              6\n",
      "Sony Ericsson St25I Xperia U                     4\n",
      "Sony Ericsson Lt15I (Aad-3880097-Bv)             2\n",
      "Sony Ericsson Lt15I                              1\n",
      "Sony Ericsson St25I - Xperia U                   1\n",
      "                                     Handset Type\n",
      "Sony Mobile Comm. Xperia Z5 Compact            20\n",
      "Sony Mobile Comm. Xperia Z5                    13\n",
      "Sony Mobile Comm. Xperia E3                    13\n",
      "Sony Mobile Comm. Xperia M4 Aqua               12\n",
      "Sony Mobile Comm. Xperia Z3 Compact            11\n",
      "                                    Handset Type\n",
      "Sony Mobile Comm. Xperia Xa2                 151\n",
      "Sony Mobile Comm. Xperia Xa2 Ultra           115\n",
      "Sony Mobile Comm. Xperia Xa1 Ultra            94\n",
      "Sony Mobile Comm. Xperia Xz1                  91\n",
      "Sony Mobile Comm. Xperia L1                   81\n",
      "                                 Handset Type\n",
      "Source (Hk) Ltd J-Max Zara-Zara             1\n",
      "                                    Handset Type\n",
      "Spa Condor Elect. Allure M1                    5\n",
      "Spa Condor Elect. P8 Lite                      3\n",
      "Spa Condor Elect. Allure M3                    3\n",
      "Spa Condor Elect. Plume P6 Pro Lte             3\n",
      "Spa Condor Elect. C6+                          2\n",
      "                                                Handset Type\n",
      "Tcl Communicatio. Linkzone                                31\n",
      "Tcl Communicatio. Alcatel Onetouch Pop 3 (5)               7\n",
      "Tcl Communicatio. Pixi 4 6 3G Android                      4\n",
      "Tcl Communicatio. Pixi 4 6 4G Android                      4\n",
      "Tcl Communicatio. Alcatel Onetouch Pop 3 (5.5)             1\n",
      "                                                    Handset Type\n",
      "Tct Mobile Suzho. Alcatel One Touch 6030X                      4\n",
      "Tct Mobile Suzho. Alcatel One Touch Pop C1 Alca...             2\n",
      "Tct Mobile Suzho. Alcatel One Touch 997                        1\n",
      "Tct Mobile Suzho. 7048A                                        1\n",
      "Tct Mobile Suzho. Alcatel One Touch Pop C5                     1\n",
      "                                                    Handset Type\n",
      "Tp-Link Technolo. Tp-Link Archer Mr200 Tp-Link ...            46\n",
      "Tp-Link Technolo. Tp-Link Tp701A                               1\n",
      "                                            Handset Type\n",
      "Tcl Communicatio. U3 3G                               87\n",
      "Tcl Communicatio. Alcatel Pixi 4 (4) 4034D            36\n",
      "Tcl Communicatio. Alcatel U5                          15\n",
      "Tcl Communicatio. Alcatel 1X                          14\n",
      "Tcl Communicatio. Alcatel 1                           13\n",
      "                                                 Handset Type\n",
      "Tct Mobile Suzho. Alcatel Onetouch Idol 3 (4.7)             6\n",
      "Tct Mobile Suzho. Alcatel Onetouch Pop C2                   1\n",
      "Tct Mobile Suzho. Alcatel Onetouch Pop D5                   1\n",
      "Tct Mobile Suzho. Alcatel Onetouch Pop S7                   1\n",
      "Tct Mobile Suzho. Alcatel Onetouch Pop2 4.5                 1\n",
      "                                 Handset Type\n",
      "Tecno Telecom (H. It1506                    1\n",
      "Tecno Telecom (H. Phantom6 Plus             1\n",
      "Tecno Telecom (H. C9                        1\n",
      "                                Handset Type\n",
      "Teletalk Pvt Ltd Colors Cl220+             1\n",
      "Teletalk Pvt Ltd Colors F016               1\n",
      "                   Handset Type\n",
      "Telit Ul865-Eur               7\n",
      "Telit Le910-Eu V2             2\n",
      "Telit Le910-Eug               1\n",
      "           Handset Type\n",
      "Test IMEI             1\n",
      "                                           Handset Type\n",
      "Tianlong Interna. Uphone S922 Uphone S930             1\n",
      "                   Handset Type\n",
      "Tianyu K-Touch M7             1\n",
      "                                                    Handset Type\n",
      "Tinno Mobile Tec. Tinno S9201                                  2\n",
      "Tinno Mobile Tec. Lt X33                                       1\n",
      "Tinno Mobile Tec. Tinno S9091B                                 1\n",
      "Tinno Mobile Tec. Tinno S9111                                  1\n",
      "Tinno Mobile Tec. Tinno S909X S930X S9311 P5003...             1\n",
      "                                 Handset Type\n",
      "Topwell Technolo. Topwell M318A             4\n",
      "                                 Handset Type\n",
      "Tp-Link Technolo. Tl-Mr6400                16\n",
      "Tp-Link Technolo. Archer Mr200             11\n",
      "Tp-Link Technolo. Archer Mr400              9\n",
      "Tp-Link Technolo. Tp-Link M7350             3\n",
      "Tp-Link Technolo. X1 Lite                   2\n",
      "                                  Handset Type\n",
      "Umi Network Tech. Umidigi Z1 Pro             2\n",
      "Umi Network Tech. One Pro                    1\n",
      "Umi Network Tech. Z2                         1\n",
      "Umi Network Tech. One                        1\n",
      "                                 Handset Type\n",
      "Vastking Technol. Vastking M750             1\n",
      "                                    Handset Type\n",
      "Vivo Mobile Comm. Vivo Vivo X7Plus             1\n",
      "Vivo Mobile Comm. Vivo Vivo 1718               1\n",
      "Vivo Mobile Comm. Vivo V7+                     1\n",
      "Vivo Mobile Comm. Vivo Vivo X21A               1\n",
      "                               Handset Type\n",
      "Vplus Communicat. Vplus V5001             3\n",
      "         Handset Type\n",
      "Wct Uno             1\n",
      "             Handset Type\n",
      "Wiko Jerry3            18\n",
      "                                       Handset Type\n",
      "Wiko Global Sasu Sunny3                          76\n",
      "Wiko Global Sasu Wiko Lenny3                     56\n",
      "Wiko Global Sasu Wiko Lenny2                     48\n",
      "Wiko Global Sasu Wiko Rainbow Lite 4G            44\n",
      "Wiko Global Sasu Wiko Sunny                      34\n",
      "                                   Handset Type\n",
      "Wileyfox Europe. Wileyfox Swift 2             2\n",
      "Wileyfox Europe. Wileyfox Spark               1\n",
      "                   Handset Type\n",
      "Wistron Wnc D18Qx             2\n",
      "Wistron M18Qw                 2\n",
      "                                Handset Type\n",
      "Xiaomi Communica. Redmi Note5            140\n",
      "Xiaomi Communica. Mi A2                   18\n",
      "Xiaomi Communica. Redmi 4X                17\n",
      "Xiaomi Communica. Pocophone F1            17\n",
      "Xiaomi Communica. Mi 8                    17\n",
      "                             Handset Type\n",
      "Yi Sheng Technol. Gretel A7             1\n",
      "                              Handset Type\n",
      "Yop Technology C. Maze Alpha             1\n",
      "                         Handset Type\n",
      "Yota Devices Yotaphone2             1\n",
      "Yota Devices Yota Y3                1\n",
      "                           Handset Type\n",
      "Zte A2016                             2\n",
      "Zte Blade A452 Blade A452             1\n",
      "                                 Handset Type\n",
      "Zebra Technologi. Symbol Tc55Bh             8\n",
      "Zebra Technologi. Mc659B                    4\n",
      "Zebra Technologi. Mc5574                    1\n",
      "Zebra Technologi. Mc67Na                    1\n",
      "                                                    Handset Type\n",
      "Zte Mf259                                                    170\n",
      "Zte Racer Iii Mini Zte Switch X1 Bouygues Telec...             5\n",
      "Zte Blade V7 Lite Blade V6 Plus Zte Blitz                      3\n",
      "Zte Zte Blade C2 Smartphone Android By Sfr Star...             2\n",
      "Zte Mf190                                                      1\n",
      "                                 Handset Type\n",
      "Zyxel Communicat. Zyxel Wah7706             1\n",
      "                           Handset Type\n",
      "Zyxel Communicat. Sbg3600             1\n",
      "Zyxel Communicat. Lte7460             1\n",
      "           Handset Type\n",
      "undefined          8987\n"
     ]
    }
   ],
   "source": [
    "for items in data_source.groupby(['Handset Manufacturer']):\n",
    "    print(pd.DataFrame(items[1][\"Handset Type\"].value_counts().head(5)))"
   ]
  },
  {
   "cell_type": "markdown",
   "metadata": {},
   "source": [
    "4) Making a short interpretation and recommendation to marketing teams"
   ]
  },
  {
   "cell_type": "markdown",
   "metadata": {},
   "source": [
    "From the data given it could be noted that the usage of Huawei B528S-23A handset by customers is twice the usage of any of the hanset type.\n",
    "From this, it can be cocluded hat the marketting team should focus more on the said device than other handset devices.\n",
    "\n",
    "It can be seen that Apple has manufactured more handsets than other manufacturers.\n",
    "\n",
    "Looking at the data gotten, Apple series has been used over time and is more preferred than the Huawei B528S-23A which tops the chart for the most used handset. \n",
    "Conclusively, more focus should be taken on Apple series than other handset devices."
   ]
  },
  {
   "cell_type": "markdown",
   "metadata": {},
   "source": [
    "### Task 1.1"
   ]
  },
  {
   "cell_type": "markdown",
   "metadata": {},
   "source": [
    "Number of xDR sessions"
   ]
  },
  {
   "cell_type": "code",
   "execution_count": 37,
   "metadata": {},
   "outputs": [
    {
     "data": {
      "text/html": [
       "<div>\n",
       "<style scoped>\n",
       "    .dataframe tbody tr th:only-of-type {\n",
       "        vertical-align: middle;\n",
       "    }\n",
       "\n",
       "    .dataframe tbody tr th {\n",
       "        vertical-align: top;\n",
       "    }\n",
       "\n",
       "    .dataframe thead th {\n",
       "        text-align: right;\n",
       "    }\n",
       "</style>\n",
       "<table border=\"1\" class=\"dataframe\">\n",
       "  <thead>\n",
       "    <tr style=\"text-align: right;\">\n",
       "      <th></th>\n",
       "      <th>MSISDN/Number</th>\n",
       "    </tr>\n",
       "  </thead>\n",
       "  <tbody>\n",
       "    <tr>\n",
       "      <th>3.362632e+10</th>\n",
       "      <td>18</td>\n",
       "    </tr>\n",
       "    <tr>\n",
       "      <th>3.361489e+10</th>\n",
       "      <td>17</td>\n",
       "    </tr>\n",
       "    <tr>\n",
       "      <th>3.362578e+10</th>\n",
       "      <td>17</td>\n",
       "    </tr>\n",
       "    <tr>\n",
       "      <th>3.365973e+10</th>\n",
       "      <td>16</td>\n",
       "    </tr>\n",
       "    <tr>\n",
       "      <th>3.376054e+10</th>\n",
       "      <td>15</td>\n",
       "    </tr>\n",
       "  </tbody>\n",
       "</table>\n",
       "</div>"
      ],
      "text/plain": [
       "              MSISDN/Number\n",
       "3.362632e+10             18\n",
       "3.361489e+10             17\n",
       "3.362578e+10             17\n",
       "3.365973e+10             16\n",
       "3.376054e+10             15"
      ]
     },
     "execution_count": 37,
     "metadata": {},
     "output_type": "execute_result"
    }
   ],
   "source": [
    "no_of_xdr= pd.DataFrame(data_source[\"MSISDN/Number\"].value_counts(),)\n",
    "no_of_xdr.head()"
   ]
  },
  {
   "cell_type": "markdown",
   "metadata": {},
   "source": [
    "Session duration"
   ]
  },
  {
   "cell_type": "code",
   "execution_count": 39,
   "metadata": {},
   "outputs": [
    {
     "data": {
      "text/html": [
       "<div>\n",
       "<style scoped>\n",
       "    .dataframe tbody tr th:only-of-type {\n",
       "        vertical-align: middle;\n",
       "    }\n",
       "\n",
       "    .dataframe tbody tr th {\n",
       "        vertical-align: top;\n",
       "    }\n",
       "\n",
       "    .dataframe thead th {\n",
       "        text-align: right;\n",
       "    }\n",
       "</style>\n",
       "<table border=\"1\" class=\"dataframe\">\n",
       "  <thead>\n",
       "    <tr style=\"text-align: right;\">\n",
       "      <th></th>\n",
       "      <th>Dur. (ms)</th>\n",
       "    </tr>\n",
       "    <tr>\n",
       "      <th>MSISDN/Number</th>\n",
       "      <th></th>\n",
       "    </tr>\n",
       "  </thead>\n",
       "  <tbody>\n",
       "    <tr>\n",
       "      <th>3.360100e+10</th>\n",
       "      <td>116720.0</td>\n",
       "    </tr>\n",
       "    <tr>\n",
       "      <th>3.360100e+10</th>\n",
       "      <td>181230.0</td>\n",
       "    </tr>\n",
       "    <tr>\n",
       "      <th>3.360100e+10</th>\n",
       "      <td>134969.0</td>\n",
       "    </tr>\n",
       "    <tr>\n",
       "      <th>3.360101e+10</th>\n",
       "      <td>49878.0</td>\n",
       "    </tr>\n",
       "    <tr>\n",
       "      <th>3.360101e+10</th>\n",
       "      <td>18552.0</td>\n",
       "    </tr>\n",
       "  </tbody>\n",
       "</table>\n",
       "</div>"
      ],
      "text/plain": [
       "               Dur. (ms)\n",
       "MSISDN/Number           \n",
       "3.360100e+10    116720.0\n",
       "3.360100e+10    181230.0\n",
       "3.360100e+10    134969.0\n",
       "3.360101e+10     49878.0\n",
       "3.360101e+10     18552.0"
      ]
     },
     "execution_count": 39,
     "metadata": {},
     "output_type": "execute_result"
    }
   ],
   "source": [
    "session_duration= data_source.pivot_table(index= \"MSISDN/Number\", values= \"Dur. (ms)\")\n",
    "session_duration.head()"
   ]
  },
  {
   "cell_type": "markdown",
   "metadata": {},
   "source": [
    "The total download (DL) and upload (UL) data"
   ]
  },
  {
   "cell_type": "code",
   "execution_count": 40,
   "metadata": {},
   "outputs": [
    {
     "data": {
      "text/html": [
       "<div>\n",
       "<style scoped>\n",
       "    .dataframe tbody tr th:only-of-type {\n",
       "        vertical-align: middle;\n",
       "    }\n",
       "\n",
       "    .dataframe tbody tr th {\n",
       "        vertical-align: top;\n",
       "    }\n",
       "\n",
       "    .dataframe thead th {\n",
       "        text-align: right;\n",
       "    }\n",
       "</style>\n",
       "<table border=\"1\" class=\"dataframe\">\n",
       "  <thead>\n",
       "    <tr style=\"text-align: right;\">\n",
       "      <th></th>\n",
       "      <th>Total DL (Bytes)</th>\n",
       "      <th>Total UL (Bytes)</th>\n",
       "    </tr>\n",
       "    <tr>\n",
       "      <th>MSISDN/Number</th>\n",
       "      <th></th>\n",
       "      <th></th>\n",
       "    </tr>\n",
       "  </thead>\n",
       "  <tbody>\n",
       "    <tr>\n",
       "      <th>3.360100e+10</th>\n",
       "      <td>842637466.0</td>\n",
       "      <td>36053108.0</td>\n",
       "    </tr>\n",
       "    <tr>\n",
       "      <th>3.360100e+10</th>\n",
       "      <td>120755184.0</td>\n",
       "      <td>36104459.0</td>\n",
       "    </tr>\n",
       "    <tr>\n",
       "      <th>3.360100e+10</th>\n",
       "      <td>556659663.0</td>\n",
       "      <td>39306820.0</td>\n",
       "    </tr>\n",
       "    <tr>\n",
       "      <th>3.360101e+10</th>\n",
       "      <td>401993172.0</td>\n",
       "      <td>20327526.0</td>\n",
       "    </tr>\n",
       "    <tr>\n",
       "      <th>3.360101e+10</th>\n",
       "      <td>681565208.5</td>\n",
       "      <td>47140263.5</td>\n",
       "    </tr>\n",
       "  </tbody>\n",
       "</table>\n",
       "</div>"
      ],
      "text/plain": [
       "               Total DL (Bytes)  Total UL (Bytes)\n",
       "MSISDN/Number                                    \n",
       "3.360100e+10        842637466.0        36053108.0\n",
       "3.360100e+10        120755184.0        36104459.0\n",
       "3.360100e+10        556659663.0        39306820.0\n",
       "3.360101e+10        401993172.0        20327526.0\n",
       "3.360101e+10        681565208.5        47140263.5"
      ]
     },
     "execution_count": 40,
     "metadata": {},
     "output_type": "execute_result"
    }
   ],
   "source": [
    "total_throughput= data_source.pivot_table(index= \"MSISDN/Number\", values= [\"Total UL (Bytes)\", \"Total DL (Bytes)\"])\n",
    "total_throughput.head()"
   ]
  },
  {
   "cell_type": "markdown",
   "metadata": {},
   "source": [
    "The total data volume (in Bytes) during this session for each application"
   ]
  },
  {
   "cell_type": "code",
   "execution_count": 56,
   "metadata": {},
   "outputs": [],
   "source": [
    "data_volume= \"Social Media DL (Bytes)-Social Media UL (Bytes)-Google DL (Bytes)-Google UL (Bytes)-Email DL (Bytes)-Email UL (Bytes)-Youtube DL (Bytes)-Youtube UL (Bytes)-Netflix DL (Bytes)-Netflix UL (Bytes)-Gaming DL (Bytes)-Gaming UL (Bytes)-Other DL (Bytes)-Other UL (Bytes)\".split(\"-\")"
   ]
  },
  {
   "cell_type": "code",
   "execution_count": 58,
   "metadata": {},
   "outputs": [
    {
     "data": {
      "text/html": [
       "<div>\n",
       "<style scoped>\n",
       "    .dataframe tbody tr th:only-of-type {\n",
       "        vertical-align: middle;\n",
       "    }\n",
       "\n",
       "    .dataframe tbody tr th {\n",
       "        vertical-align: top;\n",
       "    }\n",
       "\n",
       "    .dataframe thead th {\n",
       "        text-align: right;\n",
       "    }\n",
       "</style>\n",
       "<table border=\"1\" class=\"dataframe\">\n",
       "  <thead>\n",
       "    <tr style=\"text-align: right;\">\n",
       "      <th></th>\n",
       "      <th>Total data volume</th>\n",
       "    </tr>\n",
       "  </thead>\n",
       "  <tbody>\n",
       "    <tr>\n",
       "      <th>Social Media DL (Bytes)</th>\n",
       "      <td>2.693001e+11</td>\n",
       "    </tr>\n",
       "    <tr>\n",
       "      <th>Social Media UL (Bytes)</th>\n",
       "      <td>4.939298e+09</td>\n",
       "    </tr>\n",
       "    <tr>\n",
       "      <th>Google DL (Bytes)</th>\n",
       "      <td>8.626186e+11</td>\n",
       "    </tr>\n",
       "    <tr>\n",
       "      <th>Google UL (Bytes)</th>\n",
       "      <td>3.084833e+11</td>\n",
       "    </tr>\n",
       "    <tr>\n",
       "      <th>Email DL (Bytes)</th>\n",
       "      <td>2.687611e+11</td>\n",
       "    </tr>\n",
       "    <tr>\n",
       "      <th>Email UL (Bytes)</th>\n",
       "      <td>7.010648e+10</td>\n",
       "    </tr>\n",
       "    <tr>\n",
       "      <th>Youtube DL (Bytes)</th>\n",
       "      <td>1.745123e+12</td>\n",
       "    </tr>\n",
       "    <tr>\n",
       "      <th>Youtube UL (Bytes)</th>\n",
       "      <td>1.651423e+12</td>\n",
       "    </tr>\n",
       "    <tr>\n",
       "      <th>Netflix DL (Bytes)</th>\n",
       "      <td>1.744039e+12</td>\n",
       "    </tr>\n",
       "    <tr>\n",
       "      <th>Netflix UL (Bytes)</th>\n",
       "      <td>1.650274e+12</td>\n",
       "    </tr>\n",
       "    <tr>\n",
       "      <th>Gaming DL (Bytes)</th>\n",
       "      <td>6.330713e+13</td>\n",
       "    </tr>\n",
       "    <tr>\n",
       "      <th>Gaming UL (Bytes)</th>\n",
       "      <td>1.243268e+12</td>\n",
       "    </tr>\n",
       "    <tr>\n",
       "      <th>Other DL (Bytes)</th>\n",
       "      <td>6.316550e+13</td>\n",
       "    </tr>\n",
       "    <tr>\n",
       "      <th>Other UL (Bytes)</th>\n",
       "      <td>1.239728e+12</td>\n",
       "    </tr>\n",
       "  </tbody>\n",
       "</table>\n",
       "</div>"
      ],
      "text/plain": [
       "                         Total data volume\n",
       "Social Media DL (Bytes)       2.693001e+11\n",
       "Social Media UL (Bytes)       4.939298e+09\n",
       "Google DL (Bytes)             8.626186e+11\n",
       "Google UL (Bytes)             3.084833e+11\n",
       "Email DL (Bytes)              2.687611e+11\n",
       "Email UL (Bytes)              7.010648e+10\n",
       "Youtube DL (Bytes)            1.745123e+12\n",
       "Youtube UL (Bytes)            1.651423e+12\n",
       "Netflix DL (Bytes)            1.744039e+12\n",
       "Netflix UL (Bytes)            1.650274e+12\n",
       "Gaming DL (Bytes)             6.330713e+13\n",
       "Gaming UL (Bytes)             1.243268e+12\n",
       "Other DL (Bytes)              6.316550e+13\n",
       "Other UL (Bytes)              1.239728e+12"
      ]
     },
     "execution_count": 58,
     "metadata": {},
     "output_type": "execute_result"
    }
   ],
   "source": [
    "datavolume_df= pd.DataFrame(data_source[data_volume].sum(), columns= [\"Total data volume\"])\n",
    "datavolume_df"
   ]
  },
  {
   "cell_type": "markdown",
   "metadata": {},
   "source": [
    "Replacing Null values with the mean"
   ]
  },
  {
   "cell_type": "code",
   "execution_count": 60,
   "metadata": {},
   "outputs": [
    {
     "data": {
      "text/html": [
       "<div>\n",
       "<style scoped>\n",
       "    .dataframe tbody tr th:only-of-type {\n",
       "        vertical-align: middle;\n",
       "    }\n",
       "\n",
       "    .dataframe tbody tr th {\n",
       "        vertical-align: top;\n",
       "    }\n",
       "\n",
       "    .dataframe thead th {\n",
       "        text-align: right;\n",
       "    }\n",
       "</style>\n",
       "<table border=\"1\" class=\"dataframe\">\n",
       "  <thead>\n",
       "    <tr style=\"text-align: right;\">\n",
       "      <th></th>\n",
       "      <th>Bearer Id</th>\n",
       "      <th>Start</th>\n",
       "      <th>Start ms</th>\n",
       "      <th>End</th>\n",
       "      <th>End ms</th>\n",
       "      <th>Dur. (ms)</th>\n",
       "      <th>IMSI</th>\n",
       "      <th>MSISDN/Number</th>\n",
       "      <th>IMEI</th>\n",
       "      <th>Last Location Name</th>\n",
       "      <th>...</th>\n",
       "      <th>Youtube DL (Bytes)</th>\n",
       "      <th>Youtube UL (Bytes)</th>\n",
       "      <th>Netflix DL (Bytes)</th>\n",
       "      <th>Netflix UL (Bytes)</th>\n",
       "      <th>Gaming DL (Bytes)</th>\n",
       "      <th>Gaming UL (Bytes)</th>\n",
       "      <th>Other DL (Bytes)</th>\n",
       "      <th>Other UL (Bytes)</th>\n",
       "      <th>Total UL (Bytes)</th>\n",
       "      <th>Total DL (Bytes)</th>\n",
       "    </tr>\n",
       "  </thead>\n",
       "  <tbody>\n",
       "    <tr>\n",
       "      <th>0</th>\n",
       "      <td>1.311450e+19</td>\n",
       "      <td>4/4/2019 12:01</td>\n",
       "      <td>770.0000</td>\n",
       "      <td>4/25/2019 14:35</td>\n",
       "      <td>662.00000</td>\n",
       "      <td>1.823652e+06</td>\n",
       "      <td>2.082010e+14</td>\n",
       "      <td>3.366496e+10</td>\n",
       "      <td>3.552120e+13</td>\n",
       "      <td>9.16457E+15</td>\n",
       "      <td>...</td>\n",
       "      <td>15854611.0</td>\n",
       "      <td>2501332.00</td>\n",
       "      <td>8198936.00</td>\n",
       "      <td>9656251.00</td>\n",
       "      <td>278082303.0</td>\n",
       "      <td>1.434415e+07</td>\n",
       "      <td>171744450.0</td>\n",
       "      <td>8.814393e+06</td>\n",
       "      <td>3.674974e+07</td>\n",
       "      <td>3.088796e+08</td>\n",
       "    </tr>\n",
       "    <tr>\n",
       "      <th>1</th>\n",
       "      <td>1.311450e+19</td>\n",
       "      <td>4/9/2019 13:04</td>\n",
       "      <td>235.0000</td>\n",
       "      <td>4/25/2019 08:15</td>\n",
       "      <td>606.00000</td>\n",
       "      <td>1.365104e+06</td>\n",
       "      <td>2.082020e+14</td>\n",
       "      <td>3.368185e+10</td>\n",
       "      <td>3.579400e+13</td>\n",
       "      <td>L77566A</td>\n",
       "      <td>...</td>\n",
       "      <td>20247395.0</td>\n",
       "      <td>19111729.00</td>\n",
       "      <td>18338413.00</td>\n",
       "      <td>17227132.00</td>\n",
       "      <td>608750074.0</td>\n",
       "      <td>1.170709e+06</td>\n",
       "      <td>526904238.0</td>\n",
       "      <td>1.505514e+07</td>\n",
       "      <td>5.380039e+07</td>\n",
       "      <td>6.533850e+08</td>\n",
       "    </tr>\n",
       "    <tr>\n",
       "      <th>2</th>\n",
       "      <td>1.311450e+19</td>\n",
       "      <td>4/9/2019 17:42</td>\n",
       "      <td>1.0000</td>\n",
       "      <td>4/25/2019 11:58</td>\n",
       "      <td>652.00000</td>\n",
       "      <td>1.361762e+06</td>\n",
       "      <td>2.082000e+14</td>\n",
       "      <td>3.376063e+10</td>\n",
       "      <td>3.528150e+13</td>\n",
       "      <td>D42335A</td>\n",
       "      <td>...</td>\n",
       "      <td>19725661.0</td>\n",
       "      <td>14699576.00</td>\n",
       "      <td>17587794.00</td>\n",
       "      <td>6163408.00</td>\n",
       "      <td>229584621.0</td>\n",
       "      <td>3.956300e+05</td>\n",
       "      <td>410692588.0</td>\n",
       "      <td>4.215763e+06</td>\n",
       "      <td>2.788364e+07</td>\n",
       "      <td>2.798073e+08</td>\n",
       "    </tr>\n",
       "    <tr>\n",
       "      <th>3</th>\n",
       "      <td>1.311450e+19</td>\n",
       "      <td>4/10/2019 00:31</td>\n",
       "      <td>486.0000</td>\n",
       "      <td>4/25/2019 07:36</td>\n",
       "      <td>171.00000</td>\n",
       "      <td>1.321509e+06</td>\n",
       "      <td>2.082010e+14</td>\n",
       "      <td>3.375034e+10</td>\n",
       "      <td>3.535660e+13</td>\n",
       "      <td>T21824A</td>\n",
       "      <td>...</td>\n",
       "      <td>21388122.0</td>\n",
       "      <td>15146643.00</td>\n",
       "      <td>13994646.00</td>\n",
       "      <td>1097942.00</td>\n",
       "      <td>799538153.0</td>\n",
       "      <td>1.084972e+07</td>\n",
       "      <td>749039933.0</td>\n",
       "      <td>1.279728e+07</td>\n",
       "      <td>4.332422e+07</td>\n",
       "      <td>8.460285e+08</td>\n",
       "    </tr>\n",
       "    <tr>\n",
       "      <th>4</th>\n",
       "      <td>1.311450e+19</td>\n",
       "      <td>4/12/2019 20:10</td>\n",
       "      <td>565.0000</td>\n",
       "      <td>4/25/2019 10:40</td>\n",
       "      <td>954.00000</td>\n",
       "      <td>1.089009e+06</td>\n",
       "      <td>2.082010e+14</td>\n",
       "      <td>3.369980e+10</td>\n",
       "      <td>3.540700e+13</td>\n",
       "      <td>D88865A</td>\n",
       "      <td>...</td>\n",
       "      <td>15259380.0</td>\n",
       "      <td>18962873.00</td>\n",
       "      <td>17124581.00</td>\n",
       "      <td>415218.00</td>\n",
       "      <td>527707248.0</td>\n",
       "      <td>3.529801e+06</td>\n",
       "      <td>550709500.0</td>\n",
       "      <td>1.391032e+07</td>\n",
       "      <td>3.854281e+07</td>\n",
       "      <td>5.691386e+08</td>\n",
       "    </tr>\n",
       "    <tr>\n",
       "      <th>...</th>\n",
       "      <td>...</td>\n",
       "      <td>...</td>\n",
       "      <td>...</td>\n",
       "      <td>...</td>\n",
       "      <td>...</td>\n",
       "      <td>...</td>\n",
       "      <td>...</td>\n",
       "      <td>...</td>\n",
       "      <td>...</td>\n",
       "      <td>...</td>\n",
       "      <td>...</td>\n",
       "      <td>...</td>\n",
       "      <td>...</td>\n",
       "      <td>...</td>\n",
       "      <td>...</td>\n",
       "      <td>...</td>\n",
       "      <td>...</td>\n",
       "      <td>...</td>\n",
       "      <td>...</td>\n",
       "      <td>...</td>\n",
       "      <td>...</td>\n",
       "    </tr>\n",
       "    <tr>\n",
       "      <th>149996</th>\n",
       "      <td>7.277830e+18</td>\n",
       "      <td>4/29/2019 07:28</td>\n",
       "      <td>451.0000</td>\n",
       "      <td>4/30/2019 06:02</td>\n",
       "      <td>214.00000</td>\n",
       "      <td>8.123000e+04</td>\n",
       "      <td>2.082020e+14</td>\n",
       "      <td>3.365069e+10</td>\n",
       "      <td>3.548310e+13</td>\n",
       "      <td>D20434A</td>\n",
       "      <td>...</td>\n",
       "      <td>16191667.0</td>\n",
       "      <td>11763428.00</td>\n",
       "      <td>17883703.00</td>\n",
       "      <td>19678161.00</td>\n",
       "      <td>526609673.0</td>\n",
       "      <td>9.197207e+06</td>\n",
       "      <td>3264510.0</td>\n",
       "      <td>1.348742e+07</td>\n",
       "      <td>5.762885e+07</td>\n",
       "      <td>5.741753e+08</td>\n",
       "    </tr>\n",
       "    <tr>\n",
       "      <th>149997</th>\n",
       "      <td>7.349880e+18</td>\n",
       "      <td>4/29/2019 07:28</td>\n",
       "      <td>483.0000</td>\n",
       "      <td>4/30/2019 10:41</td>\n",
       "      <td>187.00000</td>\n",
       "      <td>9.797000e+04</td>\n",
       "      <td>2.082020e+14</td>\n",
       "      <td>3.366345e+10</td>\n",
       "      <td>3.566050e+13</td>\n",
       "      <td>D10223C</td>\n",
       "      <td>...</td>\n",
       "      <td>13877234.0</td>\n",
       "      <td>8288284.00</td>\n",
       "      <td>19350146.00</td>\n",
       "      <td>21293148.00</td>\n",
       "      <td>626893062.0</td>\n",
       "      <td>4.735033e+06</td>\n",
       "      <td>712180387.0</td>\n",
       "      <td>2.457758e+06</td>\n",
       "      <td>3.913508e+07</td>\n",
       "      <td>6.666488e+08</td>\n",
       "    </tr>\n",
       "    <tr>\n",
       "      <th>149998</th>\n",
       "      <td>1.311450e+19</td>\n",
       "      <td>4/29/2019 07:28</td>\n",
       "      <td>283.0000</td>\n",
       "      <td>4/30/2019 10:46</td>\n",
       "      <td>810.00000</td>\n",
       "      <td>9.824900e+04</td>\n",
       "      <td>2.082020e+14</td>\n",
       "      <td>3.362189e+10</td>\n",
       "      <td>3.572120e+13</td>\n",
       "      <td>T51102A</td>\n",
       "      <td>...</td>\n",
       "      <td>22660510.0</td>\n",
       "      <td>1855903.00</td>\n",
       "      <td>9963942.00</td>\n",
       "      <td>5065760.00</td>\n",
       "      <td>553539484.0</td>\n",
       "      <td>1.339432e+07</td>\n",
       "      <td>121100856.0</td>\n",
       "      <td>1.131473e+07</td>\n",
       "      <td>3.491222e+07</td>\n",
       "      <td>5.927864e+08</td>\n",
       "    </tr>\n",
       "    <tr>\n",
       "      <th>149999</th>\n",
       "      <td>1.311450e+19</td>\n",
       "      <td>4/29/2019 07:28</td>\n",
       "      <td>696.0000</td>\n",
       "      <td>4/30/2019 10:40</td>\n",
       "      <td>327.00000</td>\n",
       "      <td>9.791000e+04</td>\n",
       "      <td>2.082020e+14</td>\n",
       "      <td>3.361962e+10</td>\n",
       "      <td>8.618620e+13</td>\n",
       "      <td>L88342B</td>\n",
       "      <td>...</td>\n",
       "      <td>8817106.0</td>\n",
       "      <td>8305402.00</td>\n",
       "      <td>3322253.00</td>\n",
       "      <td>13172589.00</td>\n",
       "      <td>352536971.0</td>\n",
       "      <td>2.529475e+06</td>\n",
       "      <td>814713113.0</td>\n",
       "      <td>1.406930e+06</td>\n",
       "      <td>2.962610e+07</td>\n",
       "      <td>3.718959e+08</td>\n",
       "    </tr>\n",
       "    <tr>\n",
       "      <th>150000</th>\n",
       "      <td>1.013887e+19</td>\n",
       "      <td>NaN</td>\n",
       "      <td>499.1882</td>\n",
       "      <td>NaN</td>\n",
       "      <td>498.80088</td>\n",
       "      <td>1.046086e+05</td>\n",
       "      <td>2.082017e+14</td>\n",
       "      <td>4.188282e+10</td>\n",
       "      <td>4.847454e+13</td>\n",
       "      <td>NaN</td>\n",
       "      <td>...</td>\n",
       "      <td>11634072.5</td>\n",
       "      <td>11009410.13</td>\n",
       "      <td>11626851.72</td>\n",
       "      <td>11001754.82</td>\n",
       "      <td>422044702.6</td>\n",
       "      <td>8.288398e+06</td>\n",
       "      <td>421100544.2</td>\n",
       "      <td>8.264799e+06</td>\n",
       "      <td>4.112121e+07</td>\n",
       "      <td>4.546434e+08</td>\n",
       "    </tr>\n",
       "  </tbody>\n",
       "</table>\n",
       "<p>150001 rows × 55 columns</p>\n",
       "</div>"
      ],
      "text/plain": [
       "           Bearer Id            Start  Start ms              End     End ms  \\\n",
       "0       1.311450e+19   4/4/2019 12:01  770.0000  4/25/2019 14:35  662.00000   \n",
       "1       1.311450e+19   4/9/2019 13:04  235.0000  4/25/2019 08:15  606.00000   \n",
       "2       1.311450e+19   4/9/2019 17:42    1.0000  4/25/2019 11:58  652.00000   \n",
       "3       1.311450e+19  4/10/2019 00:31  486.0000  4/25/2019 07:36  171.00000   \n",
       "4       1.311450e+19  4/12/2019 20:10  565.0000  4/25/2019 10:40  954.00000   \n",
       "...              ...              ...       ...              ...        ...   \n",
       "149996  7.277830e+18  4/29/2019 07:28  451.0000  4/30/2019 06:02  214.00000   \n",
       "149997  7.349880e+18  4/29/2019 07:28  483.0000  4/30/2019 10:41  187.00000   \n",
       "149998  1.311450e+19  4/29/2019 07:28  283.0000  4/30/2019 10:46  810.00000   \n",
       "149999  1.311450e+19  4/29/2019 07:28  696.0000  4/30/2019 10:40  327.00000   \n",
       "150000  1.013887e+19              NaN  499.1882              NaN  498.80088   \n",
       "\n",
       "           Dur. (ms)          IMSI  MSISDN/Number          IMEI  \\\n",
       "0       1.823652e+06  2.082010e+14   3.366496e+10  3.552120e+13   \n",
       "1       1.365104e+06  2.082020e+14   3.368185e+10  3.579400e+13   \n",
       "2       1.361762e+06  2.082000e+14   3.376063e+10  3.528150e+13   \n",
       "3       1.321509e+06  2.082010e+14   3.375034e+10  3.535660e+13   \n",
       "4       1.089009e+06  2.082010e+14   3.369980e+10  3.540700e+13   \n",
       "...              ...           ...            ...           ...   \n",
       "149996  8.123000e+04  2.082020e+14   3.365069e+10  3.548310e+13   \n",
       "149997  9.797000e+04  2.082020e+14   3.366345e+10  3.566050e+13   \n",
       "149998  9.824900e+04  2.082020e+14   3.362189e+10  3.572120e+13   \n",
       "149999  9.791000e+04  2.082020e+14   3.361962e+10  8.618620e+13   \n",
       "150000  1.046086e+05  2.082017e+14   4.188282e+10  4.847454e+13   \n",
       "\n",
       "       Last Location Name  ...  Youtube DL (Bytes)  Youtube UL (Bytes)  \\\n",
       "0             9.16457E+15  ...          15854611.0          2501332.00   \n",
       "1                 L77566A  ...          20247395.0         19111729.00   \n",
       "2                 D42335A  ...          19725661.0         14699576.00   \n",
       "3                 T21824A  ...          21388122.0         15146643.00   \n",
       "4                 D88865A  ...          15259380.0         18962873.00   \n",
       "...                   ...  ...                 ...                 ...   \n",
       "149996            D20434A  ...          16191667.0         11763428.00   \n",
       "149997            D10223C  ...          13877234.0          8288284.00   \n",
       "149998            T51102A  ...          22660510.0          1855903.00   \n",
       "149999            L88342B  ...           8817106.0          8305402.00   \n",
       "150000                NaN  ...          11634072.5         11009410.13   \n",
       "\n",
       "        Netflix DL (Bytes)  Netflix UL (Bytes)  Gaming DL (Bytes)  \\\n",
       "0               8198936.00          9656251.00        278082303.0   \n",
       "1              18338413.00         17227132.00        608750074.0   \n",
       "2              17587794.00          6163408.00        229584621.0   \n",
       "3              13994646.00          1097942.00        799538153.0   \n",
       "4              17124581.00           415218.00        527707248.0   \n",
       "...                    ...                 ...                ...   \n",
       "149996         17883703.00         19678161.00        526609673.0   \n",
       "149997         19350146.00         21293148.00        626893062.0   \n",
       "149998          9963942.00          5065760.00        553539484.0   \n",
       "149999          3322253.00         13172589.00        352536971.0   \n",
       "150000         11626851.72         11001754.82        422044702.6   \n",
       "\n",
       "        Gaming UL (Bytes)  Other DL (Bytes)  Other UL (Bytes)  \\\n",
       "0            1.434415e+07       171744450.0      8.814393e+06   \n",
       "1            1.170709e+06       526904238.0      1.505514e+07   \n",
       "2            3.956300e+05       410692588.0      4.215763e+06   \n",
       "3            1.084972e+07       749039933.0      1.279728e+07   \n",
       "4            3.529801e+06       550709500.0      1.391032e+07   \n",
       "...                   ...               ...               ...   \n",
       "149996       9.197207e+06         3264510.0      1.348742e+07   \n",
       "149997       4.735033e+06       712180387.0      2.457758e+06   \n",
       "149998       1.339432e+07       121100856.0      1.131473e+07   \n",
       "149999       2.529475e+06       814713113.0      1.406930e+06   \n",
       "150000       8.288398e+06       421100544.2      8.264799e+06   \n",
       "\n",
       "        Total UL (Bytes)  Total DL (Bytes)  \n",
       "0           3.674974e+07      3.088796e+08  \n",
       "1           5.380039e+07      6.533850e+08  \n",
       "2           2.788364e+07      2.798073e+08  \n",
       "3           4.332422e+07      8.460285e+08  \n",
       "4           3.854281e+07      5.691386e+08  \n",
       "...                  ...               ...  \n",
       "149996      5.762885e+07      5.741753e+08  \n",
       "149997      3.913508e+07      6.666488e+08  \n",
       "149998      3.491222e+07      5.927864e+08  \n",
       "149999      2.962610e+07      3.718959e+08  \n",
       "150000      4.112121e+07      4.546434e+08  \n",
       "\n",
       "[150001 rows x 55 columns]"
      ]
     },
     "execution_count": 60,
     "metadata": {},
     "output_type": "execute_result"
    }
   ],
   "source": [
    "data_source = data_source.fillna(data_source.mean())\n",
    "data_source"
   ]
  },
  {
   "cell_type": "code",
   "execution_count": 61,
   "metadata": {},
   "outputs": [
    {
     "data": {
      "text/html": [
       "<div>\n",
       "<style scoped>\n",
       "    .dataframe tbody tr th:only-of-type {\n",
       "        vertical-align: middle;\n",
       "    }\n",
       "\n",
       "    .dataframe tbody tr th {\n",
       "        vertical-align: top;\n",
       "    }\n",
       "\n",
       "    .dataframe thead th {\n",
       "        text-align: right;\n",
       "    }\n",
       "</style>\n",
       "<table border=\"1\" class=\"dataframe\">\n",
       "  <thead>\n",
       "    <tr style=\"text-align: right;\">\n",
       "      <th></th>\n",
       "      <th>Bearer Id</th>\n",
       "      <th>Start ms</th>\n",
       "      <th>End ms</th>\n",
       "      <th>Dur. (ms)</th>\n",
       "      <th>IMSI</th>\n",
       "      <th>MSISDN/Number</th>\n",
       "      <th>IMEI</th>\n",
       "      <th>Avg RTT DL (ms)</th>\n",
       "      <th>Avg RTT UL (ms)</th>\n",
       "      <th>Avg Bearer TP DL (kbps)</th>\n",
       "      <th>...</th>\n",
       "      <th>Youtube DL (Bytes)</th>\n",
       "      <th>Youtube UL (Bytes)</th>\n",
       "      <th>Netflix DL (Bytes)</th>\n",
       "      <th>Netflix UL (Bytes)</th>\n",
       "      <th>Gaming DL (Bytes)</th>\n",
       "      <th>Gaming UL (Bytes)</th>\n",
       "      <th>Other DL (Bytes)</th>\n",
       "      <th>Other UL (Bytes)</th>\n",
       "      <th>Total UL (Bytes)</th>\n",
       "      <th>Total DL (Bytes)</th>\n",
       "    </tr>\n",
       "  </thead>\n",
       "  <tbody>\n",
       "    <tr>\n",
       "      <th>count</th>\n",
       "      <td>1.500010e+05</td>\n",
       "      <td>150001.000000</td>\n",
       "      <td>150001.000000</td>\n",
       "      <td>1.500010e+05</td>\n",
       "      <td>1.500010e+05</td>\n",
       "      <td>1.500010e+05</td>\n",
       "      <td>1.500010e+05</td>\n",
       "      <td>150001.000000</td>\n",
       "      <td>150001.000000</td>\n",
       "      <td>150001.000000</td>\n",
       "      <td>...</td>\n",
       "      <td>1.500010e+05</td>\n",
       "      <td>1.500010e+05</td>\n",
       "      <td>1.500010e+05</td>\n",
       "      <td>1.500010e+05</td>\n",
       "      <td>1.500010e+05</td>\n",
       "      <td>1.500010e+05</td>\n",
       "      <td>1.500010e+05</td>\n",
       "      <td>1.500010e+05</td>\n",
       "      <td>1.500010e+05</td>\n",
       "      <td>1.500010e+05</td>\n",
       "    </tr>\n",
       "    <tr>\n",
       "      <th>mean</th>\n",
       "      <td>1.013887e+19</td>\n",
       "      <td>499.188200</td>\n",
       "      <td>498.800880</td>\n",
       "      <td>1.046086e+05</td>\n",
       "      <td>2.082017e+14</td>\n",
       "      <td>4.188282e+10</td>\n",
       "      <td>4.847454e+13</td>\n",
       "      <td>109.795706</td>\n",
       "      <td>17.662883</td>\n",
       "      <td>13300.045927</td>\n",
       "      <td>...</td>\n",
       "      <td>1.163407e+07</td>\n",
       "      <td>1.100941e+07</td>\n",
       "      <td>1.162685e+07</td>\n",
       "      <td>1.100175e+07</td>\n",
       "      <td>4.220447e+08</td>\n",
       "      <td>8.288398e+06</td>\n",
       "      <td>4.211005e+08</td>\n",
       "      <td>8.264799e+06</td>\n",
       "      <td>4.112121e+07</td>\n",
       "      <td>4.546434e+08</td>\n",
       "    </tr>\n",
       "    <tr>\n",
       "      <th>std</th>\n",
       "      <td>2.883597e+18</td>\n",
       "      <td>288.610872</td>\n",
       "      <td>288.096693</td>\n",
       "      <td>8.103735e+04</td>\n",
       "      <td>2.145201e+10</td>\n",
       "      <td>2.438731e+12</td>\n",
       "      <td>2.237359e+13</td>\n",
       "      <td>559.342620</td>\n",
       "      <td>76.529933</td>\n",
       "      <td>23971.798635</td>\n",
       "      <td>...</td>\n",
       "      <td>6.710569e+06</td>\n",
       "      <td>6.345423e+06</td>\n",
       "      <td>6.725218e+06</td>\n",
       "      <td>6.359490e+06</td>\n",
       "      <td>2.439675e+08</td>\n",
       "      <td>4.782700e+06</td>\n",
       "      <td>2.432050e+08</td>\n",
       "      <td>4.769004e+06</td>\n",
       "      <td>1.127635e+07</td>\n",
       "      <td>2.441421e+08</td>\n",
       "    </tr>\n",
       "    <tr>\n",
       "      <th>min</th>\n",
       "      <td>6.917540e+18</td>\n",
       "      <td>0.000000</td>\n",
       "      <td>0.000000</td>\n",
       "      <td>7.142000e+03</td>\n",
       "      <td>2.040470e+14</td>\n",
       "      <td>3.360100e+10</td>\n",
       "      <td>4.400150e+11</td>\n",
       "      <td>0.000000</td>\n",
       "      <td>0.000000</td>\n",
       "      <td>0.000000</td>\n",
       "      <td>...</td>\n",
       "      <td>5.300000e+01</td>\n",
       "      <td>1.050000e+02</td>\n",
       "      <td>4.200000e+01</td>\n",
       "      <td>3.500000e+01</td>\n",
       "      <td>2.516000e+03</td>\n",
       "      <td>5.900000e+01</td>\n",
       "      <td>3.290000e+03</td>\n",
       "      <td>1.480000e+02</td>\n",
       "      <td>2.866892e+06</td>\n",
       "      <td>7.114041e+06</td>\n",
       "    </tr>\n",
       "    <tr>\n",
       "      <th>25%</th>\n",
       "      <td>7.349880e+18</td>\n",
       "      <td>250.000000</td>\n",
       "      <td>251.000000</td>\n",
       "      <td>5.744200e+04</td>\n",
       "      <td>2.082010e+14</td>\n",
       "      <td>3.365151e+10</td>\n",
       "      <td>3.546260e+13</td>\n",
       "      <td>35.000000</td>\n",
       "      <td>3.000000</td>\n",
       "      <td>43.000000</td>\n",
       "      <td>...</td>\n",
       "      <td>5.833501e+06</td>\n",
       "      <td>5.517965e+06</td>\n",
       "      <td>5.777156e+06</td>\n",
       "      <td>5.475981e+06</td>\n",
       "      <td>2.104733e+08</td>\n",
       "      <td>4.128476e+06</td>\n",
       "      <td>2.101869e+08</td>\n",
       "      <td>4.145943e+06</td>\n",
       "      <td>3.322203e+07</td>\n",
       "      <td>2.431072e+08</td>\n",
       "    </tr>\n",
       "    <tr>\n",
       "      <th>50%</th>\n",
       "      <td>7.349880e+18</td>\n",
       "      <td>499.000000</td>\n",
       "      <td>500.000000</td>\n",
       "      <td>8.639900e+04</td>\n",
       "      <td>2.082020e+14</td>\n",
       "      <td>3.366380e+10</td>\n",
       "      <td>3.572240e+13</td>\n",
       "      <td>54.000000</td>\n",
       "      <td>7.000000</td>\n",
       "      <td>63.000000</td>\n",
       "      <td>...</td>\n",
       "      <td>1.161602e+07</td>\n",
       "      <td>1.101345e+07</td>\n",
       "      <td>1.164222e+07</td>\n",
       "      <td>1.099638e+07</td>\n",
       "      <td>4.234081e+08</td>\n",
       "      <td>8.291208e+06</td>\n",
       "      <td>4.218030e+08</td>\n",
       "      <td>8.267071e+06</td>\n",
       "      <td>4.114324e+07</td>\n",
       "      <td>4.558409e+08</td>\n",
       "    </tr>\n",
       "    <tr>\n",
       "      <th>75%</th>\n",
       "      <td>1.304240e+19</td>\n",
       "      <td>749.000000</td>\n",
       "      <td>750.000000</td>\n",
       "      <td>1.324300e+05</td>\n",
       "      <td>2.082020e+14</td>\n",
       "      <td>3.368473e+10</td>\n",
       "      <td>8.611970e+13</td>\n",
       "      <td>109.795706</td>\n",
       "      <td>17.662883</td>\n",
       "      <td>19710.000000</td>\n",
       "      <td>...</td>\n",
       "      <td>1.744852e+07</td>\n",
       "      <td>1.651556e+07</td>\n",
       "      <td>1.747048e+07</td>\n",
       "      <td>1.650727e+07</td>\n",
       "      <td>6.331742e+08</td>\n",
       "      <td>1.243162e+07</td>\n",
       "      <td>6.316918e+08</td>\n",
       "      <td>1.238415e+07</td>\n",
       "      <td>4.903424e+07</td>\n",
       "      <td>6.657051e+08</td>\n",
       "    </tr>\n",
       "    <tr>\n",
       "      <th>max</th>\n",
       "      <td>1.318650e+19</td>\n",
       "      <td>999.000000</td>\n",
       "      <td>999.000000</td>\n",
       "      <td>1.859336e+06</td>\n",
       "      <td>2.140740e+14</td>\n",
       "      <td>8.823970e+14</td>\n",
       "      <td>9.900120e+13</td>\n",
       "      <td>96923.000000</td>\n",
       "      <td>7120.000000</td>\n",
       "      <td>378160.000000</td>\n",
       "      <td>...</td>\n",
       "      <td>2.325910e+07</td>\n",
       "      <td>2.201196e+07</td>\n",
       "      <td>2.325919e+07</td>\n",
       "      <td>2.201196e+07</td>\n",
       "      <td>8.434419e+08</td>\n",
       "      <td>1.655879e+07</td>\n",
       "      <td>8.434425e+08</td>\n",
       "      <td>1.655882e+07</td>\n",
       "      <td>7.833131e+07</td>\n",
       "      <td>9.029696e+08</td>\n",
       "    </tr>\n",
       "  </tbody>\n",
       "</table>\n",
       "<p>8 rows × 50 columns</p>\n",
       "</div>"
      ],
      "text/plain": [
       "          Bearer Id       Start ms         End ms     Dur. (ms)          IMSI  \\\n",
       "count  1.500010e+05  150001.000000  150001.000000  1.500010e+05  1.500010e+05   \n",
       "mean   1.013887e+19     499.188200     498.800880  1.046086e+05  2.082017e+14   \n",
       "std    2.883597e+18     288.610872     288.096693  8.103735e+04  2.145201e+10   \n",
       "min    6.917540e+18       0.000000       0.000000  7.142000e+03  2.040470e+14   \n",
       "25%    7.349880e+18     250.000000     251.000000  5.744200e+04  2.082010e+14   \n",
       "50%    7.349880e+18     499.000000     500.000000  8.639900e+04  2.082020e+14   \n",
       "75%    1.304240e+19     749.000000     750.000000  1.324300e+05  2.082020e+14   \n",
       "max    1.318650e+19     999.000000     999.000000  1.859336e+06  2.140740e+14   \n",
       "\n",
       "       MSISDN/Number          IMEI  Avg RTT DL (ms)  Avg RTT UL (ms)  \\\n",
       "count   1.500010e+05  1.500010e+05    150001.000000    150001.000000   \n",
       "mean    4.188282e+10  4.847454e+13       109.795706        17.662883   \n",
       "std     2.438731e+12  2.237359e+13       559.342620        76.529933   \n",
       "min     3.360100e+10  4.400150e+11         0.000000         0.000000   \n",
       "25%     3.365151e+10  3.546260e+13        35.000000         3.000000   \n",
       "50%     3.366380e+10  3.572240e+13        54.000000         7.000000   \n",
       "75%     3.368473e+10  8.611970e+13       109.795706        17.662883   \n",
       "max     8.823970e+14  9.900120e+13     96923.000000      7120.000000   \n",
       "\n",
       "       Avg Bearer TP DL (kbps)  ...  Youtube DL (Bytes)  Youtube UL (Bytes)  \\\n",
       "count            150001.000000  ...        1.500010e+05        1.500010e+05   \n",
       "mean              13300.045927  ...        1.163407e+07        1.100941e+07   \n",
       "std               23971.798635  ...        6.710569e+06        6.345423e+06   \n",
       "min                   0.000000  ...        5.300000e+01        1.050000e+02   \n",
       "25%                  43.000000  ...        5.833501e+06        5.517965e+06   \n",
       "50%                  63.000000  ...        1.161602e+07        1.101345e+07   \n",
       "75%               19710.000000  ...        1.744852e+07        1.651556e+07   \n",
       "max              378160.000000  ...        2.325910e+07        2.201196e+07   \n",
       "\n",
       "       Netflix DL (Bytes)  Netflix UL (Bytes)  Gaming DL (Bytes)  \\\n",
       "count        1.500010e+05        1.500010e+05       1.500010e+05   \n",
       "mean         1.162685e+07        1.100175e+07       4.220447e+08   \n",
       "std          6.725218e+06        6.359490e+06       2.439675e+08   \n",
       "min          4.200000e+01        3.500000e+01       2.516000e+03   \n",
       "25%          5.777156e+06        5.475981e+06       2.104733e+08   \n",
       "50%          1.164222e+07        1.099638e+07       4.234081e+08   \n",
       "75%          1.747048e+07        1.650727e+07       6.331742e+08   \n",
       "max          2.325919e+07        2.201196e+07       8.434419e+08   \n",
       "\n",
       "       Gaming UL (Bytes)  Other DL (Bytes)  Other UL (Bytes)  \\\n",
       "count       1.500010e+05      1.500010e+05      1.500010e+05   \n",
       "mean        8.288398e+06      4.211005e+08      8.264799e+06   \n",
       "std         4.782700e+06      2.432050e+08      4.769004e+06   \n",
       "min         5.900000e+01      3.290000e+03      1.480000e+02   \n",
       "25%         4.128476e+06      2.101869e+08      4.145943e+06   \n",
       "50%         8.291208e+06      4.218030e+08      8.267071e+06   \n",
       "75%         1.243162e+07      6.316918e+08      1.238415e+07   \n",
       "max         1.655879e+07      8.434425e+08      1.655882e+07   \n",
       "\n",
       "       Total UL (Bytes)  Total DL (Bytes)  \n",
       "count      1.500010e+05      1.500010e+05  \n",
       "mean       4.112121e+07      4.546434e+08  \n",
       "std        1.127635e+07      2.441421e+08  \n",
       "min        2.866892e+06      7.114041e+06  \n",
       "25%        3.322203e+07      2.431072e+08  \n",
       "50%        4.114324e+07      4.558409e+08  \n",
       "75%        4.903424e+07      6.657051e+08  \n",
       "max        7.833131e+07      9.029696e+08  \n",
       "\n",
       "[8 rows x 50 columns]"
      ]
     },
     "execution_count": 61,
     "metadata": {},
     "output_type": "execute_result"
    }
   ],
   "source": [
    "data_source.describe()"
   ]
  },
  {
   "cell_type": "markdown",
   "metadata": {},
   "source": [
    "Conducting a Non-Graphical Univariate Analysis by computing position & dispersion parameters for each quantitative variable and providing useful interpretations respectively"
   ]
  },
  {
   "cell_type": "code",
   "execution_count": 70,
   "metadata": {},
   "outputs": [
    {
     "data": {
      "text/plain": [
       "Bearer Id                                   5.692520e+18\n",
       "Start ms                                    4.990000e+02\n",
       "End ms                                      4.990000e+02\n",
       "Dur. (ms)                                   7.498800e+04\n",
       "IMSI                                        1.000000e+09\n",
       "MSISDN/Number                               3.322217e+07\n",
       "IMEI                                        5.065710e+13\n",
       "Avg RTT DL (ms)                             7.479571e+01\n",
       "Avg RTT UL (ms)                             1.466288e+01\n",
       "Avg Bearer TP DL (kbps)                     1.966700e+04\n",
       "Avg Bearer TP UL (kbps)                     1.073000e+03\n",
       "TCP DL Retrans. Vol (Bytes)                 1.947698e+07\n",
       "TCP UL Retrans. Vol (Bytes)                 6.966497e+05\n",
       "DL TP < 50 Kbps (%)                         9.000000e+00\n",
       "50 Kbps < DL TP < 250 Kbps (%)              4.000000e+00\n",
       "250 Kbps < DL TP < 1 Mbps (%)               1.000000e+00\n",
       "DL TP > 1 Mbps (%)                          1.000000e+00\n",
       "UL TP < 10 Kbps (%)                         1.000000e+00\n",
       "10 Kbps < UL TP < 50 Kbps (%)               0.000000e+00\n",
       "50 Kbps < UL TP < 300 Kbps (%)              0.000000e+00\n",
       "UL TP > 300 Kbps (%)                        0.000000e+00\n",
       "HTTP DL (Bytes)                             1.114421e+08\n",
       "HTTP UL (Bytes)                             2.906285e+06\n",
       "Activity Duration DL (ms)                   6.647330e+05\n",
       "Activity Duration UL (ms)                   5.775740e+05\n",
       "Dur. (ms).1                                 7.498863e+07\n",
       "Nb of sec with 125000B < Vol DL             4.567000e+02\n",
       "Nb of sec with 1250B < Vol UL < 6250B       2.194344e+02\n",
       "Nb of sec with 31250B < Vol DL < 125000B    3.578374e+02\n",
       "Nb of sec with 37500B < Vol UL              0.000000e+00\n",
       "Nb of sec with 6250B < Vol DL < 31250B      4.384648e+02\n",
       "Nb of sec with 6250B < Vol UL < 37500B      0.000000e+00\n",
       "Nb of sec with Vol DL < 6250B               2.677000e+03\n",
       "Nb of sec with Vol UL < 1250B               2.453000e+03\n",
       "Social Media DL (Bytes)                     1.795790e+06\n",
       "Social Media UL (Bytes)                     3.288600e+04\n",
       "Google DL (Bytes)                           5.741159e+06\n",
       "Google UL (Bytes)                           2.064175e+06\n",
       "Email DL (Bytes)                            1.796534e+06\n",
       "Email UL (Bytes)                            4.670570e+05\n",
       "Youtube DL (Bytes)                          1.161502e+07\n",
       "Youtube UL (Bytes)                          1.099760e+07\n",
       "Netflix DL (Bytes)                          1.169332e+07\n",
       "Netflix UL (Bytes)                          1.103129e+07\n",
       "Gaming DL (Bytes)                           4.227009e+08\n",
       "Gaming UL (Bytes)                           8.303148e+06\n",
       "Other DL (Bytes)                            4.215049e+08\n",
       "Other UL (Bytes)                            8.238205e+06\n",
       "Total UL (Bytes)                            1.581221e+07\n",
       "Total DL (Bytes)                            4.225980e+08\n",
       "dtype: float64"
      ]
     },
     "execution_count": 70,
     "metadata": {},
     "output_type": "execute_result"
    }
   ],
   "source": [
    "first_quartile = data_source.quantile(0.25)\n",
    "third_quartile = data_source.quantile(0.75)\n",
    "\n",
    "interquartile_range = third_quartile - first_quartile\n",
    "interquartile_range"
   ]
  },
  {
   "cell_type": "markdown",
   "metadata": {},
   "source": [
    "Session Duration"
   ]
  },
  {
   "cell_type": "code",
   "execution_count": 68,
   "metadata": {},
   "outputs": [
    {
     "data": {
      "text/html": [
       "<div>\n",
       "<style scoped>\n",
       "    .dataframe tbody tr th:only-of-type {\n",
       "        vertical-align: middle;\n",
       "    }\n",
       "\n",
       "    .dataframe tbody tr th {\n",
       "        vertical-align: top;\n",
       "    }\n",
       "\n",
       "    .dataframe thead th {\n",
       "        text-align: right;\n",
       "    }\n",
       "</style>\n",
       "<table border=\"1\" class=\"dataframe\">\n",
       "  <thead>\n",
       "    <tr style=\"text-align: right;\">\n",
       "      <th></th>\n",
       "      <th>Dur. (ms)</th>\n",
       "    </tr>\n",
       "    <tr>\n",
       "      <th>MSISDN/Number</th>\n",
       "      <th></th>\n",
       "    </tr>\n",
       "  </thead>\n",
       "  <tbody>\n",
       "    <tr>\n",
       "      <th>3.360100e+10</th>\n",
       "      <td>116720.0</td>\n",
       "    </tr>\n",
       "    <tr>\n",
       "      <th>3.360100e+10</th>\n",
       "      <td>181230.0</td>\n",
       "    </tr>\n",
       "    <tr>\n",
       "      <th>3.360100e+10</th>\n",
       "      <td>134969.0</td>\n",
       "    </tr>\n",
       "    <tr>\n",
       "      <th>3.360101e+10</th>\n",
       "      <td>49878.0</td>\n",
       "    </tr>\n",
       "    <tr>\n",
       "      <th>3.360101e+10</th>\n",
       "      <td>37104.0</td>\n",
       "    </tr>\n",
       "  </tbody>\n",
       "</table>\n",
       "</div>"
      ],
      "text/plain": [
       "               Dur. (ms)\n",
       "MSISDN/Number           \n",
       "3.360100e+10    116720.0\n",
       "3.360100e+10    181230.0\n",
       "3.360100e+10    134969.0\n",
       "3.360101e+10     49878.0\n",
       "3.360101e+10     37104.0"
      ]
     },
     "execution_count": 68,
     "metadata": {},
     "output_type": "execute_result"
    }
   ],
   "source": [
    "data_groupby = data_source.groupby('MSISDN/Number')[['Dur. (ms)']].sum()\n",
    "data_groupby.head()"
   ]
  },
  {
   "cell_type": "code",
   "execution_count": 69,
   "metadata": {},
   "outputs": [
    {
     "data": {
      "text/html": [
       "<div>\n",
       "<style scoped>\n",
       "    .dataframe tbody tr th:only-of-type {\n",
       "        vertical-align: middle;\n",
       "    }\n",
       "\n",
       "    .dataframe tbody tr th {\n",
       "        vertical-align: top;\n",
       "    }\n",
       "\n",
       "    .dataframe thead th {\n",
       "        text-align: right;\n",
       "    }\n",
       "</style>\n",
       "<table border=\"1\" class=\"dataframe\">\n",
       "  <thead>\n",
       "    <tr style=\"text-align: right;\">\n",
       "      <th></th>\n",
       "      <th>Bearer Id</th>\n",
       "    </tr>\n",
       "    <tr>\n",
       "      <th>MSISDN/Number</th>\n",
       "      <th></th>\n",
       "    </tr>\n",
       "  </thead>\n",
       "  <tbody>\n",
       "    <tr>\n",
       "      <th>3.360100e+10</th>\n",
       "      <td>1.311450e+19</td>\n",
       "    </tr>\n",
       "    <tr>\n",
       "      <th>3.360100e+10</th>\n",
       "      <td>7.349880e+18</td>\n",
       "    </tr>\n",
       "    <tr>\n",
       "      <th>3.360100e+10</th>\n",
       "      <td>7.349880e+18</td>\n",
       "    </tr>\n",
       "    <tr>\n",
       "      <th>3.360101e+10</th>\n",
       "      <td>1.304240e+19</td>\n",
       "    </tr>\n",
       "    <tr>\n",
       "      <th>3.360101e+10</th>\n",
       "      <td>1.462771e+19</td>\n",
       "    </tr>\n",
       "  </tbody>\n",
       "</table>\n",
       "</div>"
      ],
      "text/plain": [
       "                  Bearer Id\n",
       "MSISDN/Number              \n",
       "3.360100e+10   1.311450e+19\n",
       "3.360100e+10   7.349880e+18\n",
       "3.360100e+10   7.349880e+18\n",
       "3.360101e+10   1.304240e+19\n",
       "3.360101e+10   1.462771e+19"
      ]
     },
     "execution_count": 69,
     "metadata": {},
     "output_type": "execute_result"
    }
   ],
   "source": [
    "data_groupby_bearer = data_source.groupby('MSISDN/Number')[['Bearer Id']].sum()\n",
    "data_groupby_bearer.head()"
   ]
  },
  {
   "cell_type": "code",
   "execution_count": 105,
   "metadata": {},
   "outputs": [
    {
     "data": {
      "text/html": [
       "<div>\n",
       "<style scoped>\n",
       "    .dataframe tbody tr th:only-of-type {\n",
       "        vertical-align: middle;\n",
       "    }\n",
       "\n",
       "    .dataframe tbody tr th {\n",
       "        vertical-align: top;\n",
       "    }\n",
       "\n",
       "    .dataframe thead th {\n",
       "        text-align: right;\n",
       "    }\n",
       "</style>\n",
       "<table border=\"1\" class=\"dataframe\">\n",
       "  <thead>\n",
       "    <tr style=\"text-align: right;\">\n",
       "      <th></th>\n",
       "      <th>Bearer Id</th>\n",
       "    </tr>\n",
       "    <tr>\n",
       "      <th>MSISDN/Number</th>\n",
       "      <th></th>\n",
       "    </tr>\n",
       "  </thead>\n",
       "  <tbody>\n",
       "    <tr>\n",
       "      <th>3.360100e+10</th>\n",
       "      <td>0.000000e+00</td>\n",
       "    </tr>\n",
       "    <tr>\n",
       "      <th>3.360100e+10</th>\n",
       "      <td>0.000000e+00</td>\n",
       "    </tr>\n",
       "    <tr>\n",
       "      <th>3.360100e+10</th>\n",
       "      <td>0.000000e+00</td>\n",
       "    </tr>\n",
       "    <tr>\n",
       "      <th>3.360101e+10</th>\n",
       "      <td>0.000000e+00</td>\n",
       "    </tr>\n",
       "    <tr>\n",
       "      <th>3.360101e+10</th>\n",
       "      <td>7.205000e+16</td>\n",
       "    </tr>\n",
       "    <tr>\n",
       "      <th>3.360101e+10</th>\n",
       "      <td>7.205000e+16</td>\n",
       "    </tr>\n",
       "    <tr>\n",
       "      <th>3.360101e+10</th>\n",
       "      <td>7.205000e+16</td>\n",
       "    </tr>\n",
       "    <tr>\n",
       "      <th>3.360101e+10</th>\n",
       "      <td>0.000000e+00</td>\n",
       "    </tr>\n",
       "    <tr>\n",
       "      <th>3.360101e+10</th>\n",
       "      <td>0.000000e+00</td>\n",
       "    </tr>\n",
       "    <tr>\n",
       "      <th>3.360102e+10</th>\n",
       "      <td>0.000000e+00</td>\n",
       "    </tr>\n",
       "  </tbody>\n",
       "</table>\n",
       "</div>"
      ],
      "text/plain": [
       "                  Bearer Id\n",
       "MSISDN/Number              \n",
       "3.360100e+10   0.000000e+00\n",
       "3.360100e+10   0.000000e+00\n",
       "3.360100e+10   0.000000e+00\n",
       "3.360101e+10   0.000000e+00\n",
       "3.360101e+10   7.205000e+16\n",
       "3.360101e+10   7.205000e+16\n",
       "3.360101e+10   7.205000e+16\n",
       "3.360101e+10   0.000000e+00\n",
       "3.360101e+10   0.000000e+00\n",
       "3.360102e+10   0.000000e+00"
      ]
     },
     "execution_count": 105,
     "metadata": {},
     "output_type": "execute_result"
    }
   ],
   "source": [
    "def data_range(series):\n",
    "    return series.max() - series.min()\n",
    "data_groupby_bearer = data_source.groupby('MSISDN/Number')[['Bearer Id']].agg(data_range)\n",
    "data_groupby_bearer.head(10)"
   ]
  },
  {
   "cell_type": "markdown",
   "metadata": {},
   "source": [
    "Univariate Analysis"
   ]
  },
  {
   "cell_type": "markdown",
   "metadata": {},
   "source": [
    "Social Media Throughput"
   ]
  },
  {
   "cell_type": "code",
   "execution_count": 83,
   "metadata": {},
   "outputs": [
    {
     "data": {
      "text/plain": [
       "Text(0.5, 0, 'Social Media Throughput Data (Meagbytes)')"
      ]
     },
     "execution_count": 83,
     "metadata": {},
     "output_type": "execute_result"
    },
    {
     "data": {
      "image/png": "[encoded data removed]",
      "text/plain": [
       "<Figure size 432x288 with 1 Axes>"
      ]
     },
     "metadata": {
      "needs_background": "light"
     },
     "output_type": "display_data"
    }
   ],
   "source": [
    "social_media_throughput= (data_source['Social Media UL (Bytes)']+ data_source['Social Media DL (Bytes)'])/1000000\n",
    "sns.distplot(social_media_throughput.sample(10000), rug= True)\n",
    "plt.xlabel(\"Social Media Throughput Data (Meagbytes)\")"
   ]
  },
  {
   "cell_type": "markdown",
   "metadata": {},
   "source": [
    "Google Throughput"
   ]
  },
  {
   "cell_type": "code",
   "execution_count": 80,
   "metadata": {},
   "outputs": [
    {
     "data": {
      "text/plain": [
       "Text(0.5, 0, 'Google Throughput Data (Meagbytes)')"
      ]
     },
     "execution_count": 80,
     "metadata": {},
     "output_type": "execute_result"
    },
    {
     "data": {
      "image/png": "[encoded data removed]",
      "text/plain": [
       "<Figure size 432x288 with 1 Axes>"
      ]
     },
     "metadata": {
      "needs_background": "light"
     },
     "output_type": "display_data"
    }
   ],
   "source": [
    "google_throughput= (data_source['Google UL (Bytes)']+ data_source['Google DL (Bytes)'])/1000000\n",
    "sns.distplot(google_throughput.sample(10000), rug= True)\n",
    "plt.xlabel(\"Google Throughput Data (Meagbytes)\")"
   ]
  },
  {
   "cell_type": "markdown",
   "metadata": {},
   "source": [
    "Email Throughput"
   ]
  },
  {
   "cell_type": "code",
   "execution_count": 84,
   "metadata": {},
   "outputs": [
    {
     "data": {
      "text/plain": [
       "Text(0.5, 0, 'Email Throughput Data (Meagbytes)')"
      ]
     },
     "execution_count": 84,
     "metadata": {},
     "output_type": "execute_result"
    },
    {
     "data": {
      "image/png": "[encoded data removed]",
      "text/plain": [
       "<Figure size 432x288 with 1 Axes>"
      ]
     },
     "metadata": {
      "needs_background": "light"
     },
     "output_type": "display_data"
    }
   ],
   "source": [
    "email_throughput= (data_source['Email UL (Bytes)']+ data_source['Email DL (Bytes)'])/1000000\n",
    "sns.distplot(email_throughput.sample(10000), rug= True)\n",
    "plt.xlabel(\"Email Throughput Data (Meagbytes)\")"
   ]
  },
  {
   "cell_type": "markdown",
   "metadata": {},
   "source": [
    "Youtube Throughput"
   ]
  },
  {
   "cell_type": "code",
   "execution_count": 86,
   "metadata": {},
   "outputs": [
    {
     "data": {
      "text/plain": [
       "Text(0.5, 0, 'Youtube Throughput Data (Meagbytes)')"
      ]
     },
     "execution_count": 86,
     "metadata": {},
     "output_type": "execute_result"
    },
    {
     "data": {
      "image/png": "[encoded data removed]",
      "text/plain": [
       "<Figure size 432x288 with 1 Axes>"
      ]
     },
     "metadata": {
      "needs_background": "light"
     },
     "output_type": "display_data"
    }
   ],
   "source": [
    "youtube_throughput= (data_source['Youtube UL (Bytes)'] + data_source['Youtube DL (Bytes)'])/1000000\n",
    "sns.distplot(youtube_throughput.sample(10000), rug= True)\n",
    "plt.xlabel(\"Youtube Throughput Data (Meagbytes)\")"
   ]
  },
  {
   "cell_type": "markdown",
   "metadata": {},
   "source": [
    "Netflix Throughput"
   ]
  },
  {
   "cell_type": "code",
   "execution_count": 87,
   "metadata": {},
   "outputs": [
    {
     "data": {
      "text/plain": [
       "Text(0.5, 0, 'Netflix Throughput Data (Meagbytes)')"
      ]
     },
     "execution_count": 87,
     "metadata": {},
     "output_type": "execute_result"
    },
    {
     "data": {
      "image/png": "[encoded data removed]",
      "text/plain": [
       "<Figure size 432x288 with 1 Axes>"
      ]
     },
     "metadata": {
      "needs_background": "light"
     },
     "output_type": "display_data"
    }
   ],
   "source": [
    "netflix_throughput= (data_source['Netflix UL (Bytes)'] + data_source['Netflix DL (Bytes)'])/1000000\n",
    "sns.distplot(netflix_throughput.sample(10000), rug= True)\n",
    "plt.xlabel(\"Netflix Throughput Data (Meagbytes)\")"
   ]
  },
  {
   "cell_type": "markdown",
   "metadata": {},
   "source": [
    "Gaming Throughput"
   ]
  },
  {
   "cell_type": "code",
   "execution_count": 91,
   "metadata": {},
   "outputs": [
    {
     "data": {
      "text/plain": [
       "Text(0.5, 0, 'Gaming Throughput Data (Gigabytes)')"
      ]
     },
     "execution_count": 91,
     "metadata": {},
     "output_type": "execute_result"
    },
    {
     "data": {
      "image/png": "[encoded data removed]",
      "text/plain": [
       "<Figure size 432x288 with 1 Axes>"
      ]
     },
     "metadata": {
      "needs_background": "light"
     },
     "output_type": "display_data"
    }
   ],
   "source": [
    "Gaming_throughput= (data_source['Gaming UL (Bytes)'] + data_source['Gaming DL (Bytes)'])/1000000000\n",
    "sns.distplot(Gaming_throughput.sample(10000), rug= True)\n",
    "plt.xlabel(\"Gaming Throughput Data (Gigabytes)\")"
   ]
  },
  {
   "cell_type": "markdown",
   "metadata": {},
   "source": [
    "Other Throughputs"
   ]
  },
  {
   "cell_type": "code",
   "execution_count": 99,
   "metadata": {},
   "outputs": [
    {
     "data": {
      "text/plain": [
       "Text(0.5, 0, 'Other  Throughput Data (Gigabytes)')"
      ]
     },
     "execution_count": 99,
     "metadata": {},
     "output_type": "execute_result"
    },
    {
     "data": {
      "image/png": "[encoded data removed]",
      "text/plain": [
       "<Figure size 432x288 with 1 Axes>"
      ]
     },
     "metadata": {
      "needs_background": "light"
     },
     "output_type": "display_data"
    }
   ],
   "source": [
    "other_throughput= (data_source['Other UL (Bytes)'] + data_source['Other DL (Bytes)'])/1000000000\n",
    "sns.distplot(other_throughput.sample(10000), rug= True)\n",
    "plt.xlabel(\"Other  Throughput Data (Gigabytes)\")"
   ]
  },
  {
   "cell_type": "markdown",
   "metadata": {},
   "source": [
    "Total Throughput"
   ]
  },
  {
   "cell_type": "code",
   "execution_count": 100,
   "metadata": {},
   "outputs": [
    {
     "data": {
      "text/plain": [
       "Text(0.5, 0, 'Total Throughput Data (Gigabytes)')"
      ]
     },
     "execution_count": 100,
     "metadata": {},
     "output_type": "execute_result"
    },
    {
     "data": {
      "image/png": "[encoded data removed]",
      "text/plain": [
       "<Figure size 432x288 with 1 Axes>"
      ]
     },
     "metadata": {
      "needs_background": "light"
     },
     "output_type": "display_data"
    }
   ],
   "source": [
    "total_throughput= (data_source['Total UL (Bytes)'] + data_source['Total DL (Bytes)'])/1000000000\n",
    "sns.distplot(total_throughput.sample(10000), rug= True)\n",
    "plt.xlabel(\"Total Throughput Data (Gigabytes)\")"
   ]
  },
  {
   "cell_type": "code",
   "execution_count": null,
   "metadata": {},
   "outputs": [],
   "source": [
    "Analysing the columns "
   ]
  },
  {
   "cell_type": "code",
   "execution_count": 107,
   "metadata": {},
   "outputs": [
    {
     "data": {
      "text/html": [
       "<div>\n",
       "<style scoped>\n",
       "    .dataframe tbody tr th:only-of-type {\n",
       "        vertical-align: middle;\n",
       "    }\n",
       "\n",
       "    .dataframe tbody tr th {\n",
       "        vertical-align: top;\n",
       "    }\n",
       "\n",
       "    .dataframe thead th {\n",
       "        text-align: right;\n",
       "    }\n",
       "</style>\n",
       "<table border=\"1\" class=\"dataframe\">\n",
       "  <thead>\n",
       "    <tr style=\"text-align: right;\">\n",
       "      <th></th>\n",
       "      <th>MSISDN/Number</th>\n",
       "      <th>Social Media DL (Bytes)</th>\n",
       "      <th>Social Media UL (Bytes)</th>\n",
       "      <th>Google DL (Bytes)</th>\n",
       "      <th>Google UL (Bytes)</th>\n",
       "      <th>Email DL (Bytes)</th>\n",
       "      <th>Email UL (Bytes)</th>\n",
       "      <th>Youtube DL (Bytes)</th>\n",
       "      <th>Youtube UL (Bytes)</th>\n",
       "      <th>Netflix DL (Bytes)</th>\n",
       "      <th>Netflix UL (Bytes)</th>\n",
       "      <th>Gaming DL (Bytes)</th>\n",
       "      <th>Gaming UL (Bytes)</th>\n",
       "      <th>Other DL (Bytes)</th>\n",
       "      <th>Other UL (Bytes)</th>\n",
       "      <th>Total UL (Bytes)</th>\n",
       "      <th>Total DL (Bytes)</th>\n",
       "    </tr>\n",
       "  </thead>\n",
       "  <tbody>\n",
       "    <tr>\n",
       "      <th>0</th>\n",
       "      <td>3.366496e+10</td>\n",
       "      <td>1545765.0</td>\n",
       "      <td>24420.0</td>\n",
       "      <td>1634479.0</td>\n",
       "      <td>1271433.0</td>\n",
       "      <td>3563542.0</td>\n",
       "      <td>137762.0</td>\n",
       "      <td>15854611.0</td>\n",
       "      <td>2501332.0</td>\n",
       "      <td>8198936.0</td>\n",
       "      <td>9656251.0</td>\n",
       "      <td>278082303.0</td>\n",
       "      <td>14344150.0</td>\n",
       "      <td>171744450.0</td>\n",
       "      <td>8814393.0</td>\n",
       "      <td>36749741.0</td>\n",
       "      <td>308879636.0</td>\n",
       "    </tr>\n",
       "    <tr>\n",
       "      <th>1</th>\n",
       "      <td>3.368185e+10</td>\n",
       "      <td>1926113.0</td>\n",
       "      <td>7165.0</td>\n",
       "      <td>3493924.0</td>\n",
       "      <td>920172.0</td>\n",
       "      <td>629046.0</td>\n",
       "      <td>308339.0</td>\n",
       "      <td>20247395.0</td>\n",
       "      <td>19111729.0</td>\n",
       "      <td>18338413.0</td>\n",
       "      <td>17227132.0</td>\n",
       "      <td>608750074.0</td>\n",
       "      <td>1170709.0</td>\n",
       "      <td>526904238.0</td>\n",
       "      <td>15055145.0</td>\n",
       "      <td>53800391.0</td>\n",
       "      <td>653384965.0</td>\n",
       "    </tr>\n",
       "    <tr>\n",
       "      <th>2</th>\n",
       "      <td>3.376063e+10</td>\n",
       "      <td>1684053.0</td>\n",
       "      <td>42224.0</td>\n",
       "      <td>8535055.0</td>\n",
       "      <td>1694064.0</td>\n",
       "      <td>2690151.0</td>\n",
       "      <td>672973.0</td>\n",
       "      <td>19725661.0</td>\n",
       "      <td>14699576.0</td>\n",
       "      <td>17587794.0</td>\n",
       "      <td>6163408.0</td>\n",
       "      <td>229584621.0</td>\n",
       "      <td>395630.0</td>\n",
       "      <td>410692588.0</td>\n",
       "      <td>4215763.0</td>\n",
       "      <td>27883638.0</td>\n",
       "      <td>279807335.0</td>\n",
       "    </tr>\n",
       "    <tr>\n",
       "      <th>3</th>\n",
       "      <td>3.375034e+10</td>\n",
       "      <td>644121.0</td>\n",
       "      <td>13372.0</td>\n",
       "      <td>9023734.0</td>\n",
       "      <td>2788027.0</td>\n",
       "      <td>1439754.0</td>\n",
       "      <td>631229.0</td>\n",
       "      <td>21388122.0</td>\n",
       "      <td>15146643.0</td>\n",
       "      <td>13994646.0</td>\n",
       "      <td>1097942.0</td>\n",
       "      <td>799538153.0</td>\n",
       "      <td>10849722.0</td>\n",
       "      <td>749039933.0</td>\n",
       "      <td>12797283.0</td>\n",
       "      <td>43324218.0</td>\n",
       "      <td>846028530.0</td>\n",
       "    </tr>\n",
       "    <tr>\n",
       "      <th>4</th>\n",
       "      <td>3.369980e+10</td>\n",
       "      <td>862600.0</td>\n",
       "      <td>50188.0</td>\n",
       "      <td>6248284.0</td>\n",
       "      <td>1500559.0</td>\n",
       "      <td>1936496.0</td>\n",
       "      <td>173853.0</td>\n",
       "      <td>15259380.0</td>\n",
       "      <td>18962873.0</td>\n",
       "      <td>17124581.0</td>\n",
       "      <td>415218.0</td>\n",
       "      <td>527707248.0</td>\n",
       "      <td>3529801.0</td>\n",
       "      <td>550709500.0</td>\n",
       "      <td>13910322.0</td>\n",
       "      <td>38542814.0</td>\n",
       "      <td>569138589.0</td>\n",
       "    </tr>\n",
       "  </tbody>\n",
       "</table>\n",
       "</div>"
      ],
      "text/plain": [
       "   MSISDN/Number  Social Media DL (Bytes)  Social Media UL (Bytes)  \\\n",
       "0   3.366496e+10                1545765.0                  24420.0   \n",
       "1   3.368185e+10                1926113.0                   7165.0   \n",
       "2   3.376063e+10                1684053.0                  42224.0   \n",
       "3   3.375034e+10                 644121.0                  13372.0   \n",
       "4   3.369980e+10                 862600.0                  50188.0   \n",
       "\n",
       "   Google DL (Bytes)  Google UL (Bytes)  Email DL (Bytes)  Email UL (Bytes)  \\\n",
       "0          1634479.0          1271433.0         3563542.0          137762.0   \n",
       "1          3493924.0           920172.0          629046.0          308339.0   \n",
       "2          8535055.0          1694064.0         2690151.0          672973.0   \n",
       "3          9023734.0          2788027.0         1439754.0          631229.0   \n",
       "4          6248284.0          1500559.0         1936496.0          173853.0   \n",
       "\n",
       "   Youtube DL (Bytes)  Youtube UL (Bytes)  Netflix DL (Bytes)  \\\n",
       "0          15854611.0           2501332.0           8198936.0   \n",
       "1          20247395.0          19111729.0          18338413.0   \n",
       "2          19725661.0          14699576.0          17587794.0   \n",
       "3          21388122.0          15146643.0          13994646.0   \n",
       "4          15259380.0          18962873.0          17124581.0   \n",
       "\n",
       "   Netflix UL (Bytes)  Gaming DL (Bytes)  Gaming UL (Bytes)  Other DL (Bytes)  \\\n",
       "0           9656251.0        278082303.0         14344150.0       171744450.0   \n",
       "1          17227132.0        608750074.0          1170709.0       526904238.0   \n",
       "2           6163408.0        229584621.0           395630.0       410692588.0   \n",
       "3           1097942.0        799538153.0         10849722.0       749039933.0   \n",
       "4            415218.0        527707248.0          3529801.0       550709500.0   \n",
       "\n",
       "   Other UL (Bytes)  Total UL (Bytes)  Total DL (Bytes)  \n",
       "0         8814393.0        36749741.0       308879636.0  \n",
       "1        15055145.0        53800391.0       653384965.0  \n",
       "2         4215763.0        27883638.0       279807335.0  \n",
       "3        12797283.0        43324218.0       846028530.0  \n",
       "4        13910322.0        38542814.0       569138589.0  "
      ]
     },
     "execution_count": 107,
     "metadata": {},
     "output_type": "execute_result"
    }
   ],
   "source": [
    "\n",
    "column_analysis = data_source[['MSISDN/Number','Social Media DL (Bytes)', 'Social Media UL (Bytes)', 'Google DL (Bytes)','Google UL (Bytes)', 'Email DL (Bytes)', 'Email UL (Bytes)', 'Youtube DL (Bytes)', 'Youtube UL (Bytes)', 'Netflix DL (Bytes)', 'Netflix UL (Bytes)', 'Gaming DL (Bytes)', 'Gaming UL (Bytes)', 'Other DL (Bytes)', 'Other UL (Bytes)', 'Total UL (Bytes)', 'Total DL (Bytes)']]\n",
    "column_analysis.head()"
   ]
  },
  {
   "cell_type": "markdown",
   "metadata": {},
   "source": [
    "Measurements of Central Tendency"
   ]
  },
  {
   "cell_type": "code",
   "execution_count": 102,
   "metadata": {},
   "outputs": [
    {
     "data": {
      "text/html": [
       "<div>\n",
       "<style scoped>\n",
       "    .dataframe tbody tr th:only-of-type {\n",
       "        vertical-align: middle;\n",
       "    }\n",
       "\n",
       "    .dataframe tbody tr th {\n",
       "        vertical-align: top;\n",
       "    }\n",
       "\n",
       "    .dataframe thead th {\n",
       "        text-align: right;\n",
       "    }\n",
       "</style>\n",
       "<table border=\"1\" class=\"dataframe\">\n",
       "  <thead>\n",
       "    <tr style=\"text-align: right;\">\n",
       "      <th></th>\n",
       "      <th>Social Media DL (Bytes)</th>\n",
       "      <th>Social Media UL (Bytes)</th>\n",
       "      <th>Google DL (Bytes)</th>\n",
       "      <th>Google UL (Bytes)</th>\n",
       "      <th>Email DL (Bytes)</th>\n",
       "      <th>Email UL (Bytes)</th>\n",
       "      <th>Youtube DL (Bytes)</th>\n",
       "      <th>Youtube UL (Bytes)</th>\n",
       "      <th>Netflix DL (Bytes)</th>\n",
       "      <th>Netflix UL (Bytes)</th>\n",
       "      <th>Gaming DL (Bytes)</th>\n",
       "      <th>Gaming UL (Bytes)</th>\n",
       "      <th>Other DL (Bytes)</th>\n",
       "      <th>Other UL (Bytes)</th>\n",
       "      <th>Total UL (Bytes)</th>\n",
       "      <th>Total DL (Bytes)</th>\n",
       "    </tr>\n",
       "  </thead>\n",
       "  <tbody>\n",
       "    <tr>\n",
       "      <th>count</th>\n",
       "      <td>1.500010e+05</td>\n",
       "      <td>150001.000000</td>\n",
       "      <td>1.500010e+05</td>\n",
       "      <td>1.500010e+05</td>\n",
       "      <td>1.500010e+05</td>\n",
       "      <td>150001.000000</td>\n",
       "      <td>1.500010e+05</td>\n",
       "      <td>1.500010e+05</td>\n",
       "      <td>1.500010e+05</td>\n",
       "      <td>1.500010e+05</td>\n",
       "      <td>1.500010e+05</td>\n",
       "      <td>1.500010e+05</td>\n",
       "      <td>1.500010e+05</td>\n",
       "      <td>1.500010e+05</td>\n",
       "      <td>1.500010e+05</td>\n",
       "      <td>1.500010e+05</td>\n",
       "    </tr>\n",
       "    <tr>\n",
       "      <th>mean</th>\n",
       "      <td>1.795322e+06</td>\n",
       "      <td>32928.434380</td>\n",
       "      <td>5.750753e+06</td>\n",
       "      <td>2.056542e+06</td>\n",
       "      <td>1.791729e+06</td>\n",
       "      <td>467373.441940</td>\n",
       "      <td>1.163407e+07</td>\n",
       "      <td>1.100941e+07</td>\n",
       "      <td>1.162685e+07</td>\n",
       "      <td>1.100175e+07</td>\n",
       "      <td>4.220447e+08</td>\n",
       "      <td>8.288398e+06</td>\n",
       "      <td>4.211005e+08</td>\n",
       "      <td>8.264799e+06</td>\n",
       "      <td>4.112121e+07</td>\n",
       "      <td>4.546434e+08</td>\n",
       "    </tr>\n",
       "    <tr>\n",
       "      <th>std</th>\n",
       "      <td>1.035482e+06</td>\n",
       "      <td>19006.178256</td>\n",
       "      <td>3.309097e+06</td>\n",
       "      <td>1.189917e+06</td>\n",
       "      <td>1.035840e+06</td>\n",
       "      <td>269969.307031</td>\n",
       "      <td>6.710569e+06</td>\n",
       "      <td>6.345423e+06</td>\n",
       "      <td>6.725218e+06</td>\n",
       "      <td>6.359490e+06</td>\n",
       "      <td>2.439675e+08</td>\n",
       "      <td>4.782700e+06</td>\n",
       "      <td>2.432050e+08</td>\n",
       "      <td>4.769004e+06</td>\n",
       "      <td>1.127635e+07</td>\n",
       "      <td>2.441421e+08</td>\n",
       "    </tr>\n",
       "    <tr>\n",
       "      <th>min</th>\n",
       "      <td>1.200000e+01</td>\n",
       "      <td>0.000000</td>\n",
       "      <td>2.070000e+02</td>\n",
       "      <td>3.000000e+00</td>\n",
       "      <td>1.400000e+01</td>\n",
       "      <td>2.000000</td>\n",
       "      <td>5.300000e+01</td>\n",
       "      <td>1.050000e+02</td>\n",
       "      <td>4.200000e+01</td>\n",
       "      <td>3.500000e+01</td>\n",
       "      <td>2.516000e+03</td>\n",
       "      <td>5.900000e+01</td>\n",
       "      <td>3.290000e+03</td>\n",
       "      <td>1.480000e+02</td>\n",
       "      <td>2.866892e+06</td>\n",
       "      <td>7.114041e+06</td>\n",
       "    </tr>\n",
       "    <tr>\n",
       "      <th>25%</th>\n",
       "      <td>8.991480e+05</td>\n",
       "      <td>16448.000000</td>\n",
       "      <td>2.882393e+06</td>\n",
       "      <td>1.024279e+06</td>\n",
       "      <td>8.927930e+05</td>\n",
       "      <td>233383.000000</td>\n",
       "      <td>5.833501e+06</td>\n",
       "      <td>5.517965e+06</td>\n",
       "      <td>5.777156e+06</td>\n",
       "      <td>5.475981e+06</td>\n",
       "      <td>2.104733e+08</td>\n",
       "      <td>4.128476e+06</td>\n",
       "      <td>2.101869e+08</td>\n",
       "      <td>4.145943e+06</td>\n",
       "      <td>3.322203e+07</td>\n",
       "      <td>2.431072e+08</td>\n",
       "    </tr>\n",
       "    <tr>\n",
       "      <th>50%</th>\n",
       "      <td>1.794369e+06</td>\n",
       "      <td>32920.000000</td>\n",
       "      <td>5.765829e+06</td>\n",
       "      <td>2.054573e+06</td>\n",
       "      <td>1.793505e+06</td>\n",
       "      <td>466250.000000</td>\n",
       "      <td>1.161602e+07</td>\n",
       "      <td>1.101345e+07</td>\n",
       "      <td>1.164222e+07</td>\n",
       "      <td>1.099638e+07</td>\n",
       "      <td>4.234081e+08</td>\n",
       "      <td>8.291208e+06</td>\n",
       "      <td>4.218030e+08</td>\n",
       "      <td>8.267071e+06</td>\n",
       "      <td>4.114324e+07</td>\n",
       "      <td>4.558409e+08</td>\n",
       "    </tr>\n",
       "    <tr>\n",
       "      <th>75%</th>\n",
       "      <td>2.694938e+06</td>\n",
       "      <td>49334.000000</td>\n",
       "      <td>8.623552e+06</td>\n",
       "      <td>3.088454e+06</td>\n",
       "      <td>2.689327e+06</td>\n",
       "      <td>700440.000000</td>\n",
       "      <td>1.744852e+07</td>\n",
       "      <td>1.651556e+07</td>\n",
       "      <td>1.747048e+07</td>\n",
       "      <td>1.650727e+07</td>\n",
       "      <td>6.331742e+08</td>\n",
       "      <td>1.243162e+07</td>\n",
       "      <td>6.316918e+08</td>\n",
       "      <td>1.238415e+07</td>\n",
       "      <td>4.903424e+07</td>\n",
       "      <td>6.657051e+08</td>\n",
       "    </tr>\n",
       "    <tr>\n",
       "      <th>max</th>\n",
       "      <td>3.586064e+06</td>\n",
       "      <td>65870.000000</td>\n",
       "      <td>1.146283e+07</td>\n",
       "      <td>4.121357e+06</td>\n",
       "      <td>3.586146e+06</td>\n",
       "      <td>936418.000000</td>\n",
       "      <td>2.325910e+07</td>\n",
       "      <td>2.201196e+07</td>\n",
       "      <td>2.325919e+07</td>\n",
       "      <td>2.201196e+07</td>\n",
       "      <td>8.434419e+08</td>\n",
       "      <td>1.655879e+07</td>\n",
       "      <td>8.434425e+08</td>\n",
       "      <td>1.655882e+07</td>\n",
       "      <td>7.833131e+07</td>\n",
       "      <td>9.029696e+08</td>\n",
       "    </tr>\n",
       "  </tbody>\n",
       "</table>\n",
       "</div>"
      ],
      "text/plain": [
       "       Social Media DL (Bytes)  Social Media UL (Bytes)  Google DL (Bytes)  \\\n",
       "count             1.500010e+05            150001.000000       1.500010e+05   \n",
       "mean              1.795322e+06             32928.434380       5.750753e+06   \n",
       "std               1.035482e+06             19006.178256       3.309097e+06   \n",
       "min               1.200000e+01                 0.000000       2.070000e+02   \n",
       "25%               8.991480e+05             16448.000000       2.882393e+06   \n",
       "50%               1.794369e+06             32920.000000       5.765829e+06   \n",
       "75%               2.694938e+06             49334.000000       8.623552e+06   \n",
       "max               3.586064e+06             65870.000000       1.146283e+07   \n",
       "\n",
       "       Google UL (Bytes)  Email DL (Bytes)  Email UL (Bytes)  \\\n",
       "count       1.500010e+05      1.500010e+05     150001.000000   \n",
       "mean        2.056542e+06      1.791729e+06     467373.441940   \n",
       "std         1.189917e+06      1.035840e+06     269969.307031   \n",
       "min         3.000000e+00      1.400000e+01          2.000000   \n",
       "25%         1.024279e+06      8.927930e+05     233383.000000   \n",
       "50%         2.054573e+06      1.793505e+06     466250.000000   \n",
       "75%         3.088454e+06      2.689327e+06     700440.000000   \n",
       "max         4.121357e+06      3.586146e+06     936418.000000   \n",
       "\n",
       "       Youtube DL (Bytes)  Youtube UL (Bytes)  Netflix DL (Bytes)  \\\n",
       "count        1.500010e+05        1.500010e+05        1.500010e+05   \n",
       "mean         1.163407e+07        1.100941e+07        1.162685e+07   \n",
       "std          6.710569e+06        6.345423e+06        6.725218e+06   \n",
       "min          5.300000e+01        1.050000e+02        4.200000e+01   \n",
       "25%          5.833501e+06        5.517965e+06        5.777156e+06   \n",
       "50%          1.161602e+07        1.101345e+07        1.164222e+07   \n",
       "75%          1.744852e+07        1.651556e+07        1.747048e+07   \n",
       "max          2.325910e+07        2.201196e+07        2.325919e+07   \n",
       "\n",
       "       Netflix UL (Bytes)  Gaming DL (Bytes)  Gaming UL (Bytes)  \\\n",
       "count        1.500010e+05       1.500010e+05       1.500010e+05   \n",
       "mean         1.100175e+07       4.220447e+08       8.288398e+06   \n",
       "std          6.359490e+06       2.439675e+08       4.782700e+06   \n",
       "min          3.500000e+01       2.516000e+03       5.900000e+01   \n",
       "25%          5.475981e+06       2.104733e+08       4.128476e+06   \n",
       "50%          1.099638e+07       4.234081e+08       8.291208e+06   \n",
       "75%          1.650727e+07       6.331742e+08       1.243162e+07   \n",
       "max          2.201196e+07       8.434419e+08       1.655879e+07   \n",
       "\n",
       "       Other DL (Bytes)  Other UL (Bytes)  Total UL (Bytes)  Total DL (Bytes)  \n",
       "count      1.500010e+05      1.500010e+05      1.500010e+05      1.500010e+05  \n",
       "mean       4.211005e+08      8.264799e+06      4.112121e+07      4.546434e+08  \n",
       "std        2.432050e+08      4.769004e+06      1.127635e+07      2.441421e+08  \n",
       "min        3.290000e+03      1.480000e+02      2.866892e+06      7.114041e+06  \n",
       "25%        2.101869e+08      4.145943e+06      3.322203e+07      2.431072e+08  \n",
       "50%        4.218030e+08      8.267071e+06      4.114324e+07      4.558409e+08  \n",
       "75%        6.316918e+08      1.238415e+07      4.903424e+07      6.657051e+08  \n",
       "max        8.434425e+08      1.655882e+07      7.833131e+07      9.029696e+08  "
      ]
     },
     "execution_count": 102,
     "metadata": {},
     "output_type": "execute_result"
    }
   ],
   "source": [
    "column_analysis.describe()"
   ]
  },
  {
   "cell_type": "markdown",
   "metadata": {},
   "source": [
    "Data Consumption "
   ]
  },
  {
   "cell_type": "markdown",
   "metadata": {},
   "source": [
    "Social Media"
   ]
  },
  {
   "cell_type": "code",
   "execution_count": 118,
   "metadata": {},
   "outputs": [
    {
     "data": {
      "text/plain": [
       "Text(0.5, 1.0, 'Samples (10) for Social Media data consumption')"
      ]
     },
     "execution_count": 118,
     "metadata": {},
     "output_type": "execute_result"
    },
    {
     "data": {
      "image/png": "[encoded data removed]",
      "text/plain": [
       "<Figure size 432x288 with 1 Axes>"
      ]
     },
     "metadata": {
      "needs_background": "light"
     },
     "output_type": "display_data"
    }
   ],
   "source": [
    "column_analysis.sample(10).pivot_table(index= \"MSISDN/Number\", values= ['Social Media DL (Bytes)',\n",
    " 'Social Media UL (Bytes)']).plot(kind= 'barh')\n",
    "plt.title(\"Samples (10) for Social Media data consumption\")"
   ]
  },
  {
   "cell_type": "markdown",
   "metadata": {},
   "source": [
    "Google"
   ]
  },
  {
   "cell_type": "code",
   "execution_count": 112,
   "metadata": {},
   "outputs": [
    {
     "data": {
      "text/plain": [
       "Text(0.5, 1.0, 'Samples (10) for Google data consumption')"
      ]
     },
     "execution_count": 112,
     "metadata": {},
     "output_type": "execute_result"
    },
    {
     "data": {
      "image/png": "[encoded data removed]",
      "text/plain": [
       "<Figure size 432x288 with 1 Axes>"
      ]
     },
     "metadata": {
      "needs_background": "light"
     },
     "output_type": "display_data"
    }
   ],
   "source": [
    "column_analysis.sample(10).pivot_table(index= \"MSISDN/Number\", values= ['Google DL (Bytes)',\n",
    " 'Google UL (Bytes)']).plot(kind= 'barh')\n",
    "plt.title(\"Samples (10) for Google data consumption\")"
   ]
  },
  {
   "cell_type": "markdown",
   "metadata": {},
   "source": [
    "Email"
   ]
  },
  {
   "cell_type": "code",
   "execution_count": 120,
   "metadata": {},
   "outputs": [
    {
     "data": {
      "text/plain": [
       "Text(0.5, 1.0, 'Samples (10) for Email data consumption')"
      ]
     },
     "execution_count": 120,
     "metadata": {},
     "output_type": "execute_result"
    },
    {
     "data": {
      "image/png": "[encoded data removed]",
      "text/plain": [
       "<Figure size 432x288 with 1 Axes>"
      ]
     },
     "metadata": {
      "needs_background": "light"
     },
     "output_type": "display_data"
    }
   ],
   "source": [
    "column_analysis.sample(10).pivot_table(index= \"MSISDN/Number\", values= ['Email DL (Bytes)',\n",
    " 'Email UL (Bytes)']).plot(kind= 'barh')\n",
    "plt.title(\"Samples (10) for Email data consumption\")"
   ]
  },
  {
   "cell_type": "markdown",
   "metadata": {},
   "source": [
    "Youtube"
   ]
  },
  {
   "cell_type": "code",
   "execution_count": 121,
   "metadata": {},
   "outputs": [
    {
     "data": {
      "text/plain": [
       "Text(0.5, 1.0, 'Samples (10) for Youtube data consumption')"
      ]
     },
     "execution_count": 121,
     "metadata": {},
     "output_type": "execute_result"
    },
    {
     "data": {
      "image/png": "[encoded data removed]",
      "text/plain": [
       "<Figure size 432x288 with 1 Axes>"
      ]
     },
     "metadata": {
      "needs_background": "light"
     },
     "output_type": "display_data"
    }
   ],
   "source": [
    "column_analysis.sample(10).pivot_table(index= \"MSISDN/Number\", values= ['Youtube DL (Bytes)',\n",
    " 'Youtube UL (Bytes)']).plot(kind= 'barh')\n",
    "plt.title(\"Samples (10) for Youtube data consumption\")"
   ]
  },
  {
   "cell_type": "markdown",
   "metadata": {},
   "source": [
    "Netflix"
   ]
  },
  {
   "cell_type": "code",
   "execution_count": 122,
   "metadata": {},
   "outputs": [
    {
     "data": {
      "text/plain": [
       "Text(0.5, 1.0, 'Samples (10) for Netflix data consumption')"
      ]
     },
     "execution_count": 122,
     "metadata": {},
     "output_type": "execute_result"
    },
    {
     "data": {
      "image/png": "[encoded data removed]",
      "text/plain": [
       "<Figure size 432x288 with 1 Axes>"
      ]
     },
     "metadata": {
      "needs_background": "light"
     },
     "output_type": "display_data"
    }
   ],
   "source": [
    "column_analysis.sample(10).pivot_table(index= \"MSISDN/Number\", values= ['Netflix DL (Bytes)',\n",
    " 'Netflix UL (Bytes)']).plot(kind= 'barh')\n",
    "plt.title(\"Samples (10) for Netflix data consumption\")"
   ]
  },
  {
   "cell_type": "markdown",
   "metadata": {},
   "source": [
    "Gaming"
   ]
  },
  {
   "cell_type": "code",
   "execution_count": 124,
   "metadata": {},
   "outputs": [
    {
     "data": {
      "text/plain": [
       "Text(0.5, 1.0, 'Samples (10) for Gaming data consumption')"
      ]
     },
     "execution_count": 124,
     "metadata": {},
     "output_type": "execute_result"
    },
    {
     "data": {
      "image/png": "[encoded data removed]",
      "text/plain": [
       "<Figure size 432x288 with 1 Axes>"
      ]
     },
     "metadata": {
      "needs_background": "light"
     },
     "output_type": "display_data"
    }
   ],
   "source": [
    "column_analysis.sample(10).pivot_table(index= \"MSISDN/Number\", values= ['Gaming DL (Bytes)',\n",
    " 'Gaming UL (Bytes)']).plot(kind= 'barh')\n",
    "plt.title(\"Samples (10) for Gaming data consumption\")"
   ]
  },
  {
   "cell_type": "markdown",
   "metadata": {},
   "source": [
    "Others"
   ]
  },
  {
   "cell_type": "code",
   "execution_count": 125,
   "metadata": {},
   "outputs": [
    {
     "data": {
      "text/plain": [
       "Text(0.5, 1.0, 'Samples (10) for Other data consumption')"
      ]
     },
     "execution_count": 125,
     "metadata": {},
     "output_type": "execute_result"
    },
    {
     "data": {
      "image/png": "[encoded data removed]",
      "text/plain": [
       "<Figure size 432x288 with 1 Axes>"
      ]
     },
     "metadata": {
      "needs_background": "light"
     },
     "output_type": "display_data"
    }
   ],
   "source": [
    "column_analysis.sample(10).pivot_table(index= \"MSISDN/Number\", values= ['Other DL (Bytes)',\n",
    " 'Other UL (Bytes)']).plot(kind= 'barh')\n",
    "plt.title(\"Samples (10) for Other data consumption\")"
   ]
  },
  {
   "cell_type": "markdown",
   "metadata": {},
   "source": [
    "Total"
   ]
  },
  {
   "cell_type": "code",
   "execution_count": 126,
   "metadata": {},
   "outputs": [
    {
     "data": {
      "text/plain": [
       "Text(0.5, 1.0, 'Samples (10) for Total data consumption')"
      ]
     },
     "execution_count": 126,
     "metadata": {},
     "output_type": "execute_result"
    },
    {
     "data": {
      "image/png": "[encoded data removed]",
      "text/plain": [
       "<Figure size 432x288 with 1 Axes>"
      ]
     },
     "metadata": {
      "needs_background": "light"
     },
     "output_type": "display_data"
    }
   ],
   "source": [
    "column_analysis.sample(10).pivot_table(index= \"MSISDN/Number\", values= ['Total DL (Bytes)',\n",
    " 'Total UL (Bytes)']).plot(kind= 'barh')\n",
    "plt.title(\"Samples (10) for Total data consumption\")"
   ]
  },
  {
   "cell_type": "markdown",
   "metadata": {},
   "source": [
    "### Data Consumption"
   ]
  },
  {
   "cell_type": "markdown",
   "metadata": {},
   "source": [
    "Social Media"
   ]
  },
  {
   "cell_type": "code",
   "execution_count": 137,
   "metadata": {},
   "outputs": [
    {
     "data": {
      "text/plain": [
       "Text(0.5, 1.0, 'Social Media Data consumption')"
      ]
     },
     "execution_count": 137,
     "metadata": {},
     "output_type": "execute_result"
    },
    {
     "data": {
      "image/png": "[encoded data removed]",
      "text/plain": [
       "<Figure size 432x288 with 1 Axes>"
      ]
     },
     "metadata": {
      "needs_background": "light"
     },
     "output_type": "display_data"
    }
   ],
   "source": [
    "column_analysis.pivot_table(index= \"MSISDN/Number\", values= [ 'Social Media DL (Bytes)',\n",
    " 'Social Media UL (Bytes)']).plot(kind= 'box')\n",
    "plt.title(\"Social Media Data consumption\")"
   ]
  },
  {
   "cell_type": "markdown",
   "metadata": {},
   "source": [
    "Google"
   ]
  },
  {
   "cell_type": "code",
   "execution_count": 138,
   "metadata": {},
   "outputs": [
    {
     "data": {
      "text/plain": [
       "Text(0.5, 1.0, 'Google Data consumption')"
      ]
     },
     "execution_count": 138,
     "metadata": {},
     "output_type": "execute_result"
    },
    {
     "data": {
      "image/png": "[encoded data removed]",
      "text/plain": [
       "<Figure size 432x288 with 1 Axes>"
      ]
     },
     "metadata": {
      "needs_background": "light"
     },
     "output_type": "display_data"
    }
   ],
   "source": [
    "column_analysis.pivot_table(index= \"MSISDN/Number\", values= [ 'Google DL (Bytes)',\n",
    " 'Google UL (Bytes)']).plot(kind= 'box')\n",
    "plt.title(\"Google Data consumption\")"
   ]
  },
  {
   "cell_type": "markdown",
   "metadata": {},
   "source": [
    "Email"
   ]
  },
  {
   "cell_type": "code",
   "execution_count": 139,
   "metadata": {},
   "outputs": [
    {
     "data": {
      "text/plain": [
       "Text(0.5, 1.0, 'Email Data consumption')"
      ]
     },
     "execution_count": 139,
     "metadata": {},
     "output_type": "execute_result"
    },
    {
     "data": {
      "image/png": "[encoded data removed]",
      "text/plain": [
       "<Figure size 432x288 with 1 Axes>"
      ]
     },
     "metadata": {
      "needs_background": "light"
     },
     "output_type": "display_data"
    }
   ],
   "source": [
    "column_analysis.pivot_table(index= \"MSISDN/Number\", values= [ 'Email DL (Bytes)',\n",
    " 'Email UL (Bytes)']).plot(kind= 'box')\n",
    "plt.title(\"Email Data consumption\")"
   ]
  },
  {
   "cell_type": "markdown",
   "metadata": {},
   "source": [
    "Youtube"
   ]
  },
  {
   "cell_type": "code",
   "execution_count": 140,
   "metadata": {},
   "outputs": [
    {
     "data": {
      "text/plain": [
       "Text(0.5, 1.0, 'Youtube Data consumption')"
      ]
     },
     "execution_count": 140,
     "metadata": {},
     "output_type": "execute_result"
    },
    {
     "data": {
      "image/png": "[encoded data removed]",
      "text/plain": [
       "<Figure size 432x288 with 1 Axes>"
      ]
     },
     "metadata": {
      "needs_background": "light"
     },
     "output_type": "display_data"
    }
   ],
   "source": [
    "column_analysis.pivot_table(index= \"MSISDN/Number\", values= [ 'Youtube DL (Bytes)',\n",
    " 'Youtube UL (Bytes)']).plot(kind= 'box')\n",
    "plt.title(\"Youtube Data consumption\")"
   ]
  },
  {
   "cell_type": "markdown",
   "metadata": {},
   "source": [
    "Netflix"
   ]
  },
  {
   "cell_type": "code",
   "execution_count": 141,
   "metadata": {},
   "outputs": [
    {
     "data": {
      "text/plain": [
       "Text(0.5, 1.0, 'Netflix Data consumption')"
      ]
     },
     "execution_count": 141,
     "metadata": {},
     "output_type": "execute_result"
    },
    {
     "data": {
      "image/png": "[encoded data removed]",
      "text/plain": [
       "<Figure size 432x288 with 1 Axes>"
      ]
     },
     "metadata": {
      "needs_background": "light"
     },
     "output_type": "display_data"
    }
   ],
   "source": [
    "column_analysis.pivot_table(index= \"MSISDN/Number\", values= [ 'Netflix DL (Bytes)',\n",
    " 'Netflix UL (Bytes)']).plot(kind= 'box')\n",
    "plt.title(\"Netflix Data consumption\")"
   ]
  },
  {
   "cell_type": "markdown",
   "metadata": {},
   "source": [
    "Gaming"
   ]
  },
  {
   "cell_type": "code",
   "execution_count": 142,
   "metadata": {},
   "outputs": [
    {
     "data": {
      "text/plain": [
       "Text(0.5, 1.0, 'Gaming Data consumption')"
      ]
     },
     "execution_count": 142,
     "metadata": {},
     "output_type": "execute_result"
    },
    {
     "data": {
      "image/png": "[encoded data removed]",
      "text/plain": [
       "<Figure size 432x288 with 1 Axes>"
      ]
     },
     "metadata": {
      "needs_background": "light"
     },
     "output_type": "display_data"
    }
   ],
   "source": [
    "column_analysis.pivot_table(index= \"MSISDN/Number\", values= [ 'Gaming DL (Bytes)',\n",
    " 'Gaming UL (Bytes)']).plot(kind= 'box')\n",
    "plt.title(\"Gaming Data consumption\")"
   ]
  },
  {
   "cell_type": "markdown",
   "metadata": {},
   "source": [
    "Others"
   ]
  },
  {
   "cell_type": "code",
   "execution_count": 136,
   "metadata": {},
   "outputs": [
    {
     "data": {
      "text/plain": [
       "Text(0.5, 1.0, 'Other Data Consumption')"
      ]
     },
     "execution_count": 136,
     "metadata": {},
     "output_type": "execute_result"
    },
    {
     "data": {
      "image/png": "[encoded data removed]",
      "text/plain": [
       "<Figure size 432x288 with 1 Axes>"
      ]
     },
     "metadata": {
      "needs_background": "light"
     },
     "output_type": "display_data"
    }
   ],
   "source": [
    "column_analysis.pivot_table(index= \"MSISDN/Number\", values= [ 'Other DL (Bytes)',\n",
    " 'Other UL (Bytes)']).plot(kind= 'box')\n",
    "plt.title(\"Other Data Consumption\")"
   ]
  },
  {
   "cell_type": "markdown",
   "metadata": {},
   "source": [
    "Total"
   ]
  },
  {
   "cell_type": "code",
   "execution_count": 135,
   "metadata": {},
   "outputs": [
    {
     "data": {
      "text/plain": [
       "Text(0.5, 1.0, 'Total Data Consumption')"
      ]
     },
     "execution_count": 135,
     "metadata": {},
     "output_type": "execute_result"
    },
    {
     "data": {
      "image/png": "[encoded data removed]",
      "text/plain": [
       "<Figure size 432x288 with 1 Axes>"
      ]
     },
     "metadata": {
      "needs_background": "light"
     },
     "output_type": "display_data"
    }
   ],
   "source": [
    "column_analysis.pivot_table(index= \"MSISDN/Number\", values= [ 'Total DL (Bytes)',\n",
    " 'Total UL (Bytes)']).plot(kind= 'box')\n",
    "plt.title(\"Total Data Consumption\")"
   ]
  },
  {
   "cell_type": "code",
   "execution_count": 150,
   "metadata": {},
   "outputs": [
    {
     "data": {
      "text/plain": [
       "0         3.456294e+08\n",
       "1         7.071854e+08\n",
       "2         3.076910e+08\n",
       "3         8.893527e+08\n",
       "4         6.076814e+08\n",
       "              ...     \n",
       "149996    6.318041e+08\n",
       "149997    7.057839e+08\n",
       "149998    6.276986e+08\n",
       "149999    4.015220e+08\n",
       "150000    4.957646e+08\n",
       "Length: 150001, dtype: float64"
      ]
     },
     "execution_count": 150,
     "metadata": {},
     "output_type": "execute_result"
    }
   ],
   "source": [
    "downlink = data_source['Total DL (Bytes)']\n",
    "uplink =  data_source ['Total UL (Bytes)']\n",
    "\n",
    "total_data = downlink + uplink\n",
    "total_data"
   ]
  },
  {
   "cell_type": "markdown",
   "metadata": {},
   "source": [
    "### Top 10 TCP values in the dataset"
   ]
  },
  {
   "cell_type": "markdown",
   "metadata": {},
   "source": [
    "TCP DL"
   ]
  },
  {
   "cell_type": "code",
   "execution_count": 161,
   "metadata": {},
   "outputs": [
    {
     "data": {
      "text/html": [
       "<div>\n",
       "<style scoped>\n",
       "    .dataframe tbody tr th:only-of-type {\n",
       "        vertical-align: middle;\n",
       "    }\n",
       "\n",
       "    .dataframe tbody tr th {\n",
       "        vertical-align: top;\n",
       "    }\n",
       "\n",
       "    .dataframe thead th {\n",
       "        text-align: right;\n",
       "    }\n",
       "</style>\n",
       "<table border=\"1\" class=\"dataframe\">\n",
       "  <thead>\n",
       "    <tr style=\"text-align: right;\">\n",
       "      <th></th>\n",
       "      <th>TCP DL Retrans. Vol (Bytes)</th>\n",
       "      <th>Count</th>\n",
       "    </tr>\n",
       "  </thead>\n",
       "  <tbody>\n",
       "    <tr>\n",
       "      <th>0</th>\n",
       "      <td>1330.0</td>\n",
       "      <td>433</td>\n",
       "    </tr>\n",
       "    <tr>\n",
       "      <th>1</th>\n",
       "      <td>2660.0</td>\n",
       "      <td>219</td>\n",
       "    </tr>\n",
       "    <tr>\n",
       "      <th>2</th>\n",
       "      <td>38.0</td>\n",
       "      <td>200</td>\n",
       "    </tr>\n",
       "    <tr>\n",
       "      <th>3</th>\n",
       "      <td>92.0</td>\n",
       "      <td>192</td>\n",
       "    </tr>\n",
       "    <tr>\n",
       "      <th>4</th>\n",
       "      <td>1318.0</td>\n",
       "      <td>156</td>\n",
       "    </tr>\n",
       "    <tr>\n",
       "      <th>5</th>\n",
       "      <td>543.0</td>\n",
       "      <td>133</td>\n",
       "    </tr>\n",
       "    <tr>\n",
       "      <th>6</th>\n",
       "      <td>3990.0</td>\n",
       "      <td>114</td>\n",
       "    </tr>\n",
       "    <tr>\n",
       "      <th>7</th>\n",
       "      <td>76.0</td>\n",
       "      <td>108</td>\n",
       "    </tr>\n",
       "    <tr>\n",
       "      <th>8</th>\n",
       "      <td>5320.0</td>\n",
       "      <td>102</td>\n",
       "    </tr>\n",
       "    <tr>\n",
       "      <th>9</th>\n",
       "      <td>1288.0</td>\n",
       "      <td>93</td>\n",
       "    </tr>\n",
       "  </tbody>\n",
       "</table>\n",
       "</div>"
      ],
      "text/plain": [
       "   TCP DL Retrans. Vol (Bytes)  Count\n",
       "0                       1330.0    433\n",
       "1                       2660.0    219\n",
       "2                         38.0    200\n",
       "3                         92.0    192\n",
       "4                       1318.0    156\n",
       "5                        543.0    133\n",
       "6                       3990.0    114\n",
       "7                         76.0    108\n",
       "8                       5320.0    102\n",
       "9                       1288.0     93"
      ]
     },
     "execution_count": 161,
     "metadata": {},
     "output_type": "execute_result"
    }
   ],
   "source": [
    "top_ten_tcp_dl = data_source[\"TCP DL Retrans. Vol (Bytes)\"].value_counts().head(10).reset_index()\n",
    "top_ten_tcp_dl = top_ten_tcp_dl.rename(columns={'index':\"TCP DL Retrans. Vol (Bytes)\",\"TCP DL Retrans. Vol (Bytes)\":\"Count\"})\n",
    "top_ten_tcp_dl"
   ]
  },
  {
   "cell_type": "markdown",
   "metadata": {},
   "source": [
    "TCP UL"
   ]
  },
  {
   "cell_type": "code",
   "execution_count": 162,
   "metadata": {},
   "outputs": [
    {
     "data": {
      "text/html": [
       "<div>\n",
       "<style scoped>\n",
       "    .dataframe tbody tr th:only-of-type {\n",
       "        vertical-align: middle;\n",
       "    }\n",
       "\n",
       "    .dataframe tbody tr th {\n",
       "        vertical-align: top;\n",
       "    }\n",
       "\n",
       "    .dataframe thead th {\n",
       "        text-align: right;\n",
       "    }\n",
       "</style>\n",
       "<table border=\"1\" class=\"dataframe\">\n",
       "  <thead>\n",
       "    <tr style=\"text-align: right;\">\n",
       "      <th></th>\n",
       "      <th>TCP UL Retrans. Vol (Bytes)</th>\n",
       "      <th>Count</th>\n",
       "    </tr>\n",
       "  </thead>\n",
       "  <tbody>\n",
       "    <tr>\n",
       "      <th>0</th>\n",
       "      <td>1330.0</td>\n",
       "      <td>1910</td>\n",
       "    </tr>\n",
       "    <tr>\n",
       "      <th>1</th>\n",
       "      <td>2660.0</td>\n",
       "      <td>937</td>\n",
       "    </tr>\n",
       "    <tr>\n",
       "      <th>2</th>\n",
       "      <td>1294.0</td>\n",
       "      <td>651</td>\n",
       "    </tr>\n",
       "    <tr>\n",
       "      <th>3</th>\n",
       "      <td>3990.0</td>\n",
       "      <td>548</td>\n",
       "    </tr>\n",
       "    <tr>\n",
       "      <th>4</th>\n",
       "      <td>1318.0</td>\n",
       "      <td>545</td>\n",
       "    </tr>\n",
       "    <tr>\n",
       "      <th>5</th>\n",
       "      <td>5320.0</td>\n",
       "      <td>366</td>\n",
       "    </tr>\n",
       "    <tr>\n",
       "      <th>6</th>\n",
       "      <td>6650.0</td>\n",
       "      <td>271</td>\n",
       "    </tr>\n",
       "    <tr>\n",
       "      <th>7</th>\n",
       "      <td>2636.0</td>\n",
       "      <td>234</td>\n",
       "    </tr>\n",
       "    <tr>\n",
       "      <th>8</th>\n",
       "      <td>7980.0</td>\n",
       "      <td>219</td>\n",
       "    </tr>\n",
       "    <tr>\n",
       "      <th>9</th>\n",
       "      <td>35.0</td>\n",
       "      <td>160</td>\n",
       "    </tr>\n",
       "  </tbody>\n",
       "</table>\n",
       "</div>"
      ],
      "text/plain": [
       "   TCP UL Retrans. Vol (Bytes)  Count\n",
       "0                       1330.0   1910\n",
       "1                       2660.0    937\n",
       "2                       1294.0    651\n",
       "3                       3990.0    548\n",
       "4                       1318.0    545\n",
       "5                       5320.0    366\n",
       "6                       6650.0    271\n",
       "7                       2636.0    234\n",
       "8                       7980.0    219\n",
       "9                         35.0    160"
      ]
     },
     "execution_count": 162,
     "metadata": {},
     "output_type": "execute_result"
    }
   ],
   "source": [
    "top_ten_tcp_ul = data_source[\"TCP UL Retrans. Vol (Bytes)\"].value_counts().head(10).reset_index()\n",
    "top_ten_tcp_ul = top_ten_tcp_ul.rename(columns={'index':\"TCP UL Retrans. Vol (Bytes)\",\"TCP UL Retrans. Vol (Bytes)\":\"Count\"})\n",
    "top_ten_tcp_ul"
   ]
  },
  {
   "cell_type": "markdown",
   "metadata": {},
   "source": [
    "TCP DL"
   ]
  },
  {
   "cell_type": "code",
   "execution_count": 173,
   "metadata": {},
   "outputs": [
    {
     "data": {
      "text/html": [
       "<div>\n",
       "<style scoped>\n",
       "    .dataframe tbody tr th:only-of-type {\n",
       "        vertical-align: middle;\n",
       "    }\n",
       "\n",
       "    .dataframe tbody tr th {\n",
       "        vertical-align: top;\n",
       "    }\n",
       "\n",
       "    .dataframe thead th {\n",
       "        text-align: right;\n",
       "    }\n",
       "</style>\n",
       "<table border=\"1\" class=\"dataframe\">\n",
       "  <thead>\n",
       "    <tr style=\"text-align: right;\">\n",
       "      <th></th>\n",
       "      <th>TCP UL Retrans. Vol (Bytes)</th>\n",
       "      <th>Count</th>\n",
       "    </tr>\n",
       "  </thead>\n",
       "  <tbody>\n",
       "    <tr>\n",
       "      <th>0</th>\n",
       "      <td>1330.0</td>\n",
       "      <td>1910</td>\n",
       "    </tr>\n",
       "    <tr>\n",
       "      <th>1</th>\n",
       "      <td>2660.0</td>\n",
       "      <td>937</td>\n",
       "    </tr>\n",
       "    <tr>\n",
       "      <th>2</th>\n",
       "      <td>1294.0</td>\n",
       "      <td>651</td>\n",
       "    </tr>\n",
       "    <tr>\n",
       "      <th>3</th>\n",
       "      <td>3990.0</td>\n",
       "      <td>548</td>\n",
       "    </tr>\n",
       "    <tr>\n",
       "      <th>4</th>\n",
       "      <td>1318.0</td>\n",
       "      <td>545</td>\n",
       "    </tr>\n",
       "    <tr>\n",
       "      <th>5</th>\n",
       "      <td>5320.0</td>\n",
       "      <td>366</td>\n",
       "    </tr>\n",
       "    <tr>\n",
       "      <th>6</th>\n",
       "      <td>6650.0</td>\n",
       "      <td>271</td>\n",
       "    </tr>\n",
       "    <tr>\n",
       "      <th>7</th>\n",
       "      <td>2636.0</td>\n",
       "      <td>234</td>\n",
       "    </tr>\n",
       "    <tr>\n",
       "      <th>8</th>\n",
       "      <td>7980.0</td>\n",
       "      <td>219</td>\n",
       "    </tr>\n",
       "    <tr>\n",
       "      <th>9</th>\n",
       "      <td>35.0</td>\n",
       "      <td>160</td>\n",
       "    </tr>\n",
       "  </tbody>\n",
       "</table>\n",
       "</div>"
      ],
      "text/plain": [
       "   TCP UL Retrans. Vol (Bytes)  Count\n",
       "0                       1330.0   1910\n",
       "1                       2660.0    937\n",
       "2                       1294.0    651\n",
       "3                       3990.0    548\n",
       "4                       1318.0    545\n",
       "5                       5320.0    366\n",
       "6                       6650.0    271\n",
       "7                       2636.0    234\n",
       "8                       7980.0    219\n",
       "9                         35.0    160"
      ]
     },
     "execution_count": 173,
     "metadata": {},
     "output_type": "execute_result"
    }
   ],
   "source": [
    "top_ten_tcp_dl = data_source[\"TCP DL Retrans. Vol (Bytes)\"].value_counts().head(10).reset_index()\n",
    "top_ten_tcp_dl = top_ten_tcp_ul.rename(columns={'index':\"TCP DL Retrans. Vol (Bytes)\",\"TCP DL Retrans. Vol (Bytes)\":\"Count\"})\n",
    "top_ten_tcp_dl"
   ]
  },
  {
   "cell_type": "code",
   "execution_count": 163,
   "metadata": {},
   "outputs": [
    {
     "data": {
      "text/plain": [
       "<bound method NDFrame.describe of 0        NaN\n",
       "1        NaN\n",
       "2        NaN\n",
       "3        NaN\n",
       "4        NaN\n",
       "          ..\n",
       "149996   NaN\n",
       "149997   NaN\n",
       "149998   NaN\n",
       "149999   NaN\n",
       "150000   NaN\n",
       "Name: TCP UL Retrans. Vol (Bytes), Length: 150001, dtype: float64>"
      ]
     },
     "execution_count": 163,
     "metadata": {},
     "output_type": "execute_result"
    }
   ],
   "source": [
    "data_source[\"TCP UL Retrans. Vol (Bytes)\"].describe"
   ]
  },
  {
   "cell_type": "code",
   "execution_count": 170,
   "metadata": {},
   "outputs": [
    {
     "name": "stdout",
     "output_type": "stream",
     "text": [
      "The average TCP Retransmision on Downlink is 20809914.27034193\n"
     ]
    }
   ],
   "source": [
    "mean_tcp_dl = data_source[\"TCP DL Retrans. Vol (Bytes)\"].mean()\n",
    "print(f\"The average TCP Retransmision on Downlink is {mean_tcp_dl}\")"
   ]
  },
  {
   "cell_type": "code",
   "execution_count": 171,
   "metadata": {},
   "outputs": [
    {
     "name": "stdout",
     "output_type": "stream",
     "text": [
      "The average TCP Retransmision on Uplink is 759658.6648110661\n"
     ]
    }
   ],
   "source": [
    "mean_tcp_ul = data_source[\"TCP UL Retrans. Vol (Bytes)\"].mean()\n",
    "print(f\"The average TCP Retransmision on Uplink is {mean_tcp_ul}\")"
   ]
  },
  {
   "cell_type": "code",
   "execution_count": 172,
   "metadata": {},
   "outputs": [
    {
     "name": "stdout",
     "output_type": "stream",
     "text": [
      "The average TCP Retransmission is 10784786.467576498\n"
     ]
    }
   ],
   "source": [
    "total_average_tcp_retransmission = (mean_tcp_dl + mean_tcp_ul)/2\n",
    "print (f\"The average TCP Retransmission is {total_average_tcp_retransmission}\")"
   ]
  },
  {
   "cell_type": "markdown",
   "metadata": {},
   "source": [
    "Average RTT"
   ]
  },
  {
   "cell_type": "code",
   "execution_count": 174,
   "metadata": {},
   "outputs": [
    {
     "name": "stdout",
     "output_type": "stream",
     "text": [
      "The average RTT Retransmision on Downlink is 109.79570605376027\n"
     ]
    }
   ],
   "source": [
    "mean_rtt_dl = data_source[\"Avg RTT DL (ms)\"].mean()\n",
    "print(f\"The average RTT Retransmision on Downlink is {mean_rtt_dl}\")"
   ]
  },
  {
   "cell_type": "code",
   "execution_count": 175,
   "metadata": {},
   "outputs": [
    {
     "name": "stdout",
     "output_type": "stream",
     "text": [
      "The average RTT Retransmision on Uplink is 17.662882910900326\n"
     ]
    }
   ],
   "source": [
    "mean_rtt_ul = data_source[\"Avg RTT UL (ms)\"].mean()\n",
    "print(f\"The average RTT Retransmision on Uplink is {mean_rtt_ul}\")"
   ]
  },
  {
   "cell_type": "code",
   "execution_count": 176,
   "metadata": {},
   "outputs": [
    {
     "name": "stdout",
     "output_type": "stream",
     "text": [
      "The average RTT Retransmission is 63.729294482330296\n"
     ]
    }
   ],
   "source": [
    "total_average_rtt_retransmission = (mean_rtt_dl + mean_rtt_ul)/2\n",
    "print (f\"The average RTT Retransmission is {total_average_rtt_retransmission}\")"
   ]
  },
  {
   "cell_type": "markdown",
   "metadata": {},
   "source": [
    "Average Throughput"
   ]
  },
  {
   "cell_type": "code",
   "execution_count": 180,
   "metadata": {},
   "outputs": [
    {
     "name": "stdout",
     "output_type": "stream",
     "text": [
      "The average throughput on Downlink is 454643430.0789667\n"
     ]
    }
   ],
   "source": [
    "mean_total_throughput_downlink = data_source[\"Total DL (Bytes)\"].mean()\n",
    "print(f\"The average throughput on Downlink is {mean_total_throughput_downlink}\")"
   ]
  },
  {
   "cell_type": "code",
   "execution_count": 181,
   "metadata": {},
   "outputs": [
    {
     "name": "stdout",
     "output_type": "stream",
     "text": [
      "The average throughput on Uplink is 41121206.292106666\n"
     ]
    }
   ],
   "source": [
    "mean_total_throughput_uplink = data_source[\"Total UL (Bytes)\"].mean()\n",
    "print(f\"The average throughput on Uplink is {mean_total_throughput_uplink}\")"
   ]
  },
  {
   "cell_type": "code",
   "execution_count": 183,
   "metadata": {},
   "outputs": [
    {
     "name": "stdout",
     "output_type": "stream",
     "text": [
      "The average Throughput is 247882318.18553668\n"
     ]
    }
   ],
   "source": [
    "total_average_thoughput = (mean_total_throughput_downlink + mean_total_throughput_uplink)/2\n",
    "print (f\"The average Throughput is {total_average_thoughput}\")"
   ]
  },
  {
   "cell_type": "code",
   "execution_count": null,
   "metadata": {},
   "outputs": [],
   "source": []
  }
 ],
 "metadata": {
  "kernelspec": {
   "display_name": "Python 3",
   "language": "python",
   "name": "python3"
  },
  "language_info": {
   "codemirror_mode": {
    "name": "ipython",
    "version": 3
   },
   "file_extension": ".py",
   "mimetype": "text/x-python",
   "name": "python",
   "nbconvert_exporter": "python",
   "pygments_lexer": "ipython3",
   "version": "3.7.6"
  }
 },
 "nbformat": 4,
 "nbformat_minor": 4
}
